{
 "cells": [
  {
   "cell_type": "code",
   "execution_count": 1,
   "metadata": {},
   "outputs": [],
   "source": [
    "import glob\n",
    "import pandas as pd\n",
    "import clima_anom as ca\n",
    "import subprocess\n",
    "\n",
    "import os\n",
    "from os.path import exists as file_exists"
   ]
  },
  {
   "cell_type": "markdown",
   "metadata": {},
   "source": [
    "### INFO\n",
    "Link: https://disc.gsfc.nasa.gov/datasets/GPM_3IMERGDF_06/summary\n",
    "\n",
    "Dataset: GPM IMERG Final Precipitation L3 1 day 0.1 degree x 0.1 degree V06\n",
    "\n",
    "Download Method: Get File Subsets using OPeNDAP\n",
    "\n",
    "Date Range: 2001-01-01 to 2020-12-31\n",
    "\n",
    "Region: -85, -45, -30, 15 (Search and Crop)\n",
    "\n",
    "Variables: precipitationCal\n",
    "\n",
    "Format: netCDF\n"
   ]
  },
  {
   "cell_type": "code",
   "execution_count": 2,
   "metadata": {},
   "outputs": [],
   "source": [
    "USER=os.environ['IMERG_USER']\n",
    "PASS=os.environ['IMERG_PASS']"
   ]
  },
  {
   "cell_type": "code",
   "execution_count": 3,
   "metadata": {},
   "outputs": [
    {
     "name": "stdout",
     "output_type": "stream",
     "text": [
      "Number of files to download: 33\n"
     ]
    }
   ],
   "source": [
    "list_txt = '/mnt/Data/Data/IMERG/List/IMERG_Final_Prec_L3_daily_01x01_2000_12_2000_12.txt'\n",
    "with open(list_txt) as f:\n",
    "    file_download = f.readlines()\n",
    "\n",
    "len_files = len(file_download)\n",
    "print(f'Number of files to download: {len_files}')"
   ]
  },
  {
   "cell_type": "code",
   "execution_count": 4,
   "metadata": {},
   "outputs": [
    {
     "name": "stdout",
     "output_type": "stream",
     "text": [
      "3IMERG_20001201-S000000-E235959_V06\n",
      "3IMERG_20001202-S000000-E235959_V06\n",
      "3IMERG_20001203-S000000-E235959_V06\n",
      "3IMERG_20001204-S000000-E235959_V06\n",
      "3IMERG_20001205-S000000-E235959_V06\n",
      "3IMERG_20001206-S000000-E235959_V06\n",
      "3IMERG_20001207-S000000-E235959_V06\n",
      "3IMERG_20001208-S000000-E235959_V06\n"
     ]
    }
   ],
   "source": [
    "for t in range(2,10):\n",
    "    name1 = file_download[t].split('/')[8].split('.')[3]+'_'+file_download[t].split('/')[8].split('.')[4]+'_'+file_download[t].split('/')[8].split('.')[5]\n",
    "    print(name1)"
   ]
  },
  {
   "cell_type": "code",
   "execution_count": 5,
   "metadata": {},
   "outputs": [
    {
     "name": "stderr",
     "output_type": "stream",
     "text": [
      "--2022-05-26 22:51:43--  https://gpm1.gesdisc.eosdis.nasa.gov/opendap/GPM_L3/GPM_3IMERGDF.06/2000/12/3B-DAY.MS.MRG.3IMERG.20001220-S000000-E235959.V06.nc4.nc4?precipitationCal[0:0][950:1499][449:1049],time,lon[950:1499],lat[449:1049]%0A\n",
      "Resolving gpm1.gesdisc.eosdis.nasa.gov (gpm1.gesdisc.eosdis.nasa.gov)... 2001:4d0:241a:4041::50, 198.118.197.50\n",
      "Connecting to gpm1.gesdisc.eosdis.nasa.gov (gpm1.gesdisc.eosdis.nasa.gov)|2001:4d0:241a:4041::50|:443... connected.\n",
      "HTTP request sent, awaiting response... 302 Found\n",
      "Location: https://urs.earthdata.nasa.gov/oauth/authorize/?scope=uid&app_type=401&client_id=e2WVk8Pw6weeLUKZYOxvTQ&response_type=code&redirect_uri=https%3A%2F%2Fgpm1.gesdisc.eosdis.nasa.gov%2Fdata-redirect&state=aHR0cHM6Ly9ncG0xLmdlc2Rpc2MuZW9zZGlzLm5hc2EuZ292L29wZW5kYXAvR1BNX0wzL0dQTV8zSU1FUkdERi4wNi8yMDAwLzEyLzNCLURBWS5NUy5NUkcuM0lNRVJHLjIwMDAxMjIwLVMwMDAwMDAtRTIzNTk1OS5WMDYubmM0Lm5jND9wcmVjaXBpdGF0aW9uQ2FsWzA6MF1bOTUwOjE0OTldWzQ0OToxMDQ5XSx0aW1lLGxvbls5NTA6MTQ5OV0sbGF0WzQ0OToxMDQ5XSUwQQ [following]\n",
      "--2022-05-26 22:51:43--  https://urs.earthdata.nasa.gov/oauth/authorize/?scope=uid&app_type=401&client_id=e2WVk8Pw6weeLUKZYOxvTQ&response_type=code&redirect_uri=https%3A%2F%2Fgpm1.gesdisc.eosdis.nasa.gov%2Fdata-redirect&state=aHR0cHM6Ly9ncG0xLmdlc2Rpc2MuZW9zZGlzLm5hc2EuZ292L29wZW5kYXAvR1BNX0wzL0dQTV8zSU1FUkdERi4wNi8yMDAwLzEyLzNCLURBWS5NUy5NUkcuM0lNRVJHLjIwMDAxMjIwLVMwMDAwMDAtRTIzNTk1OS5WMDYubmM0Lm5jND9wcmVjaXBpdGF0aW9uQ2FsWzA6MF1bOTUwOjE0OTldWzQ0OToxMDQ5XSx0aW1lLGxvbls5NTA6MTQ5OV0sbGF0WzQ0OToxMDQ5XSUwQQ\n",
      "Resolving urs.earthdata.nasa.gov (urs.earthdata.nasa.gov)... 2001:4d0:241a:4081::89, 198.118.243.33\n",
      "Connecting to urs.earthdata.nasa.gov (urs.earthdata.nasa.gov)|2001:4d0:241a:4081::89|:443... connected.\n",
      "HTTP request sent, awaiting response... 401 Unauthorized\n",
      "Authentication selected: Basic realm=\"Please enter your Earthdata Login credentials. If you do not have a Earthdata Login, create one at https://urs.earthdata.nasa.gov//users/new\"\n",
      "Reusing existing connection to [urs.earthdata.nasa.gov]:443.\n",
      "HTTP request sent, awaiting response... 302 Found\n",
      "Location: https://gpm1.gesdisc.eosdis.nasa.gov/data-redirect?code=de5d9b3091f540c440845f18697f0ce2ff6eaca50468c902150bb0048374fb8e&state=aHR0cHM6Ly9ncG0xLmdlc2Rpc2MuZW9zZGlzLm5hc2EuZ292L29wZW5kYXAvR1BNX0wzL0dQTV8zSU1FUkdERi4wNi8yMDAwLzEyLzNCLURBWS5NUy5NUkcuM0lNRVJHLjIwMDAxMjIwLVMwMDAwMDAtRTIzNTk1OS5WMDYubmM0Lm5jND9wcmVjaXBpdGF0aW9uQ2FsWzA6MF1bOTUwOjE0OTldWzQ0OToxMDQ5XSx0aW1lLGxvbls5NTA6MTQ5OV0sbGF0WzQ0OToxMDQ5XSUwQQ [following]\n",
      "--2022-05-26 22:51:44--  https://gpm1.gesdisc.eosdis.nasa.gov/data-redirect?code=de5d9b3091f540c440845f18697f0ce2ff6eaca50468c902150bb0048374fb8e&state=aHR0cHM6Ly9ncG0xLmdlc2Rpc2MuZW9zZGlzLm5hc2EuZ292L29wZW5kYXAvR1BNX0wzL0dQTV8zSU1FUkdERi4wNi8yMDAwLzEyLzNCLURBWS5NUy5NUkcuM0lNRVJHLjIwMDAxMjIwLVMwMDAwMDAtRTIzNTk1OS5WMDYubmM0Lm5jND9wcmVjaXBpdGF0aW9uQ2FsWzA6MF1bOTUwOjE0OTldWzQ0OToxMDQ5XSx0aW1lLGxvbls5NTA6MTQ5OV0sbGF0WzQ0OToxMDQ5XSUwQQ\n",
      "Connecting to gpm1.gesdisc.eosdis.nasa.gov (gpm1.gesdisc.eosdis.nasa.gov)|2001:4d0:241a:4041::50|:443... connected.\n",
      "HTTP request sent, awaiting response... 302 Found\n",
      "Location: https://gpm1.gesdisc.eosdis.nasa.gov/opendap/GPM_L3/GPM_3IMERGDF.06/2000/12/3B-DAY.MS.MRG.3IMERG.20001220-S000000-E235959.V06.nc4.nc4?precipitationCal[0:0][950:1499][449:1049],time,lon[950:1499],lat[449:1049]%0A [following]\n",
      "--2022-05-26 22:51:45--  https://gpm1.gesdisc.eosdis.nasa.gov/opendap/GPM_L3/GPM_3IMERGDF.06/2000/12/3B-DAY.MS.MRG.3IMERG.20001220-S000000-E235959.V06.nc4.nc4?precipitationCal[0:0][950:1499][449:1049],time,lon[950:1499],lat[449:1049]%0A\n",
      "Connecting to gpm1.gesdisc.eosdis.nasa.gov (gpm1.gesdisc.eosdis.nasa.gov)|2001:4d0:241a:4041::50|:443... connected.\n",
      "HTTP request sent, awaiting response... 200 OK\n",
      "Length: unspecified [application/x-netcdf]\n",
      "Saving to: ‘/mnt/Data/Data/IMERG/raw_1dy/3IMERG_20001220-S000000-E235959_V06.nc’\n",
      "\n",
      "     0K .......... .......... .......... .......... ..........  172K\n",
      "    50K .......... .......... .......... .......... ..........  339K\n",
      "   100K .......... .......... .......... .......... .......... 6,29M\n",
      "   150K .......... .......... .......... .......... ..........  330K\n",
      "   200K .......... .......... .......... .......... .......... 6,73M\n",
      "   250K .......... .......... .......... .......... .......... 7,05M\n",
      "   300K .......... .......... .......... .......... .......... 4,40M\n",
      "   350K .......... .......... .......... .......... ..........  273K\n",
      "   400K .......... .......... .......... .......... .......... 12,5M\n",
      "   450K .......... .......... .......... .......... .......... 6,24M\n",
      "   500K .......... .......... .......... .......... .......... 7,79M\n",
      "   550K .......... .......... .......... .......... .......... 6,77M\n",
      "   600K .......... .......... .......... .......... .......... 14,5M\n",
      "   650K .......... .......... .......... .......... .......... 2,63M\n",
      "   700K .......... .......... .......... ........              39,3M=0,9s\n",
      "\n",
      "2022-05-26 22:51:47 (864 KB/s) - ‘/mnt/Data/Data/IMERG/raw_1dy/3IMERG_20001220-S000000-E235959_V06.nc’ saved [755736]\n",
      "\n",
      "--2022-05-26 22:51:47--  https://gpm1.gesdisc.eosdis.nasa.gov/opendap/GPM_L3/GPM_3IMERGDF.06/2000/12/3B-DAY.MS.MRG.3IMERG.20001222-S000000-E235959.V06.nc4.nc4?precipitationCal[0:0][950:1499][449:1049],time,lon[950:1499],lat[449:1049]%0A\n",
      "Resolving gpm1.gesdisc.eosdis.nasa.gov (gpm1.gesdisc.eosdis.nasa.gov)... 2001:4d0:241a:4041::50, 198.118.197.50\n",
      "Connecting to gpm1.gesdisc.eosdis.nasa.gov (gpm1.gesdisc.eosdis.nasa.gov)|2001:4d0:241a:4041::50|:443... connected.\n",
      "HTTP request sent, awaiting response... 302 Found\n",
      "Location: https://urs.earthdata.nasa.gov/oauth/authorize/?scope=uid&app_type=401&client_id=e2WVk8Pw6weeLUKZYOxvTQ&response_type=code&redirect_uri=https%3A%2F%2Fgpm1.gesdisc.eosdis.nasa.gov%2Fdata-redirect&state=aHR0cHM6Ly9ncG0xLmdlc2Rpc2MuZW9zZGlzLm5hc2EuZ292L29wZW5kYXAvR1BNX0wzL0dQTV8zSU1FUkdERi4wNi8yMDAwLzEyLzNCLURBWS5NUy5NUkcuM0lNRVJHLjIwMDAxMjIyLVMwMDAwMDAtRTIzNTk1OS5WMDYubmM0Lm5jND9wcmVjaXBpdGF0aW9uQ2FsWzA6MF1bOTUwOjE0OTldWzQ0OToxMDQ5XSx0aW1lLGxvbls5NTA6MTQ5OV0sbGF0WzQ0OToxMDQ5XSUwQQ [following]\n",
      "--2022-05-26 22:51:47--  https://urs.earthdata.nasa.gov/oauth/authorize/?scope=uid&app_type=401&client_id=e2WVk8Pw6weeLUKZYOxvTQ&response_type=code&redirect_uri=https%3A%2F%2Fgpm1.gesdisc.eosdis.nasa.gov%2Fdata-redirect&state=aHR0cHM6Ly9ncG0xLmdlc2Rpc2MuZW9zZGlzLm5hc2EuZ292L29wZW5kYXAvR1BNX0wzL0dQTV8zSU1FUkdERi4wNi8yMDAwLzEyLzNCLURBWS5NUy5NUkcuM0lNRVJHLjIwMDAxMjIyLVMwMDAwMDAtRTIzNTk1OS5WMDYubmM0Lm5jND9wcmVjaXBpdGF0aW9uQ2FsWzA6MF1bOTUwOjE0OTldWzQ0OToxMDQ5XSx0aW1lLGxvbls5NTA6MTQ5OV0sbGF0WzQ0OToxMDQ5XSUwQQ\n",
      "Resolving urs.earthdata.nasa.gov (urs.earthdata.nasa.gov)... 2001:4d0:241a:4081::89, 198.118.243.33\n",
      "Connecting to urs.earthdata.nasa.gov (urs.earthdata.nasa.gov)|2001:4d0:241a:4081::89|:443... connected.\n",
      "HTTP request sent, awaiting response... 401 Unauthorized\n",
      "Authentication selected: Basic realm=\"Please enter your Earthdata Login credentials. If you do not have a Earthdata Login, create one at https://urs.earthdata.nasa.gov//users/new\"\n",
      "Reusing existing connection to [urs.earthdata.nasa.gov]:443.\n",
      "HTTP request sent, awaiting response... 302 Found\n",
      "Location: https://gpm1.gesdisc.eosdis.nasa.gov/data-redirect?code=62c73c6ed142b1f276c16e5750c7c601de4ba58fb19fdf3a98d9003c15badfc3&state=aHR0cHM6Ly9ncG0xLmdlc2Rpc2MuZW9zZGlzLm5hc2EuZ292L29wZW5kYXAvR1BNX0wzL0dQTV8zSU1FUkdERi4wNi8yMDAwLzEyLzNCLURBWS5NUy5NUkcuM0lNRVJHLjIwMDAxMjIyLVMwMDAwMDAtRTIzNTk1OS5WMDYubmM0Lm5jND9wcmVjaXBpdGF0aW9uQ2FsWzA6MF1bOTUwOjE0OTldWzQ0OToxMDQ5XSx0aW1lLGxvbls5NTA6MTQ5OV0sbGF0WzQ0OToxMDQ5XSUwQQ [following]\n",
      "--2022-05-26 22:51:48--  https://gpm1.gesdisc.eosdis.nasa.gov/data-redirect?code=62c73c6ed142b1f276c16e5750c7c601de4ba58fb19fdf3a98d9003c15badfc3&state=aHR0cHM6Ly9ncG0xLmdlc2Rpc2MuZW9zZGlzLm5hc2EuZ292L29wZW5kYXAvR1BNX0wzL0dQTV8zSU1FUkdERi4wNi8yMDAwLzEyLzNCLURBWS5NUy5NUkcuM0lNRVJHLjIwMDAxMjIyLVMwMDAwMDAtRTIzNTk1OS5WMDYubmM0Lm5jND9wcmVjaXBpdGF0aW9uQ2FsWzA6MF1bOTUwOjE0OTldWzQ0OToxMDQ5XSx0aW1lLGxvbls5NTA6MTQ5OV0sbGF0WzQ0OToxMDQ5XSUwQQ\n",
      "Connecting to gpm1.gesdisc.eosdis.nasa.gov (gpm1.gesdisc.eosdis.nasa.gov)|2001:4d0:241a:4041::50|:443... connected.\n",
      "HTTP request sent, awaiting response... 302 Found\n",
      "Location: https://gpm1.gesdisc.eosdis.nasa.gov/opendap/GPM_L3/GPM_3IMERGDF.06/2000/12/3B-DAY.MS.MRG.3IMERG.20001222-S000000-E235959.V06.nc4.nc4?precipitationCal[0:0][950:1499][449:1049],time,lon[950:1499],lat[449:1049]%0A [following]\n",
      "--2022-05-26 22:51:49--  https://gpm1.gesdisc.eosdis.nasa.gov/opendap/GPM_L3/GPM_3IMERGDF.06/2000/12/3B-DAY.MS.MRG.3IMERG.20001222-S000000-E235959.V06.nc4.nc4?precipitationCal[0:0][950:1499][449:1049],time,lon[950:1499],lat[449:1049]%0A\n",
      "Connecting to gpm1.gesdisc.eosdis.nasa.gov (gpm1.gesdisc.eosdis.nasa.gov)|2001:4d0:241a:4041::50|:443... connected.\n",
      "HTTP request sent, awaiting response... 200 OK\n",
      "Length: unspecified [application/x-netcdf]\n",
      "Saving to: ‘/mnt/Data/Data/IMERG/raw_1dy/3IMERG_20001222-S000000-E235959_V06.nc’\n",
      "\n",
      "     0K .......... .......... .......... .......... ..........  169K\n",
      "    50K .......... .......... .......... .......... ..........  344K\n",
      "   100K .......... .......... .......... .......... .......... 7,89M\n",
      "   150K .......... .......... .......... .......... ..........  348K\n",
      "   200K .......... .......... .......... .......... .......... 7,79M\n",
      "   250K .......... .......... .......... .......... .......... 8,26M\n",
      "   300K .......... .......... .......... .......... .......... 11,4M\n",
      "   350K .......... .......... .......... .......... .......... 3,33M\n",
      "   400K .......... .......... .......... .......... ..........  433K\n",
      "   450K .......... .......... .......... .......... .......... 4,35M\n",
      "   500K .......... .......... .......... .......... .......... 9,09M\n",
      "   550K .......... .......... .......... .......... .......... 14,3M\n",
      "   600K .......... .......... .......... .......... .......... 4,22M\n",
      "   650K .......... .......... .......... .......... .......... 5,26M\n",
      "   700K .......... .......... .......... .......... .......... 5,35M\n",
      "   750K .......... .......... .......... .......... .......... 7,62M\n",
      "   800K .......... .......... .......... .......... .......... 38,2M\n",
      "   850K ....                                                   7,97T=0,8s\n",
      "\n",
      "2022-05-26 22:51:51 (1,05 MB/s) - ‘/mnt/Data/Data/IMERG/raw_1dy/3IMERG_20001222-S000000-E235959_V06.nc’ saved [874782]\n",
      "\n",
      "--2022-05-26 22:51:51--  https://gpm1.gesdisc.eosdis.nasa.gov/opendap/GPM_L3/GPM_3IMERGDF.06/2000/12/3B-DAY.MS.MRG.3IMERG.20001225-S000000-E235959.V06.nc4.nc4?precipitationCal[0:0][950:1499][449:1049],time,lon[950:1499],lat[449:1049]%0A\n",
      "Resolving gpm1.gesdisc.eosdis.nasa.gov (gpm1.gesdisc.eosdis.nasa.gov)... 2001:4d0:241a:4041::50, 198.118.197.50\n",
      "Connecting to gpm1.gesdisc.eosdis.nasa.gov (gpm1.gesdisc.eosdis.nasa.gov)|2001:4d0:241a:4041::50|:443... connected.\n",
      "HTTP request sent, awaiting response... 302 Found\n",
      "Location: https://urs.earthdata.nasa.gov/oauth/authorize/?scope=uid&app_type=401&client_id=e2WVk8Pw6weeLUKZYOxvTQ&response_type=code&redirect_uri=https%3A%2F%2Fgpm1.gesdisc.eosdis.nasa.gov%2Fdata-redirect&state=aHR0cHM6Ly9ncG0xLmdlc2Rpc2MuZW9zZGlzLm5hc2EuZ292L29wZW5kYXAvR1BNX0wzL0dQTV8zSU1FUkdERi4wNi8yMDAwLzEyLzNCLURBWS5NUy5NUkcuM0lNRVJHLjIwMDAxMjI1LVMwMDAwMDAtRTIzNTk1OS5WMDYubmM0Lm5jND9wcmVjaXBpdGF0aW9uQ2FsWzA6MF1bOTUwOjE0OTldWzQ0OToxMDQ5XSx0aW1lLGxvbls5NTA6MTQ5OV0sbGF0WzQ0OToxMDQ5XSUwQQ [following]\n",
      "--2022-05-26 22:51:51--  https://urs.earthdata.nasa.gov/oauth/authorize/?scope=uid&app_type=401&client_id=e2WVk8Pw6weeLUKZYOxvTQ&response_type=code&redirect_uri=https%3A%2F%2Fgpm1.gesdisc.eosdis.nasa.gov%2Fdata-redirect&state=aHR0cHM6Ly9ncG0xLmdlc2Rpc2MuZW9zZGlzLm5hc2EuZ292L29wZW5kYXAvR1BNX0wzL0dQTV8zSU1FUkdERi4wNi8yMDAwLzEyLzNCLURBWS5NUy5NUkcuM0lNRVJHLjIwMDAxMjI1LVMwMDAwMDAtRTIzNTk1OS5WMDYubmM0Lm5jND9wcmVjaXBpdGF0aW9uQ2FsWzA6MF1bOTUwOjE0OTldWzQ0OToxMDQ5XSx0aW1lLGxvbls5NTA6MTQ5OV0sbGF0WzQ0OToxMDQ5XSUwQQ\n",
      "Resolving urs.earthdata.nasa.gov (urs.earthdata.nasa.gov)... 2001:4d0:241a:4081::89, 198.118.243.33\n",
      "Connecting to urs.earthdata.nasa.gov (urs.earthdata.nasa.gov)|2001:4d0:241a:4081::89|:443... connected.\n",
      "HTTP request sent, awaiting response... 401 Unauthorized\n",
      "Authentication selected: Basic realm=\"Please enter your Earthdata Login credentials. If you do not have a Earthdata Login, create one at https://urs.earthdata.nasa.gov//users/new\"\n",
      "Reusing existing connection to [urs.earthdata.nasa.gov]:443.\n",
      "HTTP request sent, awaiting response... 302 Found\n",
      "Location: https://gpm1.gesdisc.eosdis.nasa.gov/data-redirect?code=02f60ee653229eb7d7ab47a442881179e17cfe9410e6627f705c9c6a5f245cf6&state=aHR0cHM6Ly9ncG0xLmdlc2Rpc2MuZW9zZGlzLm5hc2EuZ292L29wZW5kYXAvR1BNX0wzL0dQTV8zSU1FUkdERi4wNi8yMDAwLzEyLzNCLURBWS5NUy5NUkcuM0lNRVJHLjIwMDAxMjI1LVMwMDAwMDAtRTIzNTk1OS5WMDYubmM0Lm5jND9wcmVjaXBpdGF0aW9uQ2FsWzA6MF1bOTUwOjE0OTldWzQ0OToxMDQ5XSx0aW1lLGxvbls5NTA6MTQ5OV0sbGF0WzQ0OToxMDQ5XSUwQQ [following]\n",
      "--2022-05-26 22:51:52--  https://gpm1.gesdisc.eosdis.nasa.gov/data-redirect?code=02f60ee653229eb7d7ab47a442881179e17cfe9410e6627f705c9c6a5f245cf6&state=aHR0cHM6Ly9ncG0xLmdlc2Rpc2MuZW9zZGlzLm5hc2EuZ292L29wZW5kYXAvR1BNX0wzL0dQTV8zSU1FUkdERi4wNi8yMDAwLzEyLzNCLURBWS5NUy5NUkcuM0lNRVJHLjIwMDAxMjI1LVMwMDAwMDAtRTIzNTk1OS5WMDYubmM0Lm5jND9wcmVjaXBpdGF0aW9uQ2FsWzA6MF1bOTUwOjE0OTldWzQ0OToxMDQ5XSx0aW1lLGxvbls5NTA6MTQ5OV0sbGF0WzQ0OToxMDQ5XSUwQQ\n",
      "Connecting to gpm1.gesdisc.eosdis.nasa.gov (gpm1.gesdisc.eosdis.nasa.gov)|2001:4d0:241a:4041::50|:443... connected.\n",
      "HTTP request sent, awaiting response... 302 Found\n",
      "Location: https://gpm1.gesdisc.eosdis.nasa.gov/opendap/GPM_L3/GPM_3IMERGDF.06/2000/12/3B-DAY.MS.MRG.3IMERG.20001225-S000000-E235959.V06.nc4.nc4?precipitationCal[0:0][950:1499][449:1049],time,lon[950:1499],lat[449:1049]%0A [following]\n",
      "--2022-05-26 22:51:53--  https://gpm1.gesdisc.eosdis.nasa.gov/opendap/GPM_L3/GPM_3IMERGDF.06/2000/12/3B-DAY.MS.MRG.3IMERG.20001225-S000000-E235959.V06.nc4.nc4?precipitationCal[0:0][950:1499][449:1049],time,lon[950:1499],lat[449:1049]%0A\n",
      "Connecting to gpm1.gesdisc.eosdis.nasa.gov (gpm1.gesdisc.eosdis.nasa.gov)|2001:4d0:241a:4041::50|:443... connected.\n",
      "HTTP request sent, awaiting response... 200 OK\n",
      "Length: unspecified [application/x-netcdf]\n",
      "Saving to: ‘/mnt/Data/Data/IMERG/raw_1dy/3IMERG_20001225-S000000-E235959_V06.nc’\n",
      "\n",
      "     0K .......... .......... .......... .......... ..........  170K\n",
      "    50K .......... .......... .......... .......... ..........  335K\n",
      "   100K .......... .......... .......... .......... .......... 5,74M\n",
      "   150K .......... .......... .......... .......... ..........  332K\n",
      "   200K .......... .......... .......... .......... .......... 7,05M\n",
      "   250K .......... .......... .......... .......... .......... 16,2M\n",
      "   300K .......... .......... .......... .......... .......... 6,45M\n",
      "   350K .......... .......... .......... .......... ..........  385K\n",
      "   400K .......... .......... .......... .......... .......... 6,38M\n",
      "   450K .......... .......... .......... .......... .......... 18,1M\n",
      "   500K .......... .......... .......... .......... .......... 4,80M\n",
      "   550K .......... .......... .......... .......... .......... 7,94M\n",
      "   600K .......... .......... .......... .......... .......... 14,6M\n",
      "   650K .......... .......... .......... .......... .......... 13,5M\n",
      "   700K .......... .......... .......... .......... .......... 4,72M\n",
      "   750K .......... .......... .                                51,8M=0,8s\n",
      "\n",
      "2022-05-26 22:51:55 (971 KB/s) - ‘/mnt/Data/Data/IMERG/raw_1dy/3IMERG_20001225-S000000-E235959_V06.nc’ saved [789571]\n",
      "\n"
     ]
    }
   ],
   "source": [
    "for t in range(2,len_files):\n",
    "    name1 = file_download[t].split('/')[8].split('.')[3]+'_'+file_download[t].split('/')[8].split('.')[4]+'_'+file_download[t].split('/')[8].split('.')[5]\n",
    "    name2 = '/mnt/Data/Data/IMERG/raw_1dy/' + name1 + '.nc'\n",
    "\n",
    "    if  file_exists(name2) == True:\n",
    "        pass\n",
    "    else:\n",
    "        subprocess.run([\"wget\", \"--user\", USER, \"--password\", PASS, file_download[t], \"-O\", name2])"
   ]
  },
  {
   "cell_type": "code",
   "execution_count": null,
   "metadata": {},
   "outputs": [],
   "source": []
  }
 ],
 "metadata": {
  "interpreter": {
   "hash": "c6c4883052875ec3257edf99ee092a790b9a432228222ee7e742d4f8a559e5a8"
  },
  "kernelspec": {
   "display_name": "Python 3.9.7 ('AXE')",
   "language": "python",
   "name": "python3"
  },
  "language_info": {
   "codemirror_mode": {
    "name": "ipython",
    "version": 3
   },
   "file_extension": ".py",
   "mimetype": "text/x-python",
   "name": "python",
   "nbconvert_exporter": "python",
   "pygments_lexer": "ipython3",
   "version": "3.9.7"
  },
  "orig_nbformat": 4
 },
 "nbformat": 4,
 "nbformat_minor": 2
}
