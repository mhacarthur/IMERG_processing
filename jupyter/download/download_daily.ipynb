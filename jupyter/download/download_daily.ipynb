{
 "cells": [
  {
   "cell_type": "code",
   "execution_count": 8,
   "metadata": {},
   "outputs": [],
   "source": [
    "import glob\n",
    "import pandas as pd\n",
    "import clima_anom as ca\n",
    "import subprocess\n",
    "\n",
    "import os\n",
    "from os.path import exists as file_exists"
   ]
  },
  {
   "cell_type": "markdown",
   "metadata": {},
   "source": [
    "### INFO\n",
    "Link: https://disc.gsfc.nasa.gov/datasets/GPM_3IMERGDF_06/summary\n",
    "\n",
    "Dataset: GPM IMERG Final Precipitation L3 1 day 0.1 degree x 0.1 degree V06\n",
    "\n",
    "Download Method: Get File Subsets using OPeNDAP\n",
    "\n",
    "Date Range: 2001-01-01 to 2021-02-28\n",
    "\n",
    "Region: -85, -45, -30, 15 (Search and Crop)\n",
    "\n",
    "Variables: precipitationCal\n",
    "\n",
    "Format: netCDF\n"
   ]
  },
  {
   "cell_type": "code",
   "execution_count": 9,
   "metadata": {},
   "outputs": [],
   "source": [
    "USER=os.environ['IMERG_USER']\n",
    "PASS=os.environ['IMERG_PASS']"
   ]
  },
  {
   "cell_type": "code",
   "execution_count": 10,
   "metadata": {},
   "outputs": [
    {
     "name": "stdout",
     "output_type": "stream",
     "text": [
      "Number of files to download: 61\n"
     ]
    }
   ],
   "source": [
    "list_txt = '/mnt/Data/Data/IMERG/List/IMERG_Final_Prec_L3_daily_01x01_2021_01_2021_02.txt'\n",
    "with open(list_txt) as f:\n",
    "    file_download = f.readlines()\n",
    "\n",
    "len_files = len(file_download)\n",
    "print(f'Number of files to download: {len_files}')"
   ]
  },
  {
   "cell_type": "code",
   "execution_count": 11,
   "metadata": {},
   "outputs": [
    {
     "name": "stdout",
     "output_type": "stream",
     "text": [
      "3IMERG_20210101-S000000-E235959_V06\n",
      "3IMERG_20210102-S000000-E235959_V06\n",
      "3IMERG_20210103-S000000-E235959_V06\n",
      "3IMERG_20210104-S000000-E235959_V06\n",
      "3IMERG_20210105-S000000-E235959_V06\n",
      "3IMERG_20210106-S000000-E235959_V06\n",
      "3IMERG_20210107-S000000-E235959_V06\n",
      "3IMERG_20210108-S000000-E235959_V06\n"
     ]
    }
   ],
   "source": [
    "for t in range(2,10):\n",
    "    name1 = file_download[t].split('/')[8].split('.')[3]+'_'+file_download[t].split('/')[8].split('.')[4]+'_'+file_download[t].split('/')[8].split('.')[5]\n",
    "    print(name1)"
   ]
  },
  {
   "cell_type": "code",
   "execution_count": 12,
   "metadata": {},
   "outputs": [
    {
     "name": "stderr",
     "output_type": "stream",
     "text": [
      "--2022-05-27 08:05:03--  https://gpm1.gesdisc.eosdis.nasa.gov/opendap/GPM_L3/GPM_3IMERGDF.06/2021/02/3B-DAY.MS.MRG.3IMERG.20210220-S000000-E235959.V06.nc4.nc4?precipitationCal[0:0][950:1499][449:1049],time,lon[950:1499],lat[449:1049]%0A\n",
      "Resolving gpm1.gesdisc.eosdis.nasa.gov (gpm1.gesdisc.eosdis.nasa.gov)... 2001:4d0:241a:4041::50, 198.118.197.50\n",
      "Connecting to gpm1.gesdisc.eosdis.nasa.gov (gpm1.gesdisc.eosdis.nasa.gov)|2001:4d0:241a:4041::50|:443... connected.\n",
      "HTTP request sent, awaiting response... 302 Found\n",
      "Location: https://urs.earthdata.nasa.gov/oauth/authorize/?scope=uid&app_type=401&client_id=e2WVk8Pw6weeLUKZYOxvTQ&response_type=code&redirect_uri=https%3A%2F%2Fgpm1.gesdisc.eosdis.nasa.gov%2Fdata-redirect&state=aHR0cHM6Ly9ncG0xLmdlc2Rpc2MuZW9zZGlzLm5hc2EuZ292L29wZW5kYXAvR1BNX0wzL0dQTV8zSU1FUkdERi4wNi8yMDIxLzAyLzNCLURBWS5NUy5NUkcuM0lNRVJHLjIwMjEwMjIwLVMwMDAwMDAtRTIzNTk1OS5WMDYubmM0Lm5jND9wcmVjaXBpdGF0aW9uQ2FsWzA6MF1bOTUwOjE0OTldWzQ0OToxMDQ5XSx0aW1lLGxvbls5NTA6MTQ5OV0sbGF0WzQ0OToxMDQ5XSUwQQ [following]\n",
      "--2022-05-27 08:05:04--  https://urs.earthdata.nasa.gov/oauth/authorize/?scope=uid&app_type=401&client_id=e2WVk8Pw6weeLUKZYOxvTQ&response_type=code&redirect_uri=https%3A%2F%2Fgpm1.gesdisc.eosdis.nasa.gov%2Fdata-redirect&state=aHR0cHM6Ly9ncG0xLmdlc2Rpc2MuZW9zZGlzLm5hc2EuZ292L29wZW5kYXAvR1BNX0wzL0dQTV8zSU1FUkdERi4wNi8yMDIxLzAyLzNCLURBWS5NUy5NUkcuM0lNRVJHLjIwMjEwMjIwLVMwMDAwMDAtRTIzNTk1OS5WMDYubmM0Lm5jND9wcmVjaXBpdGF0aW9uQ2FsWzA6MF1bOTUwOjE0OTldWzQ0OToxMDQ5XSx0aW1lLGxvbls5NTA6MTQ5OV0sbGF0WzQ0OToxMDQ5XSUwQQ\n",
      "Resolving urs.earthdata.nasa.gov (urs.earthdata.nasa.gov)... 2001:4d0:241a:4081::89, 198.118.243.33\n",
      "Connecting to urs.earthdata.nasa.gov (urs.earthdata.nasa.gov)|2001:4d0:241a:4081::89|:443... connected.\n",
      "HTTP request sent, awaiting response... 401 Unauthorized\n",
      "Authentication selected: Basic realm=\"Please enter your Earthdata Login credentials. If you do not have a Earthdata Login, create one at https://urs.earthdata.nasa.gov//users/new\"\n",
      "Reusing existing connection to [urs.earthdata.nasa.gov]:443.\n",
      "HTTP request sent, awaiting response... 302 Found\n",
      "Location: https://gpm1.gesdisc.eosdis.nasa.gov/data-redirect?code=ebaba24799f2974bfe9b2098b5d27d803d6636a8c4cf5336cf20972133bf2352&state=aHR0cHM6Ly9ncG0xLmdlc2Rpc2MuZW9zZGlzLm5hc2EuZ292L29wZW5kYXAvR1BNX0wzL0dQTV8zSU1FUkdERi4wNi8yMDIxLzAyLzNCLURBWS5NUy5NUkcuM0lNRVJHLjIwMjEwMjIwLVMwMDAwMDAtRTIzNTk1OS5WMDYubmM0Lm5jND9wcmVjaXBpdGF0aW9uQ2FsWzA6MF1bOTUwOjE0OTldWzQ0OToxMDQ5XSx0aW1lLGxvbls5NTA6MTQ5OV0sbGF0WzQ0OToxMDQ5XSUwQQ [following]\n",
      "--2022-05-27 08:05:05--  https://gpm1.gesdisc.eosdis.nasa.gov/data-redirect?code=ebaba24799f2974bfe9b2098b5d27d803d6636a8c4cf5336cf20972133bf2352&state=aHR0cHM6Ly9ncG0xLmdlc2Rpc2MuZW9zZGlzLm5hc2EuZ292L29wZW5kYXAvR1BNX0wzL0dQTV8zSU1FUkdERi4wNi8yMDIxLzAyLzNCLURBWS5NUy5NUkcuM0lNRVJHLjIwMjEwMjIwLVMwMDAwMDAtRTIzNTk1OS5WMDYubmM0Lm5jND9wcmVjaXBpdGF0aW9uQ2FsWzA6MF1bOTUwOjE0OTldWzQ0OToxMDQ5XSx0aW1lLGxvbls5NTA6MTQ5OV0sbGF0WzQ0OToxMDQ5XSUwQQ\n",
      "Connecting to gpm1.gesdisc.eosdis.nasa.gov (gpm1.gesdisc.eosdis.nasa.gov)|2001:4d0:241a:4041::50|:443... connected.\n",
      "HTTP request sent, awaiting response... 302 Found\n",
      "Location: https://gpm1.gesdisc.eosdis.nasa.gov/opendap/GPM_L3/GPM_3IMERGDF.06/2021/02/3B-DAY.MS.MRG.3IMERG.20210220-S000000-E235959.V06.nc4.nc4?precipitationCal[0:0][950:1499][449:1049],time,lon[950:1499],lat[449:1049]%0A [following]\n",
      "--2022-05-27 08:05:06--  https://gpm1.gesdisc.eosdis.nasa.gov/opendap/GPM_L3/GPM_3IMERGDF.06/2021/02/3B-DAY.MS.MRG.3IMERG.20210220-S000000-E235959.V06.nc4.nc4?precipitationCal[0:0][950:1499][449:1049],time,lon[950:1499],lat[449:1049]%0A\n",
      "Connecting to gpm1.gesdisc.eosdis.nasa.gov (gpm1.gesdisc.eosdis.nasa.gov)|2001:4d0:241a:4041::50|:443... connected.\n",
      "HTTP request sent, awaiting response... 200 OK\n",
      "Length: unspecified [application/x-netcdf]\n",
      "Saving to: ‘/mnt/Data/Data/IMERG/raw_1dy/3IMERG_20210220-S000000-E235959_V06.nc’\n",
      "\n",
      "     0K .......... .......... .......... .......... ..........  118K\n",
      "    50K .......... .......... .......... .......... ..........  237K\n",
      "   100K .......... .......... .......... .......... .......... 74,7M\n",
      "   150K .......... .......... .......... .......... ..........  241K\n",
      "   200K .......... .......... .......... .......... .......... 10,1M\n",
      "   250K .......... .......... .......... .......... .......... 4,17M\n",
      "   300K .......... .......... .......... .......... .......... 54,1M\n",
      "   350K .......... .......... .......... .......... .......... 1,10M\n",
      "   400K .......... .......... .......... .......... ..........  530K\n",
      "   450K .......... .......... .......... .......... .......... 72,4M\n",
      "   500K .......... .......... .......... .......... .......... 4,27M\n",
      "   550K .......... .......... .......... .......... .......... 2,75M\n",
      "   600K .......... .......... .......... .......... .......... 3,36M\n",
      "   650K .......... .......... .......... .......... .......... 53,8M\n",
      "   700K .......... .......... .......... .......... .......... 21,1M\n",
      "   750K .......... ..........                                  6,45M=1,0s\n",
      "\n",
      "2022-05-27 08:05:09 (734 KB/s) - ‘/mnt/Data/Data/IMERG/raw_1dy/3IMERG_20210220-S000000-E235959_V06.nc’ saved [788707]\n",
      "\n"
     ]
    }
   ],
   "source": [
    "for t in range(2,len_files):\n",
    "    name1 = file_download[t].split('/')[8].split('.')[3]+'_'+file_download[t].split('/')[8].split('.')[4]+'_'+file_download[t].split('/')[8].split('.')[5]\n",
    "    name2 = '/mnt/Data/Data/IMERG/raw_1dy/' + name1 + '.nc'\n",
    "\n",
    "    if  file_exists(name2) == True:\n",
    "        pass\n",
    "    else:\n",
    "        subprocess.run([\"wget\", \"--user\", USER, \"--password\", PASS, file_download[t], \"-O\", name2])"
   ]
  },
  {
   "cell_type": "code",
   "execution_count": null,
   "metadata": {},
   "outputs": [],
   "source": []
  }
 ],
 "metadata": {
  "interpreter": {
   "hash": "c6c4883052875ec3257edf99ee092a790b9a432228222ee7e742d4f8a559e5a8"
  },
  "kernelspec": {
   "display_name": "Python 3.9.7 ('AXE')",
   "language": "python",
   "name": "python3"
  },
  "language_info": {
   "codemirror_mode": {
    "name": "ipython",
    "version": 3
   },
   "file_extension": ".py",
   "mimetype": "text/x-python",
   "name": "python",
   "nbconvert_exporter": "python",
   "pygments_lexer": "ipython3",
   "version": "3.9.7"
  },
  "orig_nbformat": 4
 },
 "nbformat": 4,
 "nbformat_minor": 2
}
