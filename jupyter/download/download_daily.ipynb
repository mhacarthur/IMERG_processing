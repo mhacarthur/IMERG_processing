{
 "cells": [
  {
   "cell_type": "code",
   "execution_count": 1,
   "metadata": {},
   "outputs": [],
   "source": [
    "import glob\n",
    "import pandas as pd\n",
    "import clima_anom as ca\n",
    "import subprocess\n",
    "\n",
    "import os\n",
    "from os.path import exists as file_exists"
   ]
  },
  {
   "cell_type": "markdown",
   "metadata": {},
   "source": [
    "### Dataset: GPM IMERG Final Precipitation L3 1 day 0.1 degree x 0.1 degree V06\n",
    "Link: https://disc.gsfc.nasa.gov/datasets/GPM_3IMERGDF_06/summar"
   ]
  },
  {
   "cell_type": "markdown",
   "metadata": {},
   "source": [
    "### INNFO\n",
    "Download Method: Get File Subsets using OPeNDAP\n",
    "\n",
    "Date Range: 2001-01-01 to 2021-02-28\n",
    "\n",
    "Region: -85, -45, -30, 15 (Search and Crop)\n",
    "\n",
    "Variables: precipitationCal\n",
    "\n",
    "Format: netCDF"
   ]
  },
  {
   "cell_type": "code",
   "execution_count": 2,
   "metadata": {},
   "outputs": [],
   "source": [
    "USER=os.environ['IMERG_USER']\n",
    "PASS=os.environ['IMERG_PASS']"
   ]
  },
  {
   "cell_type": "code",
   "execution_count": 3,
   "metadata": {},
   "outputs": [
    {
     "name": "stdout",
     "output_type": "stream",
     "text": [
      "Number of files to download: 7702\n"
     ]
    }
   ],
   "source": [
    "# list_txt = '/mnt/Data/Data/IMERG/List/IMERG_Final_Prec_L3_daily_01x01_2021_01_2021_02.txt'\n",
    "list_txt = '/mnt/Data/Github/Padova/list/GPM_3IMERGDF_V06_2000_06_01_2021_06_30.txt'\n",
    "with open(list_txt) as f:\n",
    "    file_download = f.readlines()\n",
    "\n",
    "len_files = len(file_download)\n",
    "print(f'Number of files to download: {len_files}')"
   ]
  },
  {
   "cell_type": "code",
   "execution_count": 4,
   "metadata": {},
   "outputs": [
    {
     "name": "stdout",
     "output_type": "stream",
     "text": [
      "3IMERG_20000601-S000000-E235959_V06\n",
      "3IMERG_20000602-S000000-E235959_V06\n",
      "3IMERG_20000603-S000000-E235959_V06\n",
      "3IMERG_20000604-S000000-E235959_V06\n",
      "3IMERG_20000605-S000000-E235959_V06\n",
      "3IMERG_20000606-S000000-E235959_V06\n",
      "3IMERG_20000607-S000000-E235959_V06\n",
      "3IMERG_20000608-S000000-E235959_V06\n"
     ]
    }
   ],
   "source": [
    "for t in range(2,10):\n",
    "    name1 = file_download[t].split('/')[8].split('.')[3]+'_'+file_download[t].split('/')[8].split('.')[4]+'_'+file_download[t].split('/')[8].split('.')[5]\n",
    "    print(name1)"
   ]
  },
  {
   "cell_type": "code",
   "execution_count": 5,
   "metadata": {},
   "outputs": [],
   "source": [
    "for t in range(2,len_files):\n",
    "    name1 = file_download[t].split('/')[8].split('.')[3]+'_'+file_download[t].split('/')[8].split('.')[4]+'_'+file_download[t].split('/')[8].split('.')[5]\n",
    "    name2 = '/mnt/Data/Data/IMERG/raw/Padova_1dy_raw/' + name1 + '.nc'\n",
    "\n",
    "    if  file_exists(name2) == True:\n",
    "        pass\n",
    "    else:\n",
    "        subprocess.run([\"wget\", \"--user\", USER, \"--password\", PASS, file_download[t], \"-O\", name2])"
   ]
  },
  {
   "cell_type": "code",
   "execution_count": null,
   "metadata": {},
   "outputs": [],
   "source": []
  }
 ],
 "metadata": {
  "interpreter": {
   "hash": "c6c4883052875ec3257edf99ee092a790b9a432228222ee7e742d4f8a559e5a8"
  },
  "kernelspec": {
   "display_name": "Python 3.9.7 ('AXE')",
   "language": "python",
   "name": "python3"
  },
  "language_info": {
   "codemirror_mode": {
    "name": "ipython",
    "version": 3
   },
   "file_extension": ".py",
   "mimetype": "text/x-python",
   "name": "python",
   "nbconvert_exporter": "python",
   "pygments_lexer": "ipython3",
   "version": "3.11.6"
  },
  "orig_nbformat": 4
 },
 "nbformat": 4,
 "nbformat_minor": 2
}
