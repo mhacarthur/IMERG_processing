{
 "cells": [
  {
   "cell_type": "code",
   "execution_count": 2,
   "metadata": {},
   "outputs": [],
   "source": [
    "import glob\n",
    "import pandas as pd\n",
    "import clima_anom as ca\n",
    "import subprocess\n",
    "\n",
    "import os\n",
    "from os.path import exists as file_exists"
   ]
  },
  {
   "cell_type": "markdown",
   "metadata": {},
   "source": [
    "### INFO\n",
    "Link: https://disc.gsfc.nasa.gov/datasets/GPM_3IMERGM_06/summary\n",
    "\n",
    "Dataset: GPM IMERG Final Precipitation L3 1 month 0.1 degree x 0.1 degree V06\n",
    "\n",
    "Download Method: Get File Subsets using OPeNDAP\n",
    "\n",
    "Date Range: 2000-12-01 to 2021-02-28\n",
    "\n",
    "Region: -85, -45, -30, 15 (Search and Crop)\n",
    "\n",
    "Variables: precipitation\n",
    "\n",
    "Format: netCDF\n"
   ]
  },
  {
   "cell_type": "code",
   "execution_count": 3,
   "metadata": {},
   "outputs": [],
   "source": [
    "USER=os.environ['IMERG_USER']\n",
    "PASS=os.environ['IMERG_PASS']"
   ]
  },
  {
   "cell_type": "code",
   "execution_count": 4,
   "metadata": {},
   "outputs": [
    {
     "name": "stdout",
     "output_type": "stream",
     "text": [
      "Number of files to download: 242\n"
     ]
    }
   ],
   "source": [
    "# list_txt = '/mnt/Data/Data/IMERG/List/IMERG_Final_Prec_L3_monthly_01x01_2000_12_2021_02.txt'\n",
    "# list_txt = '/run/media/arturo/Arturo/Data/IMERG/List/IMERG_Final_Prec_L3_monthly_01x01_2000_12_2021_02.txt'\n",
    "list_txt = '../../list/IMERG_1mo_2001_01_2021_12_v2.txt'\n",
    "\n",
    "# with open(list_txt) as f:\n",
    "    # file_download = f.readlines()\n",
    "\n",
    "file_download = pd.read_csv(list_txt, header=None, sep=' ')\n",
    "\n",
    "len_files = len(file_download)\n",
    "print(f'Number of files to download: {len_files}')"
   ]
  },
  {
   "cell_type": "code",
   "execution_count": 6,
   "metadata": {},
   "outputs": [
    {
     "name": "stdout",
     "output_type": "stream",
     "text": [
      "3IMERG.20010101-S000000-E235959.01.V06B\n",
      "3IMERG.20010201-S000000-E235959.02.V06B\n",
      "3IMERG.20010301-S000000-E235959.03.V06B\n",
      "3IMERG.20010401-S000000-E235959.04.V06B\n",
      "3IMERG.20010501-S000000-E235959.05.V06B\n",
      "3IMERG.20010601-S000000-E235959.06.V06B\n",
      "3IMERG.20010701-S000000-E235959.07.V06B\n",
      "3IMERG.20010801-S000000-E235959.08.V06B\n"
     ]
    }
   ],
   "source": [
    "for t in range(2,10):\n",
    "    name1 = file_download[0][t].split('/')[-1][13:52]\n",
    "    print(name1)"
   ]
  },
  {
   "cell_type": "code",
   "execution_count": 9,
   "metadata": {},
   "outputs": [],
   "source": [
    "for t in range(2,3):#len_files\n",
    "    name1 = file_download[0][t].split('/')[-1][13:52]\n",
    "    # name2 = '/mnt/Data/Data/IMERG/raw_month/' + name1 + '.nc'\n",
    "    name2 = 'D://Data//IMERG//raw//monthly//' + name1 + '.nc'\n",
    "\n",
    "    if  file_exists(name2) == True:\n",
    "        pass\n",
    "    else:\n",
    "        subprocess.run([\"wget\", \"--user\", USER, \"--password\", PASS, file_download[0][t], \"-O\", name2])"
   ]
  },
  {
   "cell_type": "code",
   "execution_count": null,
   "metadata": {},
   "outputs": [],
   "source": []
  }
 ],
 "metadata": {
  "interpreter": {
   "hash": "c6c4883052875ec3257edf99ee092a790b9a432228222ee7e742d4f8a559e5a8"
  },
  "kernelspec": {
   "display_name": "Python 3.9.12 ('AXE')",
   "language": "python",
   "name": "python3"
  },
  "language_info": {
   "codemirror_mode": {
    "name": "ipython",
    "version": 3
   },
   "file_extension": ".py",
   "mimetype": "text/x-python",
   "name": "python",
   "nbconvert_exporter": "python",
   "pygments_lexer": "ipython3",
   "version": "3.11.3"
  },
  "orig_nbformat": 4
 },
 "nbformat": 4,
 "nbformat_minor": 2
}
