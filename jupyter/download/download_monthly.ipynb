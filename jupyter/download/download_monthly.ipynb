{
 "cells": [
  {
   "cell_type": "code",
   "execution_count": 6,
   "metadata": {},
   "outputs": [],
   "source": [
    "import glob\n",
    "import pandas as pd\n",
    "import clima_anom as ca\n",
    "import subprocess\n",
    "\n",
    "import os\n",
    "from os.path import exists as file_exists"
   ]
  },
  {
   "cell_type": "markdown",
   "metadata": {},
   "source": [
    "### INFO\n",
    "Link: https://disc.gsfc.nasa.gov/datasets/GPM_3IMERGM_06/summary\n",
    "\n",
    "Dataset: GPM IMERG Final Precipitation L3 1 month 0.1 degree x 0.1 degree V06\n",
    "\n",
    "Download Method: Get File Subsets using OPeNDAP\n",
    "\n",
    "Date Range: 2000-12-01 to 2021-02-28\n",
    "\n",
    "Region: -85, -45, -30, 15 (Search and Crop)\n",
    "\n",
    "Variables: precipitation\n",
    "\n",
    "Format: netCDF\n"
   ]
  },
  {
   "cell_type": "code",
   "execution_count": 7,
   "metadata": {},
   "outputs": [],
   "source": [
    "USER='arturo66cta@gmail.com'\n",
    "PASS='Mazamorra2328'"
   ]
  },
  {
   "cell_type": "code",
   "execution_count": 8,
   "metadata": {},
   "outputs": [
    {
     "name": "stdout",
     "output_type": "stream",
     "text": [
      "Number of files to download: 245\n"
     ]
    }
   ],
   "source": [
    "# list_txt = '/mnt/Data/Data/IMERG/List/IMERG_Final_Prec_L3_daily_01x01_2021_01_2021_02.txt'\n",
    "list_txt = '/run/media/arturo/Arturo/Data/IMERG/List/IMERG_Final_Prec_L3_monthly_01x01_2000_12_2021_02.txt'\n",
    "with open(list_txt) as f:\n",
    "    file_download = f.readlines()\n",
    "\n",
    "len_files = len(file_download)\n",
    "print(f'Number of files to download: {len_files}')"
   ]
  },
  {
   "cell_type": "code",
   "execution_count": 9,
   "metadata": {},
   "outputs": [
    {
     "name": "stdout",
     "output_type": "stream",
     "text": [
      "3IMERG.20001201-S000000-E235959.12.V06B\n",
      "3IMERG.20010101-S000000-E235959.01.V06B\n",
      "3IMERG.20010201-S000000-E235959.02.V06B\n",
      "3IMERG.20010301-S000000-E235959.03.V06B\n",
      "3IMERG.20010401-S000000-E235959.04.V06B\n",
      "3IMERG.20010501-S000000-E235959.05.V06B\n",
      "3IMERG.20010601-S000000-E235959.06.V06B\n",
      "3IMERG.20010701-S000000-E235959.07.V06B\n"
     ]
    }
   ],
   "source": [
    "for t in range(2,10):\n",
    "    name1 = file_download[t].split('/')[-1][13:52]\n",
    "    print(name1)"
   ]
  },
  {
   "cell_type": "code",
   "execution_count": 10,
   "metadata": {},
   "outputs": [
    {
     "name": "stderr",
     "output_type": "stream",
     "text": [
      "--2022-06-01 19:23:02--  https://gpm1.gesdisc.eosdis.nasa.gov/opendap/GPM_L3/GPM_3IMERGM.06/2011/3B-MO.MS.MRG.3IMERG.20110901-S000000-E235959.09.V06B.HDF5.nc4?precipitation[0:0][950:1499][449:1049],time,lon[950:1499],lat[449:1049]%0A\n",
      "Loaded CA certificate '/etc/ssl/certs/ca-certificates.crt'\n",
      "Resolving gpm1.gesdisc.eosdis.nasa.gov (gpm1.gesdisc.eosdis.nasa.gov)... 198.118.197.50, 2001:4d0:241a:4041::50\n",
      "Connecting to gpm1.gesdisc.eosdis.nasa.gov (gpm1.gesdisc.eosdis.nasa.gov)|198.118.197.50|:443... connected.\n",
      "HTTP request sent, awaiting response... 503 Service Unavailable\n",
      "2022-06-01 19:25:25 ERROR 503: Service Unavailable.\n",
      "\n",
      "--2022-06-01 19:25:25--  https://gpm1.gesdisc.eosdis.nasa.gov/opendap/GPM_L3/GPM_3IMERGM.06/2012/3B-MO.MS.MRG.3IMERG.20120301-S000000-E235959.03.V06B.HDF5.nc4?precipitation[0:0][950:1499][449:1049],time,lon[950:1499],lat[449:1049]%0A\n",
      "Loaded CA certificate '/etc/ssl/certs/ca-certificates.crt'\n",
      "Resolving gpm1.gesdisc.eosdis.nasa.gov (gpm1.gesdisc.eosdis.nasa.gov)... 198.118.197.50, 2001:4d0:241a:4041::50\n",
      "Connecting to gpm1.gesdisc.eosdis.nasa.gov (gpm1.gesdisc.eosdis.nasa.gov)|198.118.197.50|:443... connected.\n",
      "HTTP request sent, awaiting response... 302 Found\n",
      "Location: https://urs.earthdata.nasa.gov/oauth/authorize/?scope=uid&app_type=401&client_id=e2WVk8Pw6weeLUKZYOxvTQ&response_type=code&redirect_uri=https%3A%2F%2Fgpm1.gesdisc.eosdis.nasa.gov%2Fdata-redirect&state=aHR0cHM6Ly9ncG0xLmdlc2Rpc2MuZW9zZGlzLm5hc2EuZ292L29wZW5kYXAvR1BNX0wzL0dQTV8zSU1FUkdNLjA2LzIwMTIvM0ItTU8uTVMuTVJHLjNJTUVSRy4yMDEyMDMwMS1TMDAwMDAwLUUyMzU5NTkuMDMuVjA2Qi5IREY1Lm5jND9wcmVjaXBpdGF0aW9uWzA6MF1bOTUwOjE0OTldWzQ0OToxMDQ5XSx0aW1lLGxvbls5NTA6MTQ5OV0sbGF0WzQ0OToxMDQ5XSUwQQ [following]\n",
      "--2022-06-01 19:25:55--  https://urs.earthdata.nasa.gov/oauth/authorize/?scope=uid&app_type=401&client_id=e2WVk8Pw6weeLUKZYOxvTQ&response_type=code&redirect_uri=https%3A%2F%2Fgpm1.gesdisc.eosdis.nasa.gov%2Fdata-redirect&state=aHR0cHM6Ly9ncG0xLmdlc2Rpc2MuZW9zZGlzLm5hc2EuZ292L29wZW5kYXAvR1BNX0wzL0dQTV8zSU1FUkdNLjA2LzIwMTIvM0ItTU8uTVMuTVJHLjNJTUVSRy4yMDEyMDMwMS1TMDAwMDAwLUUyMzU5NTkuMDMuVjA2Qi5IREY1Lm5jND9wcmVjaXBpdGF0aW9uWzA6MF1bOTUwOjE0OTldWzQ0OToxMDQ5XSx0aW1lLGxvbls5NTA6MTQ5OV0sbGF0WzQ0OToxMDQ5XSUwQQ\n",
      "Resolving urs.earthdata.nasa.gov (urs.earthdata.nasa.gov)... 198.118.243.33, 2001:4d0:241a:4081::89\n",
      "Connecting to urs.earthdata.nasa.gov (urs.earthdata.nasa.gov)|198.118.243.33|:443... connected.\n",
      "HTTP request sent, awaiting response... 401 Unauthorized\n",
      "Authentication selected: Basic realm=\"Please enter your Earthdata Login credentials. If you do not have a Earthdata Login, create one at https://urs.earthdata.nasa.gov//users/new\"\n",
      "Reusing existing connection to urs.earthdata.nasa.gov:443.\n",
      "HTTP request sent, awaiting response... 302 Found\n",
      "Location: https://gpm1.gesdisc.eosdis.nasa.gov/data-redirect?code=9d4b57960ebb5259b76e88bf6332d1af2eea41985cd2fd96d4b20f2ae4c2d1c0&state=aHR0cHM6Ly9ncG0xLmdlc2Rpc2MuZW9zZGlzLm5hc2EuZ292L29wZW5kYXAvR1BNX0wzL0dQTV8zSU1FUkdNLjA2LzIwMTIvM0ItTU8uTVMuTVJHLjNJTUVSRy4yMDEyMDMwMS1TMDAwMDAwLUUyMzU5NTkuMDMuVjA2Qi5IREY1Lm5jND9wcmVjaXBpdGF0aW9uWzA6MF1bOTUwOjE0OTldWzQ0OToxMDQ5XSx0aW1lLGxvbls5NTA6MTQ5OV0sbGF0WzQ0OToxMDQ5XSUwQQ [following]\n",
      "--2022-06-01 19:25:55--  https://gpm1.gesdisc.eosdis.nasa.gov/data-redirect?code=9d4b57960ebb5259b76e88bf6332d1af2eea41985cd2fd96d4b20f2ae4c2d1c0&state=aHR0cHM6Ly9ncG0xLmdlc2Rpc2MuZW9zZGlzLm5hc2EuZ292L29wZW5kYXAvR1BNX0wzL0dQTV8zSU1FUkdNLjA2LzIwMTIvM0ItTU8uTVMuTVJHLjNJTUVSRy4yMDEyMDMwMS1TMDAwMDAwLUUyMzU5NTkuMDMuVjA2Qi5IREY1Lm5jND9wcmVjaXBpdGF0aW9uWzA6MF1bOTUwOjE0OTldWzQ0OToxMDQ5XSx0aW1lLGxvbls5NTA6MTQ5OV0sbGF0WzQ0OToxMDQ5XSUwQQ\n",
      "Connecting to gpm1.gesdisc.eosdis.nasa.gov (gpm1.gesdisc.eosdis.nasa.gov)|198.118.197.50|:443... connected.\n",
      "HTTP request sent, awaiting response... 302 Found\n",
      "Location: https://gpm1.gesdisc.eosdis.nasa.gov/opendap/GPM_L3/GPM_3IMERGM.06/2012/3B-MO.MS.MRG.3IMERG.20120301-S000000-E235959.03.V06B.HDF5.nc4?precipitation[0:0][950:1499][449:1049],time,lon[950:1499],lat[449:1049]%0A [following]\n",
      "--2022-06-01 19:25:56--  https://gpm1.gesdisc.eosdis.nasa.gov/opendap/GPM_L3/GPM_3IMERGM.06/2012/3B-MO.MS.MRG.3IMERG.20120301-S000000-E235959.03.V06B.HDF5.nc4?precipitation[0:0][950:1499][449:1049],time,lon[950:1499],lat[449:1049]%0A\n",
      "Connecting to gpm1.gesdisc.eosdis.nasa.gov (gpm1.gesdisc.eosdis.nasa.gov)|198.118.197.50|:443... connected.\n",
      "HTTP request sent, awaiting response... 200 OK\n",
      "Length: unspecified [application/x-netcdf]\n",
      "Saving to: ‘/home/arturo/Documents/IMERG/raw_month3IMERG.20120301-S000000-E235959.03.V06B.nc’\n",
      "\n",
      "     0K .......... .......... .......... .......... ..........  175K\n",
      "    50K .......... .......... .......... .......... ..........  344K\n",
      "   100K .......... .......... .......... .......... .......... 1,93M\n",
      "   150K .......... .......... .......... .......... ..........  434K\n",
      "   200K .......... .......... .......... .......... .......... 1,54M\n",
      "   250K .......... .......... .......... .......... .......... 1,46M\n",
      "   300K .......... .......... .......... .......... .......... 1,55M\n",
      "   350K .......... .......... .......... .......... .......... 1,18M\n",
      "   400K .......... .......... .......... .......... .......... 1,58M\n",
      "   450K .......... .......... .......... .......... .......... 1,59M\n",
      "   500K .......... .......... .......... .......... .......... 2,30M\n",
      "   550K .......... .......... .......... .......... .......... 1,89M\n",
      "   600K .......... .......... .......... .......... .......... 2,95M\n",
      "   650K .......... .......... .......... .......... .......... 3,03M\n",
      "   700K .......... .......... .......... .......... .......... 3,06M\n",
      "   750K .......... .......... .......... .......... .......... 2,30M\n",
      "   800K .......... .......... .......... .......... .......... 3,45M\n",
      "   850K .......... .......... .......... .......... .......... 3,81M\n",
      "   900K .......... .......... .......... .......... .......... 2,74M\n",
      "   950K .......... .......... .......... .......... .......... 3,76M\n",
      "  1000K .......... .......... .......... .......... .......... 4,92M\n",
      "  1050K .......... .......... .......... .......... .......... 4,36M\n",
      "  1100K .......... .......... .......... .......... .......... 4,31M\n",
      "  1150K .......... .......... .......... .......... .......... 4,23M\n",
      "  1200K ..                                                     5,13T=1,0s\n",
      "\n",
      "2022-06-01 19:25:58 (1,19 MB/s) - ‘/home/arturo/Documents/IMERG/raw_month3IMERG.20120301-S000000-E235959.03.V06B.nc’ saved [1231622]\n",
      "\n",
      "--2022-06-01 19:25:58--  https://gpm1.gesdisc.eosdis.nasa.gov/opendap/GPM_L3/GPM_3IMERGM.06/2012/3B-MO.MS.MRG.3IMERG.20120501-S000000-E235959.05.V06B.HDF5.nc4?precipitation[0:0][950:1499][449:1049],time,lon[950:1499],lat[449:1049]%0A\n",
      "Loaded CA certificate '/etc/ssl/certs/ca-certificates.crt'\n",
      "Resolving gpm1.gesdisc.eosdis.nasa.gov (gpm1.gesdisc.eosdis.nasa.gov)... 198.118.197.50, 2001:4d0:241a:4041::50\n",
      "Connecting to gpm1.gesdisc.eosdis.nasa.gov (gpm1.gesdisc.eosdis.nasa.gov)|198.118.197.50|:443... connected.\n",
      "HTTP request sent, awaiting response... 302 Found\n",
      "Location: https://urs.earthdata.nasa.gov/oauth/authorize/?scope=uid&app_type=401&client_id=e2WVk8Pw6weeLUKZYOxvTQ&response_type=code&redirect_uri=https%3A%2F%2Fgpm1.gesdisc.eosdis.nasa.gov%2Fdata-redirect&state=aHR0cHM6Ly9ncG0xLmdlc2Rpc2MuZW9zZGlzLm5hc2EuZ292L29wZW5kYXAvR1BNX0wzL0dQTV8zSU1FUkdNLjA2LzIwMTIvM0ItTU8uTVMuTVJHLjNJTUVSRy4yMDEyMDUwMS1TMDAwMDAwLUUyMzU5NTkuMDUuVjA2Qi5IREY1Lm5jND9wcmVjaXBpdGF0aW9uWzA6MF1bOTUwOjE0OTldWzQ0OToxMDQ5XSx0aW1lLGxvbls5NTA6MTQ5OV0sbGF0WzQ0OToxMDQ5XSUwQQ [following]\n",
      "--2022-06-01 19:25:59--  https://urs.earthdata.nasa.gov/oauth/authorize/?scope=uid&app_type=401&client_id=e2WVk8Pw6weeLUKZYOxvTQ&response_type=code&redirect_uri=https%3A%2F%2Fgpm1.gesdisc.eosdis.nasa.gov%2Fdata-redirect&state=aHR0cHM6Ly9ncG0xLmdlc2Rpc2MuZW9zZGlzLm5hc2EuZ292L29wZW5kYXAvR1BNX0wzL0dQTV8zSU1FUkdNLjA2LzIwMTIvM0ItTU8uTVMuTVJHLjNJTUVSRy4yMDEyMDUwMS1TMDAwMDAwLUUyMzU5NTkuMDUuVjA2Qi5IREY1Lm5jND9wcmVjaXBpdGF0aW9uWzA6MF1bOTUwOjE0OTldWzQ0OToxMDQ5XSx0aW1lLGxvbls5NTA6MTQ5OV0sbGF0WzQ0OToxMDQ5XSUwQQ\n",
      "Resolving urs.earthdata.nasa.gov (urs.earthdata.nasa.gov)... 198.118.243.33, 2001:4d0:241a:4081::89\n",
      "Connecting to urs.earthdata.nasa.gov (urs.earthdata.nasa.gov)|198.118.243.33|:443... connected.\n",
      "HTTP request sent, awaiting response... 401 Unauthorized\n",
      "Authentication selected: Basic realm=\"Please enter your Earthdata Login credentials. If you do not have a Earthdata Login, create one at https://urs.earthdata.nasa.gov//users/new\"\n",
      "Reusing existing connection to urs.earthdata.nasa.gov:443.\n",
      "HTTP request sent, awaiting response... 302 Found\n",
      "Location: https://gpm1.gesdisc.eosdis.nasa.gov/data-redirect?code=5f4aa323c7c9d8fe2c8a7226b8b97753b800581fdd9dd92e330a85c30ede6c35&state=aHR0cHM6Ly9ncG0xLmdlc2Rpc2MuZW9zZGlzLm5hc2EuZ292L29wZW5kYXAvR1BNX0wzL0dQTV8zSU1FUkdNLjA2LzIwMTIvM0ItTU8uTVMuTVJHLjNJTUVSRy4yMDEyMDUwMS1TMDAwMDAwLUUyMzU5NTkuMDUuVjA2Qi5IREY1Lm5jND9wcmVjaXBpdGF0aW9uWzA6MF1bOTUwOjE0OTldWzQ0OToxMDQ5XSx0aW1lLGxvbls5NTA6MTQ5OV0sbGF0WzQ0OToxMDQ5XSUwQQ [following]\n",
      "--2022-06-01 19:26:00--  https://gpm1.gesdisc.eosdis.nasa.gov/data-redirect?code=5f4aa323c7c9d8fe2c8a7226b8b97753b800581fdd9dd92e330a85c30ede6c35&state=aHR0cHM6Ly9ncG0xLmdlc2Rpc2MuZW9zZGlzLm5hc2EuZ292L29wZW5kYXAvR1BNX0wzL0dQTV8zSU1FUkdNLjA2LzIwMTIvM0ItTU8uTVMuTVJHLjNJTUVSRy4yMDEyMDUwMS1TMDAwMDAwLUUyMzU5NTkuMDUuVjA2Qi5IREY1Lm5jND9wcmVjaXBpdGF0aW9uWzA6MF1bOTUwOjE0OTldWzQ0OToxMDQ5XSx0aW1lLGxvbls5NTA6MTQ5OV0sbGF0WzQ0OToxMDQ5XSUwQQ\n",
      "Connecting to gpm1.gesdisc.eosdis.nasa.gov (gpm1.gesdisc.eosdis.nasa.gov)|198.118.197.50|:443... connected.\n",
      "HTTP request sent, awaiting response... 302 Found\n",
      "Location: https://gpm1.gesdisc.eosdis.nasa.gov/opendap/GPM_L3/GPM_3IMERGM.06/2012/3B-MO.MS.MRG.3IMERG.20120501-S000000-E235959.05.V06B.HDF5.nc4?precipitation[0:0][950:1499][449:1049],time,lon[950:1499],lat[449:1049]%0A [following]\n",
      "--2022-06-01 19:26:01--  https://gpm1.gesdisc.eosdis.nasa.gov/opendap/GPM_L3/GPM_3IMERGM.06/2012/3B-MO.MS.MRG.3IMERG.20120501-S000000-E235959.05.V06B.HDF5.nc4?precipitation[0:0][950:1499][449:1049],time,lon[950:1499],lat[449:1049]%0A\n",
      "Connecting to gpm1.gesdisc.eosdis.nasa.gov (gpm1.gesdisc.eosdis.nasa.gov)|198.118.197.50|:443... connected.\n",
      "HTTP request sent, awaiting response... "
     ]
    }
   ],
   "source": [
    "for t in range(2,len_files):\n",
    "    name1 = file_download[t].split('/')[-1][13:52]\n",
    "    name2 = '/home/arturo/Documents/IMERG/raw_month' + name1 + '.nc'\n",
    "\n",
    "    if  file_exists(name2) == True:\n",
    "        pass\n",
    "    else:\n",
    "        subprocess.run([\"wget\", \"--user\", USER, \"--password\", PASS, file_download[t], \"-O\", name2])"
   ]
  },
  {
   "cell_type": "code",
   "execution_count": null,
   "metadata": {},
   "outputs": [],
   "source": []
  }
 ],
 "metadata": {
  "interpreter": {
   "hash": "c6c4883052875ec3257edf99ee092a790b9a432228222ee7e742d4f8a559e5a8"
  },
  "kernelspec": {
   "display_name": "Python 3.9.12 ('AXE')",
   "language": "python",
   "name": "python3"
  },
  "language_info": {
   "codemirror_mode": {
    "name": "ipython",
    "version": 3
   },
   "file_extension": ".py",
   "mimetype": "text/x-python",
   "name": "python",
   "nbconvert_exporter": "python",
   "pygments_lexer": "ipython3",
   "version": "3.9.12"
  },
  "orig_nbformat": 4
 },
 "nbformat": 4,
 "nbformat_minor": 2
}
