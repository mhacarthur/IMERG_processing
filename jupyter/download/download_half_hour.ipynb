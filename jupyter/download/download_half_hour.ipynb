{
 "cells": [
  {
   "cell_type": "code",
   "execution_count": 1,
   "metadata": {},
   "outputs": [],
   "source": [
    "import glob\n",
    "import pandas as pd\n",
    "import clima_anom as ca\n",
    "import subprocess\n",
    "\n",
    "import os\n",
    "from os.path import exists as file_exists"
   ]
  },
  {
   "attachments": {},
   "cell_type": "markdown",
   "metadata": {},
   "source": [
    "### INFO\n",
    "Link: https://disc.gsfc.nasa.gov/datasets/GPM_3IMERGHH_06/summary?keywords=IMERG\n",
    "\n",
    "Dataset: GPM IMERG Final Precipitation L3 Half Hourly 0.1 degree x 0.1 degree V06"
   ]
  },
  {
   "attachments": {},
   "cell_type": "markdown",
   "metadata": {},
   "source": [
    "Download Method:  Get File Subsets using OPeNDAP\n",
    "\n",
    "Variables: precipitationCal\n",
    "\n",
    "Format: netCDF"
   ]
  },
  {
   "cell_type": "code",
   "execution_count": 2,
   "metadata": {},
   "outputs": [],
   "source": [
    "USER=os.environ['IMERG_USER']\n",
    "PASS=os.environ['IMERG_PASS']"
   ]
  },
  {
   "cell_type": "code",
   "execution_count": 3,
   "metadata": {},
   "outputs": [
    {
     "name": "stdout",
     "output_type": "stream",
     "text": [
      "Number of files to download: 1490\n"
     ]
    }
   ],
   "source": [
    "list_txt = '../../list/IMERG_half_hourly_2011_01_2011_31.txt'\n",
    "\n",
    "with open(list_txt) as f:\n",
    "    file_download = f.read().splitlines()\n",
    "\n",
    "len_files = len(file_download)\n",
    "print(f'Number of files to download: {len_files}')"
   ]
  },
  {
   "cell_type": "code",
   "execution_count": 4,
   "metadata": {},
   "outputs": [
    {
     "name": "stdout",
     "output_type": "stream",
     "text": [
      "3IMERG.20110101-S000000-E002959.0000.V06B\n",
      "3IMERG.20110101-S003000-E005959.0030.V06B\n",
      "3IMERG.20110101-S010000-E012959.0060.V06B\n",
      "3IMERG.20110101-S013000-E015959.0090.V06B\n",
      "3IMERG.20110101-S020000-E022959.0120.V06B\n",
      "3IMERG.20110101-S023000-E025959.0150.V06B\n",
      "3IMERG.20110101-S030000-E032959.0180.V06B\n",
      "3IMERG.20110101-S033000-E035959.0210.V06B\n"
     ]
    }
   ],
   "source": [
    "for t in range(2,10):\n",
    "    name1 = file_download[t].split('/')[-1][14:55]\n",
    "    print(name1)"
   ]
  },
  {
   "cell_type": "code",
   "execution_count": 5,
   "metadata": {},
   "outputs": [
    {
     "name": "stderr",
     "output_type": "stream",
     "text": [
      "--2023-07-14 11:19:02--  https://gpm1.gesdisc.eosdis.nasa.gov/opendap/GPM_L3/GPM_3IMERGHH.06/2011/009/3B-HHR.MS.MRG.3IMERG.20110109-S063000-E065959.0390.V06B.HDF5.nc4?precipitationCal[0:0][1100:1455][549:899],precipitationQualityIndex[0:0][1100:1455][549:899],time,lon[1100:1455],lat[549:899]\n",
      "Resolving gpm1.gesdisc.eosdis.nasa.gov (gpm1.gesdisc.eosdis.nasa.gov)... 198.118.197.50, 2001:4d0:241a:4041::50\n",
      "Connecting to gpm1.gesdisc.eosdis.nasa.gov (gpm1.gesdisc.eosdis.nasa.gov)|198.118.197.50|:443... connected.\n",
      "HTTP request sent, awaiting response... 302 Found\n",
      "Location: https://urs.earthdata.nasa.gov/oauth/authorize/?scope=uid&app_type=401&client_id=e2WVk8Pw6weeLUKZYOxvTQ&response_type=code&redirect_uri=https%3A%2F%2Fgpm1.gesdisc.eosdis.nasa.gov%2Fdata-redirect&state=aHR0cHM6Ly9ncG0xLmdlc2Rpc2MuZW9zZGlzLm5hc2EuZ292L29wZW5kYXAvR1BNX0wzL0dQTV8zSU1FUkdISC4wNi8yMDExLzAwOS8zQi1ISFIuTVMuTVJHLjNJTUVSRy4yMDExMDEwOS1TMDYzMDAwLUUwNjU5NTkuMDM5MC5WMDZCLkhERjUubmM0P3ByZWNpcGl0YXRpb25DYWxbMDowXVsxMTAwOjE0NTVdWzU0OTo4OTldLHByZWNpcGl0YXRpb25RdWFsaXR5SW5kZXhbMDowXVsxMTAwOjE0NTVdWzU0OTo4OTldLHRpbWUsbG9uWzExMDA6MTQ1NV0sbGF0WzU0OTo4OTld [following]\n",
      "--2023-07-14 11:19:03--  https://urs.earthdata.nasa.gov/oauth/authorize/?scope=uid&app_type=401&client_id=e2WVk8Pw6weeLUKZYOxvTQ&response_type=code&redirect_uri=https%3A%2F%2Fgpm1.gesdisc.eosdis.nasa.gov%2Fdata-redirect&state=aHR0cHM6Ly9ncG0xLmdlc2Rpc2MuZW9zZGlzLm5hc2EuZ292L29wZW5kYXAvR1BNX0wzL0dQTV8zSU1FUkdISC4wNi8yMDExLzAwOS8zQi1ISFIuTVMuTVJHLjNJTUVSRy4yMDExMDEwOS1TMDYzMDAwLUUwNjU5NTkuMDM5MC5WMDZCLkhERjUubmM0P3ByZWNpcGl0YXRpb25DYWxbMDowXVsxMTAwOjE0NTVdWzU0OTo4OTldLHByZWNpcGl0YXRpb25RdWFsaXR5SW5kZXhbMDowXVsxMTAwOjE0NTVdWzU0OTo4OTldLHRpbWUsbG9uWzExMDA6MTQ1NV0sbGF0WzU0OTo4OTld\n",
      "Resolving urs.earthdata.nasa.gov (urs.earthdata.nasa.gov)... 198.118.243.33, 2001:4d0:241a:4081::89\n",
      "Connecting to urs.earthdata.nasa.gov (urs.earthdata.nasa.gov)|198.118.243.33|:443... connected.\n",
      "HTTP request sent, awaiting response... 401 Unauthorized\n",
      "Authentication selected: Basic realm=\"Please enter your Earthdata Login credentials. If you do not have a Earthdata Login, create one at https://urs.earthdata.nasa.gov//users/new\"\n",
      "Reusing existing connection to urs.earthdata.nasa.gov:443.\n",
      "HTTP request sent, awaiting response... 302 Found\n",
      "Location: https://gpm1.gesdisc.eosdis.nasa.gov/data-redirect?code=7c73a574329d6c646170bc8246a16551c745df7d4bdc4d1e32ac339669d4bbf1&state=aHR0cHM6Ly9ncG0xLmdlc2Rpc2MuZW9zZGlzLm5hc2EuZ292L29wZW5kYXAvR1BNX0wzL0dQTV8zSU1FUkdISC4wNi8yMDExLzAwOS8zQi1ISFIuTVMuTVJHLjNJTUVSRy4yMDExMDEwOS1TMDYzMDAwLUUwNjU5NTkuMDM5MC5WMDZCLkhERjUubmM0P3ByZWNpcGl0YXRpb25DYWxbMDowXVsxMTAwOjE0NTVdWzU0OTo4OTldLHByZWNpcGl0YXRpb25RdWFsaXR5SW5kZXhbMDowXVsxMTAwOjE0NTVdWzU0OTo4OTldLHRpbWUsbG9uWzExMDA6MTQ1NV0sbGF0WzU0OTo4OTld [following]\n",
      "--2023-07-14 11:19:04--  https://gpm1.gesdisc.eosdis.nasa.gov/data-redirect?code=7c73a574329d6c646170bc8246a16551c745df7d4bdc4d1e32ac339669d4bbf1&state=aHR0cHM6Ly9ncG0xLmdlc2Rpc2MuZW9zZGlzLm5hc2EuZ292L29wZW5kYXAvR1BNX0wzL0dQTV8zSU1FUkdISC4wNi8yMDExLzAwOS8zQi1ISFIuTVMuTVJHLjNJTUVSRy4yMDExMDEwOS1TMDYzMDAwLUUwNjU5NTkuMDM5MC5WMDZCLkhERjUubmM0P3ByZWNpcGl0YXRpb25DYWxbMDowXVsxMTAwOjE0NTVdWzU0OTo4OTldLHByZWNpcGl0YXRpb25RdWFsaXR5SW5kZXhbMDowXVsxMTAwOjE0NTVdWzU0OTo4OTldLHRpbWUsbG9uWzExMDA6MTQ1NV0sbGF0WzU0OTo4OTld\n",
      "Connecting to gpm1.gesdisc.eosdis.nasa.gov (gpm1.gesdisc.eosdis.nasa.gov)|198.118.197.50|:443... connected.\n",
      "HTTP request sent, awaiting response... 302 Found\n",
      "Location: https://gpm1.gesdisc.eosdis.nasa.gov/opendap/GPM_L3/GPM_3IMERGHH.06/2011/009/3B-HHR.MS.MRG.3IMERG.20110109-S063000-E065959.0390.V06B.HDF5.nc4?precipitationCal[0:0][1100:1455][549:899],precipitationQualityIndex[0:0][1100:1455][549:899],time,lon[1100:1455],lat[549:899] [following]\n",
      "--2023-07-14 11:19:04--  https://gpm1.gesdisc.eosdis.nasa.gov/opendap/GPM_L3/GPM_3IMERGHH.06/2011/009/3B-HHR.MS.MRG.3IMERG.20110109-S063000-E065959.0390.V06B.HDF5.nc4?precipitationCal[0:0][1100:1455][549:899],precipitationQualityIndex[0:0][1100:1455][549:899],time,lon[1100:1455],lat[549:899]\n",
      "Connecting to gpm1.gesdisc.eosdis.nasa.gov (gpm1.gesdisc.eosdis.nasa.gov)|198.118.197.50|:443... connected.\n",
      "HTTP request sent, awaiting response... 200 200\n",
      "Length: unspecified [application/x-netcdf]\n",
      "Saving to: ‘/mnt/Data/Data/IMERG/serra_do_mar_raw/3IMERG.20110109-S063000-E065959.0390.V06B.nc’\n",
      "\n",
      "     0K .......... .......... .......... .......... ..........  179K\n",
      "    50K .......... .......... .......... .......... ..........  360K\n",
      "   100K .......... .......... .......... .......... .          12,3M=0,4s\n",
      "\n",
      "2023-07-14 11:19:06 (335 KB/s) - ‘/mnt/Data/Data/IMERG/serra_do_mar_raw/3IMERG.20110109-S063000-E065959.0390.V06B.nc’ saved [144810]\n",
      "\n"
     ]
    }
   ],
   "source": [
    "for t in range(2,len_files):\n",
    "    name1 = file_download[t].split('/')[-1][14:55]\n",
    "    name2 = '/mnt/Data/Data/IMERG/serra_do_mar_raw/' + name1 + '.nc'\n",
    "    # name2 = './' + name1 + '.nc'\n",
    "\n",
    "    if  file_exists(name2) == True:\n",
    "        pass\n",
    "    else:\n",
    "        subprocess.run([\"wget\", \"--user\", USER, \"--password\", PASS, file_download[t], \"-O\", name2])"
   ]
  }
 ],
 "metadata": {
  "kernelspec": {
   "display_name": "Python 3.9.7 ('AXE')",
   "language": "python",
   "name": "python3"
  },
  "language_info": {
   "codemirror_mode": {
    "name": "ipython",
    "version": 3
   },
   "file_extension": ".py",
   "mimetype": "text/x-python",
   "name": "python",
   "nbconvert_exporter": "python",
   "pygments_lexer": "ipython3",
   "version": "3.9.13"
  },
  "orig_nbformat": 4,
  "vscode": {
   "interpreter": {
    "hash": "c6c4883052875ec3257edf99ee092a790b9a432228222ee7e742d4f8a559e5a8"
   }
  }
 },
 "nbformat": 4,
 "nbformat_minor": 2
}
