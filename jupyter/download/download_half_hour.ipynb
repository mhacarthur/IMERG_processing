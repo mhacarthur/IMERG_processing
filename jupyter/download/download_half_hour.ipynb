{
 "cells": [
  {
   "cell_type": "code",
   "execution_count": 1,
   "metadata": {},
   "outputs": [],
   "source": [
    "import glob\n",
    "import pandas as pd\n",
    "import subprocess\n",
    "\n",
    "import os\n",
    "from os.path import exists as file_exists"
   ]
  },
  {
   "attachments": {},
   "cell_type": "markdown",
   "metadata": {},
   "source": [
    "### INFO\n",
    "Link: https://disc.gsfc.nasa.gov/datasets/GPM_3IMERGHH_06/summary?keywords=IMERG\n",
    "\n",
    "Dataset: GPM IMERG Final Precipitation L3 Half Hourly 0.1 degree x 0.1 degree V06"
   ]
  },
  {
   "attachments": {},
   "cell_type": "markdown",
   "metadata": {},
   "source": [
    "Download Method:  Get File Subsets using OPeNDAP\n",
    "\n",
    "Variables: precipitationCal\n",
    "\n",
    "Format: netCDF"
   ]
  },
  {
   "cell_type": "code",
   "execution_count": 2,
   "metadata": {},
   "outputs": [],
   "source": [
    "# lista de arquivos\n",
    "list_txt = '/home/arturo/Downloads/subset_GPM_3IMERGHH_06_20231129_115644_.txt'\n",
    "\n",
    "# trocar data de saida\n",
    "data_output = '/mnt/Data/Data/IMERG/serra_do_mar_raw/'"
   ]
  },
  {
   "cell_type": "code",
   "execution_count": 3,
   "metadata": {},
   "outputs": [],
   "source": [
    "USER=os.environ['IMERG_USER']\n",
    "PASS=os.environ['IMERG_PASS']"
   ]
  },
  {
   "cell_type": "code",
   "execution_count": 4,
   "metadata": {},
   "outputs": [
    {
     "name": "stdout",
     "output_type": "stream",
     "text": [
      "Number of files to download: 1442\n"
     ]
    }
   ],
   "source": [
    "with open(list_txt) as f:\n",
    "    file_download = f.read().splitlines()\n",
    "\n",
    "len_files = len(file_download)\n",
    "print(f'Number of files to download: {len_files}')"
   ]
  },
  {
   "cell_type": "code",
   "execution_count": 5,
   "metadata": {},
   "outputs": [
    {
     "name": "stdout",
     "output_type": "stream",
     "text": [
      "3IMERG.20200601-S000000-E002959.0000.V06B\n",
      "3IMERG.20200601-S003000-E005959.0030.V06B\n",
      "3IMERG.20200601-S010000-E012959.0060.V06B\n",
      "3IMERG.20200601-S013000-E015959.0090.V06B\n",
      "3IMERG.20200601-S020000-E022959.0120.V06B\n",
      "3IMERG.20200601-S023000-E025959.0150.V06B\n",
      "3IMERG.20200601-S030000-E032959.0180.V06B\n",
      "3IMERG.20200601-S033000-E035959.0210.V06B\n"
     ]
    }
   ],
   "source": [
    "for t in range(2,10):\n",
    "    name1 = file_download[t].split('/')[-1][14:55]\n",
    "    print(name1)"
   ]
  },
  {
   "cell_type": "code",
   "execution_count": 6,
   "metadata": {},
   "outputs": [
    {
     "name": "stderr",
     "output_type": "stream",
     "text": [
      "--2023-11-29 09:13:40--  https://gpm1.gesdisc.eosdis.nasa.gov/opendap/GPM_L3/GPM_3IMERGHH.06/2020/153/3B-HHR.MS.MRG.3IMERG.20200601-S030000-E032959.0180.V06B.HDF5.nc4?precipitationQualityIndex[0:0][960:1470][349:1029],precipitationCal[0:0][960:1470][349:1029],time,lon[960:1470],lat[349:1029]\n",
      "Resolving gpm1.gesdisc.eosdis.nasa.gov (gpm1.gesdisc.eosdis.nasa.gov)... 198.118.197.50, 2001:4d0:241a:4041::50\n",
      "Connecting to gpm1.gesdisc.eosdis.nasa.gov (gpm1.gesdisc.eosdis.nasa.gov)|198.118.197.50|:443... connected.\n",
      "HTTP request sent, awaiting response... 302 Found\n",
      "Location: https://urs.earthdata.nasa.gov/oauth/authorize/?scope=uid&app_type=401&client_id=e2WVk8Pw6weeLUKZYOxvTQ&response_type=code&redirect_uri=https%3A%2F%2Fgpm1.gesdisc.eosdis.nasa.gov%2Fdata-redirect&state=aHR0cHM6Ly9ncG0xLmdlc2Rpc2MuZW9zZGlzLm5hc2EuZ292L29wZW5kYXAvR1BNX0wzL0dQTV8zSU1FUkdISC4wNi8yMDIwLzE1My8zQi1ISFIuTVMuTVJHLjNJTUVSRy4yMDIwMDYwMS1TMDMwMDAwLUUwMzI5NTkuMDE4MC5WMDZCLkhERjUubmM0P3ByZWNpcGl0YXRpb25RdWFsaXR5SW5kZXhbMDowXVs5NjA6MTQ3MF1bMzQ5OjEwMjldLHByZWNpcGl0YXRpb25DYWxbMDowXVs5NjA6MTQ3MF1bMzQ5OjEwMjldLHRpbWUsbG9uWzk2MDoxNDcwXSxsYXRbMzQ5OjEwMjld [following]\n",
      "--2023-11-29 09:13:41--  https://urs.earthdata.nasa.gov/oauth/authorize/?scope=uid&app_type=401&client_id=e2WVk8Pw6weeLUKZYOxvTQ&response_type=code&redirect_uri=https%3A%2F%2Fgpm1.gesdisc.eosdis.nasa.gov%2Fdata-redirect&state=aHR0cHM6Ly9ncG0xLmdlc2Rpc2MuZW9zZGlzLm5hc2EuZ292L29wZW5kYXAvR1BNX0wzL0dQTV8zSU1FUkdISC4wNi8yMDIwLzE1My8zQi1ISFIuTVMuTVJHLjNJTUVSRy4yMDIwMDYwMS1TMDMwMDAwLUUwMzI5NTkuMDE4MC5WMDZCLkhERjUubmM0P3ByZWNpcGl0YXRpb25RdWFsaXR5SW5kZXhbMDowXVs5NjA6MTQ3MF1bMzQ5OjEwMjldLHByZWNpcGl0YXRpb25DYWxbMDowXVs5NjA6MTQ3MF1bMzQ5OjEwMjldLHRpbWUsbG9uWzk2MDoxNDcwXSxsYXRbMzQ5OjEwMjld\n",
      "Resolving urs.earthdata.nasa.gov (urs.earthdata.nasa.gov)... 198.118.243.33, 2001:4d0:241a:4081::89\n",
      "Connecting to urs.earthdata.nasa.gov (urs.earthdata.nasa.gov)|198.118.243.33|:443... connected.\n",
      "HTTP request sent, awaiting response... 401 Unauthorized\n",
      "Authentication selected: Basic realm=\"Please enter your Earthdata Login credentials. If you do not have a Earthdata Login, create one at https://urs.earthdata.nasa.gov//users/new\"\n",
      "Reusing existing connection to urs.earthdata.nasa.gov:443.\n",
      "HTTP request sent, awaiting response... 302 Found\n",
      "Location: https://gpm1.gesdisc.eosdis.nasa.gov/data-redirect?code=m6hBSpX-NzR5uhzwxcukcDD-2LyLUojVS_FUadpBoIeWatk-K271zN1u880uii-LuzerSZkVx9mqLiFITjOs&state=aHR0cHM6Ly9ncG0xLmdlc2Rpc2MuZW9zZGlzLm5hc2EuZ292L29wZW5kYXAvR1BNX0wzL0dQTV8zSU1FUkdISC4wNi8yMDIwLzE1My8zQi1ISFIuTVMuTVJHLjNJTUVSRy4yMDIwMDYwMS1TMDMwMDAwLUUwMzI5NTkuMDE4MC5WMDZCLkhERjUubmM0P3ByZWNpcGl0YXRpb25RdWFsaXR5SW5kZXhbMDowXVs5NjA6MTQ3MF1bMzQ5OjEwMjldLHByZWNpcGl0YXRpb25DYWxbMDowXVs5NjA6MTQ3MF1bMzQ5OjEwMjldLHRpbWUsbG9uWzk2MDoxNDcwXSxsYXRbMzQ5OjEwMjld [following]\n",
      "--2023-11-29 09:13:42--  https://gpm1.gesdisc.eosdis.nasa.gov/data-redirect?code=m6hBSpX-NzR5uhzwxcukcDD-2LyLUojVS_FUadpBoIeWatk-K271zN1u880uii-LuzerSZkVx9mqLiFITjOs&state=aHR0cHM6Ly9ncG0xLmdlc2Rpc2MuZW9zZGlzLm5hc2EuZ292L29wZW5kYXAvR1BNX0wzL0dQTV8zSU1FUkdISC4wNi8yMDIwLzE1My8zQi1ISFIuTVMuTVJHLjNJTUVSRy4yMDIwMDYwMS1TMDMwMDAwLUUwMzI5NTkuMDE4MC5WMDZCLkhERjUubmM0P3ByZWNpcGl0YXRpb25RdWFsaXR5SW5kZXhbMDowXVs5NjA6MTQ3MF1bMzQ5OjEwMjldLHByZWNpcGl0YXRpb25DYWxbMDowXVs5NjA6MTQ3MF1bMzQ5OjEwMjldLHRpbWUsbG9uWzk2MDoxNDcwXSxsYXRbMzQ5OjEwMjld\n",
      "Connecting to gpm1.gesdisc.eosdis.nasa.gov (gpm1.gesdisc.eosdis.nasa.gov)|198.118.197.50|:443... connected.\n",
      "HTTP request sent, awaiting response... 302 Found\n",
      "Location: https://gpm1.gesdisc.eosdis.nasa.gov/opendap/GPM_L3/GPM_3IMERGHH.06/2020/153/3B-HHR.MS.MRG.3IMERG.20200601-S030000-E032959.0180.V06B.HDF5.nc4?precipitationQualityIndex[0:0][960:1470][349:1029],precipitationCal[0:0][960:1470][349:1029],time,lon[960:1470],lat[349:1029] [following]\n",
      "--2023-11-29 09:13:42--  https://gpm1.gesdisc.eosdis.nasa.gov/opendap/GPM_L3/GPM_3IMERGHH.06/2020/153/3B-HHR.MS.MRG.3IMERG.20200601-S030000-E032959.0180.V06B.HDF5.nc4?precipitationQualityIndex[0:0][960:1470][349:1029],precipitationCal[0:0][960:1470][349:1029],time,lon[960:1470],lat[349:1029]\n",
      "Connecting to gpm1.gesdisc.eosdis.nasa.gov (gpm1.gesdisc.eosdis.nasa.gov)|198.118.197.50|:443... connected.\n",
      "HTTP request sent, awaiting response... 200 200\n",
      "Length: unspecified [application/x-netcdf]\n",
      "Saving to: ‘/mnt/Data/Data/IMERG/serra_do_mar_raw/3IMERG.20200601-S030000-E032959.0180.V06B.nc’\n",
      "\n",
      "     0K .......... .......... .......... .......... ..........  182K\n",
      "    50K .......... .......... .......... .......... ..........  366K\n",
      "   100K .......... .......... .......... .......... .......... 11,6M\n",
      "   150K .......... .......... .......... .......... ..........  377K\n",
      "   200K .......... .......... .......... .......... .......... 11,3M\n",
      "   250K .......... .......... .                                15,0M=0,6s\n",
      "\n",
      "2023-11-29 09:13:44 (490 KB/s) - ‘/mnt/Data/Data/IMERG/serra_do_mar_raw/3IMERG.20200601-S030000-E032959.0180.V06B.nc’ saved [278124]\n",
      "\n",
      "--2023-11-29 09:13:44--  https://gpm1.gesdisc.eosdis.nasa.gov/opendap/GPM_L3/GPM_3IMERGHH.06/2020/153/3B-HHR.MS.MRG.3IMERG.20200601-S033000-E035959.0210.V06B.HDF5.nc4?precipitationQualityIndex[0:0][960:1470][349:1029],precipitationCal[0:0][960:1470][349:1029],time,lon[960:1470],lat[349:1029]\n",
      "Resolving gpm1.gesdisc.eosdis.nasa.gov (gpm1.gesdisc.eosdis.nasa.gov)... 198.118.197.50, 2001:4d0:241a:4041::50\n",
      "Connecting to gpm1.gesdisc.eosdis.nasa.gov (gpm1.gesdisc.eosdis.nasa.gov)|198.118.197.50|:443... connected.\n",
      "HTTP request sent, awaiting response... 302 Found\n",
      "Location: https://urs.earthdata.nasa.gov/oauth/authorize/?scope=uid&app_type=401&client_id=e2WVk8Pw6weeLUKZYOxvTQ&response_type=code&redirect_uri=https%3A%2F%2Fgpm1.gesdisc.eosdis.nasa.gov%2Fdata-redirect&state=aHR0cHM6Ly9ncG0xLmdlc2Rpc2MuZW9zZGlzLm5hc2EuZ292L29wZW5kYXAvR1BNX0wzL0dQTV8zSU1FUkdISC4wNi8yMDIwLzE1My8zQi1ISFIuTVMuTVJHLjNJTUVSRy4yMDIwMDYwMS1TMDMzMDAwLUUwMzU5NTkuMDIxMC5WMDZCLkhERjUubmM0P3ByZWNpcGl0YXRpb25RdWFsaXR5SW5kZXhbMDowXVs5NjA6MTQ3MF1bMzQ5OjEwMjldLHByZWNpcGl0YXRpb25DYWxbMDowXVs5NjA6MTQ3MF1bMzQ5OjEwMjldLHRpbWUsbG9uWzk2MDoxNDcwXSxsYXRbMzQ5OjEwMjld [following]\n",
      "--2023-11-29 09:13:44--  https://urs.earthdata.nasa.gov/oauth/authorize/?scope=uid&app_type=401&client_id=e2WVk8Pw6weeLUKZYOxvTQ&response_type=code&redirect_uri=https%3A%2F%2Fgpm1.gesdisc.eosdis.nasa.gov%2Fdata-redirect&state=aHR0cHM6Ly9ncG0xLmdlc2Rpc2MuZW9zZGlzLm5hc2EuZ292L29wZW5kYXAvR1BNX0wzL0dQTV8zSU1FUkdISC4wNi8yMDIwLzE1My8zQi1ISFIuTVMuTVJHLjNJTUVSRy4yMDIwMDYwMS1TMDMzMDAwLUUwMzU5NTkuMDIxMC5WMDZCLkhERjUubmM0P3ByZWNpcGl0YXRpb25RdWFsaXR5SW5kZXhbMDowXVs5NjA6MTQ3MF1bMzQ5OjEwMjldLHByZWNpcGl0YXRpb25DYWxbMDowXVs5NjA6MTQ3MF1bMzQ5OjEwMjldLHRpbWUsbG9uWzk2MDoxNDcwXSxsYXRbMzQ5OjEwMjld\n",
      "Resolving urs.earthdata.nasa.gov (urs.earthdata.nasa.gov)... 198.118.243.33, 2001:4d0:241a:4081::89\n",
      "Connecting to urs.earthdata.nasa.gov (urs.earthdata.nasa.gov)|198.118.243.33|:443... connected.\n",
      "HTTP request sent, awaiting response... 401 Unauthorized\n",
      "Authentication selected: Basic realm=\"Please enter your Earthdata Login credentials. If you do not have a Earthdata Login, create one at https://urs.earthdata.nasa.gov//users/new\"\n",
      "Reusing existing connection to urs.earthdata.nasa.gov:443.\n",
      "HTTP request sent, awaiting response... 302 Found\n",
      "Location: https://gpm1.gesdisc.eosdis.nasa.gov/data-redirect?code=PzLtCdkd30DKv8pPeBBtem8WEgbI5lBtD_MLBaIUL5-frFAOYqO0cMzZ_gpTVasSl8gUkCctqXNqQGlv5FK5&state=aHR0cHM6Ly9ncG0xLmdlc2Rpc2MuZW9zZGlzLm5hc2EuZ292L29wZW5kYXAvR1BNX0wzL0dQTV8zSU1FUkdISC4wNi8yMDIwLzE1My8zQi1ISFIuTVMuTVJHLjNJTUVSRy4yMDIwMDYwMS1TMDMzMDAwLUUwMzU5NTkuMDIxMC5WMDZCLkhERjUubmM0P3ByZWNpcGl0YXRpb25RdWFsaXR5SW5kZXhbMDowXVs5NjA6MTQ3MF1bMzQ5OjEwMjldLHByZWNpcGl0YXRpb25DYWxbMDowXVs5NjA6MTQ3MF1bMzQ5OjEwMjldLHRpbWUsbG9uWzk2MDoxNDcwXSxsYXRbMzQ5OjEwMjld [following]\n",
      "--2023-11-29 09:13:45--  https://gpm1.gesdisc.eosdis.nasa.gov/data-redirect?code=PzLtCdkd30DKv8pPeBBtem8WEgbI5lBtD_MLBaIUL5-frFAOYqO0cMzZ_gpTVasSl8gUkCctqXNqQGlv5FK5&state=aHR0cHM6Ly9ncG0xLmdlc2Rpc2MuZW9zZGlzLm5hc2EuZ292L29wZW5kYXAvR1BNX0wzL0dQTV8zSU1FUkdISC4wNi8yMDIwLzE1My8zQi1ISFIuTVMuTVJHLjNJTUVSRy4yMDIwMDYwMS1TMDMzMDAwLUUwMzU5NTkuMDIxMC5WMDZCLkhERjUubmM0P3ByZWNpcGl0YXRpb25RdWFsaXR5SW5kZXhbMDowXVs5NjA6MTQ3MF1bMzQ5OjEwMjldLHByZWNpcGl0YXRpb25DYWxbMDowXVs5NjA6MTQ3MF1bMzQ5OjEwMjldLHRpbWUsbG9uWzk2MDoxNDcwXSxsYXRbMzQ5OjEwMjld\n",
      "Connecting to gpm1.gesdisc.eosdis.nasa.gov (gpm1.gesdisc.eosdis.nasa.gov)|198.118.197.50|:443... connected.\n",
      "HTTP request sent, awaiting response... 302 Found\n",
      "Location: https://gpm1.gesdisc.eosdis.nasa.gov/opendap/GPM_L3/GPM_3IMERGHH.06/2020/153/3B-HHR.MS.MRG.3IMERG.20200601-S033000-E035959.0210.V06B.HDF5.nc4?precipitationQualityIndex[0:0][960:1470][349:1029],precipitationCal[0:0][960:1470][349:1029],time,lon[960:1470],lat[349:1029] [following]\n",
      "--2023-11-29 09:13:46--  https://gpm1.gesdisc.eosdis.nasa.gov/opendap/GPM_L3/GPM_3IMERGHH.06/2020/153/3B-HHR.MS.MRG.3IMERG.20200601-S033000-E035959.0210.V06B.HDF5.nc4?precipitationQualityIndex[0:0][960:1470][349:1029],precipitationCal[0:0][960:1470][349:1029],time,lon[960:1470],lat[349:1029]\n",
      "Connecting to gpm1.gesdisc.eosdis.nasa.gov (gpm1.gesdisc.eosdis.nasa.gov)|198.118.197.50|:443... connected.\n",
      "HTTP request sent, awaiting response... 200 200\n",
      "Length: unspecified [application/x-netcdf]\n",
      "Saving to: ‘/mnt/Data/Data/IMERG/serra_do_mar_raw/3IMERG.20200601-S033000-E035959.0210.V06B.nc’\n",
      "\n",
      "     0K .......... .......... .......... .......... ..........  182K\n",
      "    50K .......... .......... .......... .......... ..........  367K\n",
      "   100K .......... .......... .......... .......... .......... 11,8M\n",
      "   150K .......... .......... .......... .......... ..........  377K\n",
      "   200K .......... .......... .......... .......... .......... 11,6M\n",
      "   250K .......... .......                                     15,5M=0,6s\n",
      "\n",
      "2023-11-29 09:13:47 (483 KB/s) - ‘/mnt/Data/Data/IMERG/serra_do_mar_raw/3IMERG.20200601-S033000-E035959.0210.V06B.nc’ saved [273984]\n",
      "\n",
      "--2023-11-29 09:13:47--  https://gpm1.gesdisc.eosdis.nasa.gov/opendap/GPM_L3/GPM_3IMERGHH.06/2020/153/3B-HHR.MS.MRG.3IMERG.20200601-S040000-E042959.0240.V06B.HDF5.nc4?precipitationQualityIndex[0:0][960:1470][349:1029],precipitationCal[0:0][960:1470][349:1029],time,lon[960:1470],lat[349:1029]\n",
      "Resolving gpm1.gesdisc.eosdis.nasa.gov (gpm1.gesdisc.eosdis.nasa.gov)... 198.118.197.50, 2001:4d0:241a:4041::50\n",
      "Connecting to gpm1.gesdisc.eosdis.nasa.gov (gpm1.gesdisc.eosdis.nasa.gov)|198.118.197.50|:443... connected.\n",
      "HTTP request sent, awaiting response... 302 Found\n",
      "Location: https://urs.earthdata.nasa.gov/oauth/authorize/?scope=uid&app_type=401&client_id=e2WVk8Pw6weeLUKZYOxvTQ&response_type=code&redirect_uri=https%3A%2F%2Fgpm1.gesdisc.eosdis.nasa.gov%2Fdata-redirect&state=aHR0cHM6Ly9ncG0xLmdlc2Rpc2MuZW9zZGlzLm5hc2EuZ292L29wZW5kYXAvR1BNX0wzL0dQTV8zSU1FUkdISC4wNi8yMDIwLzE1My8zQi1ISFIuTVMuTVJHLjNJTUVSRy4yMDIwMDYwMS1TMDQwMDAwLUUwNDI5NTkuMDI0MC5WMDZCLkhERjUubmM0P3ByZWNpcGl0YXRpb25RdWFsaXR5SW5kZXhbMDowXVs5NjA6MTQ3MF1bMzQ5OjEwMjldLHByZWNpcGl0YXRpb25DYWxbMDowXVs5NjA6MTQ3MF1bMzQ5OjEwMjldLHRpbWUsbG9uWzk2MDoxNDcwXSxsYXRbMzQ5OjEwMjld [following]\n",
      "--2023-11-29 09:13:48--  https://urs.earthdata.nasa.gov/oauth/authorize/?scope=uid&app_type=401&client_id=e2WVk8Pw6weeLUKZYOxvTQ&response_type=code&redirect_uri=https%3A%2F%2Fgpm1.gesdisc.eosdis.nasa.gov%2Fdata-redirect&state=aHR0cHM6Ly9ncG0xLmdlc2Rpc2MuZW9zZGlzLm5hc2EuZ292L29wZW5kYXAvR1BNX0wzL0dQTV8zSU1FUkdISC4wNi8yMDIwLzE1My8zQi1ISFIuTVMuTVJHLjNJTUVSRy4yMDIwMDYwMS1TMDQwMDAwLUUwNDI5NTkuMDI0MC5WMDZCLkhERjUubmM0P3ByZWNpcGl0YXRpb25RdWFsaXR5SW5kZXhbMDowXVs5NjA6MTQ3MF1bMzQ5OjEwMjldLHByZWNpcGl0YXRpb25DYWxbMDowXVs5NjA6MTQ3MF1bMzQ5OjEwMjldLHRpbWUsbG9uWzk2MDoxNDcwXSxsYXRbMzQ5OjEwMjld\n",
      "Resolving urs.earthdata.nasa.gov (urs.earthdata.nasa.gov)... 198.118.243.33, 2001:4d0:241a:4081::89\n",
      "Connecting to urs.earthdata.nasa.gov (urs.earthdata.nasa.gov)|198.118.243.33|:443... connected.\n",
      "HTTP request sent, awaiting response... 401 Unauthorized\n",
      "Authentication selected: Basic realm=\"Please enter your Earthdata Login credentials. If you do not have a Earthdata Login, create one at https://urs.earthdata.nasa.gov//users/new\"\n",
      "Reusing existing connection to urs.earthdata.nasa.gov:443.\n",
      "HTTP request sent, awaiting response... 302 Found\n",
      "Location: https://gpm1.gesdisc.eosdis.nasa.gov/data-redirect?code=vfeE1II7HFW28BvAhY2nGLAOilLBWDSyGKN4snGH2sP0pquTyNLhrJs_a0WqkWES8MKENV0STmbrt67vyA4G&state=aHR0cHM6Ly9ncG0xLmdlc2Rpc2MuZW9zZGlzLm5hc2EuZ292L29wZW5kYXAvR1BNX0wzL0dQTV8zSU1FUkdISC4wNi8yMDIwLzE1My8zQi1ISFIuTVMuTVJHLjNJTUVSRy4yMDIwMDYwMS1TMDQwMDAwLUUwNDI5NTkuMDI0MC5WMDZCLkhERjUubmM0P3ByZWNpcGl0YXRpb25RdWFsaXR5SW5kZXhbMDowXVs5NjA6MTQ3MF1bMzQ5OjEwMjldLHByZWNpcGl0YXRpb25DYWxbMDowXVs5NjA6MTQ3MF1bMzQ5OjEwMjldLHRpbWUsbG9uWzk2MDoxNDcwXSxsYXRbMzQ5OjEwMjld [following]\n",
      "--2023-11-29 09:13:49--  https://gpm1.gesdisc.eosdis.nasa.gov/data-redirect?code=vfeE1II7HFW28BvAhY2nGLAOilLBWDSyGKN4snGH2sP0pquTyNLhrJs_a0WqkWES8MKENV0STmbrt67vyA4G&state=aHR0cHM6Ly9ncG0xLmdlc2Rpc2MuZW9zZGlzLm5hc2EuZ292L29wZW5kYXAvR1BNX0wzL0dQTV8zSU1FUkdISC4wNi8yMDIwLzE1My8zQi1ISFIuTVMuTVJHLjNJTUVSRy4yMDIwMDYwMS1TMDQwMDAwLUUwNDI5NTkuMDI0MC5WMDZCLkhERjUubmM0P3ByZWNpcGl0YXRpb25RdWFsaXR5SW5kZXhbMDowXVs5NjA6MTQ3MF1bMzQ5OjEwMjldLHByZWNpcGl0YXRpb25DYWxbMDowXVs5NjA6MTQ3MF1bMzQ5OjEwMjldLHRpbWUsbG9uWzk2MDoxNDcwXSxsYXRbMzQ5OjEwMjld\n",
      "Connecting to gpm1.gesdisc.eosdis.nasa.gov (gpm1.gesdisc.eosdis.nasa.gov)|198.118.197.50|:443... connected.\n",
      "HTTP request sent, awaiting response... 302 Found\n",
      "Location: https://gpm1.gesdisc.eosdis.nasa.gov/opendap/GPM_L3/GPM_3IMERGHH.06/2020/153/3B-HHR.MS.MRG.3IMERG.20200601-S040000-E042959.0240.V06B.HDF5.nc4?precipitationQualityIndex[0:0][960:1470][349:1029],precipitationCal[0:0][960:1470][349:1029],time,lon[960:1470],lat[349:1029] [following]\n",
      "--2023-11-29 09:13:49--  https://gpm1.gesdisc.eosdis.nasa.gov/opendap/GPM_L3/GPM_3IMERGHH.06/2020/153/3B-HHR.MS.MRG.3IMERG.20200601-S040000-E042959.0240.V06B.HDF5.nc4?precipitationQualityIndex[0:0][960:1470][349:1029],precipitationCal[0:0][960:1470][349:1029],time,lon[960:1470],lat[349:1029]\n",
      "Connecting to gpm1.gesdisc.eosdis.nasa.gov (gpm1.gesdisc.eosdis.nasa.gov)|198.118.197.50|:443... connected.\n",
      "HTTP request sent, awaiting response... 200 200\n",
      "Length: unspecified [application/x-netcdf]\n",
      "Saving to: ‘/mnt/Data/Data/IMERG/serra_do_mar_raw/3IMERG.20200601-S040000-E042959.0240.V06B.nc’\n",
      "\n",
      "     0K .......... .......... .......... .......... ..........  182K\n",
      "    50K .......... .......... .......... .......... ..........  364K\n",
      "   100K .......... .......... .......... .......... .......... 11,6M\n",
      "   150K .......... .......... .......... .......... ..........  376K\n",
      "   200K .......... .......... .......... .......... .......... 11,7M\n",
      "   250K .......... ........                                    16,6M=0,6s\n",
      "\n",
      "2023-11-29 09:13:51 (485 KB/s) - ‘/mnt/Data/Data/IMERG/serra_do_mar_raw/3IMERG.20200601-S040000-E042959.0240.V06B.nc’ saved [275015]\n",
      "\n",
      "--2023-11-29 09:13:51--  https://gpm1.gesdisc.eosdis.nasa.gov/opendap/GPM_L3/GPM_3IMERGHH.06/2020/153/3B-HHR.MS.MRG.3IMERG.20200601-S043000-E045959.0270.V06B.HDF5.nc4?precipitationQualityIndex[0:0][960:1470][349:1029],precipitationCal[0:0][960:1470][349:1029],time,lon[960:1470],lat[349:1029]\n",
      "Resolving gpm1.gesdisc.eosdis.nasa.gov (gpm1.gesdisc.eosdis.nasa.gov)... 198.118.197.50, 2001:4d0:241a:4041::50\n",
      "Connecting to gpm1.gesdisc.eosdis.nasa.gov (gpm1.gesdisc.eosdis.nasa.gov)|198.118.197.50|:443... connected.\n",
      "HTTP request sent, awaiting response... 302 Found\n",
      "Location: https://urs.earthdata.nasa.gov/oauth/authorize/?scope=uid&app_type=401&client_id=e2WVk8Pw6weeLUKZYOxvTQ&response_type=code&redirect_uri=https%3A%2F%2Fgpm1.gesdisc.eosdis.nasa.gov%2Fdata-redirect&state=aHR0cHM6Ly9ncG0xLmdlc2Rpc2MuZW9zZGlzLm5hc2EuZ292L29wZW5kYXAvR1BNX0wzL0dQTV8zSU1FUkdISC4wNi8yMDIwLzE1My8zQi1ISFIuTVMuTVJHLjNJTUVSRy4yMDIwMDYwMS1TMDQzMDAwLUUwNDU5NTkuMDI3MC5WMDZCLkhERjUubmM0P3ByZWNpcGl0YXRpb25RdWFsaXR5SW5kZXhbMDowXVs5NjA6MTQ3MF1bMzQ5OjEwMjldLHByZWNpcGl0YXRpb25DYWxbMDowXVs5NjA6MTQ3MF1bMzQ5OjEwMjldLHRpbWUsbG9uWzk2MDoxNDcwXSxsYXRbMzQ5OjEwMjld [following]\n",
      "--2023-11-29 09:13:51--  https://urs.earthdata.nasa.gov/oauth/authorize/?scope=uid&app_type=401&client_id=e2WVk8Pw6weeLUKZYOxvTQ&response_type=code&redirect_uri=https%3A%2F%2Fgpm1.gesdisc.eosdis.nasa.gov%2Fdata-redirect&state=aHR0cHM6Ly9ncG0xLmdlc2Rpc2MuZW9zZGlzLm5hc2EuZ292L29wZW5kYXAvR1BNX0wzL0dQTV8zSU1FUkdISC4wNi8yMDIwLzE1My8zQi1ISFIuTVMuTVJHLjNJTUVSRy4yMDIwMDYwMS1TMDQzMDAwLUUwNDU5NTkuMDI3MC5WMDZCLkhERjUubmM0P3ByZWNpcGl0YXRpb25RdWFsaXR5SW5kZXhbMDowXVs5NjA6MTQ3MF1bMzQ5OjEwMjldLHByZWNpcGl0YXRpb25DYWxbMDowXVs5NjA6MTQ3MF1bMzQ5OjEwMjldLHRpbWUsbG9uWzk2MDoxNDcwXSxsYXRbMzQ5OjEwMjld\n",
      "Resolving urs.earthdata.nasa.gov (urs.earthdata.nasa.gov)... 198.118.243.33, 2001:4d0:241a:4081::89\n",
      "Connecting to urs.earthdata.nasa.gov (urs.earthdata.nasa.gov)|198.118.243.33|:443... connected.\n",
      "HTTP request sent, awaiting response... 401 Unauthorized\n",
      "Authentication selected: Basic realm=\"Please enter your Earthdata Login credentials. If you do not have a Earthdata Login, create one at https://urs.earthdata.nasa.gov//users/new\"\n",
      "Reusing existing connection to urs.earthdata.nasa.gov:443.\n",
      "HTTP request sent, awaiting response... 302 Found\n",
      "Location: https://gpm1.gesdisc.eosdis.nasa.gov/data-redirect?code=fL_ubojaHJgvVLM3aeIDqYJg__dzApv76aQk0c8CnQZW9d1ngR_W8DgtowM72gTBZhhzoCdlmvLLetSMnFv8&state=aHR0cHM6Ly9ncG0xLmdlc2Rpc2MuZW9zZGlzLm5hc2EuZ292L29wZW5kYXAvR1BNX0wzL0dQTV8zSU1FUkdISC4wNi8yMDIwLzE1My8zQi1ISFIuTVMuTVJHLjNJTUVSRy4yMDIwMDYwMS1TMDQzMDAwLUUwNDU5NTkuMDI3MC5WMDZCLkhERjUubmM0P3ByZWNpcGl0YXRpb25RdWFsaXR5SW5kZXhbMDowXVs5NjA6MTQ3MF1bMzQ5OjEwMjldLHByZWNpcGl0YXRpb25DYWxbMDowXVs5NjA6MTQ3MF1bMzQ5OjEwMjldLHRpbWUsbG9uWzk2MDoxNDcwXSxsYXRbMzQ5OjEwMjld [following]\n",
      "--2023-11-29 09:13:52--  https://gpm1.gesdisc.eosdis.nasa.gov/data-redirect?code=fL_ubojaHJgvVLM3aeIDqYJg__dzApv76aQk0c8CnQZW9d1ngR_W8DgtowM72gTBZhhzoCdlmvLLetSMnFv8&state=aHR0cHM6Ly9ncG0xLmdlc2Rpc2MuZW9zZGlzLm5hc2EuZ292L29wZW5kYXAvR1BNX0wzL0dQTV8zSU1FUkdISC4wNi8yMDIwLzE1My8zQi1ISFIuTVMuTVJHLjNJTUVSRy4yMDIwMDYwMS1TMDQzMDAwLUUwNDU5NTkuMDI3MC5WMDZCLkhERjUubmM0P3ByZWNpcGl0YXRpb25RdWFsaXR5SW5kZXhbMDowXVs5NjA6MTQ3MF1bMzQ5OjEwMjldLHByZWNpcGl0YXRpb25DYWxbMDowXVs5NjA6MTQ3MF1bMzQ5OjEwMjldLHRpbWUsbG9uWzk2MDoxNDcwXSxsYXRbMzQ5OjEwMjld\n",
      "Connecting to gpm1.gesdisc.eosdis.nasa.gov (gpm1.gesdisc.eosdis.nasa.gov)|198.118.197.50|:443... connected.\n",
      "HTTP request sent, awaiting response... 302 Found\n",
      "Location: https://gpm1.gesdisc.eosdis.nasa.gov/opendap/GPM_L3/GPM_3IMERGHH.06/2020/153/3B-HHR.MS.MRG.3IMERG.20200601-S043000-E045959.0270.V06B.HDF5.nc4?precipitationQualityIndex[0:0][960:1470][349:1029],precipitationCal[0:0][960:1470][349:1029],time,lon[960:1470],lat[349:1029] [following]\n",
      "--2023-11-29 09:13:53--  https://gpm1.gesdisc.eosdis.nasa.gov/opendap/GPM_L3/GPM_3IMERGHH.06/2020/153/3B-HHR.MS.MRG.3IMERG.20200601-S043000-E045959.0270.V06B.HDF5.nc4?precipitationQualityIndex[0:0][960:1470][349:1029],precipitationCal[0:0][960:1470][349:1029],time,lon[960:1470],lat[349:1029]\n",
      "Connecting to gpm1.gesdisc.eosdis.nasa.gov (gpm1.gesdisc.eosdis.nasa.gov)|198.118.197.50|:443... connected.\n",
      "HTTP request sent, awaiting response... 200 200\n",
      "Length: unspecified [application/x-netcdf]\n",
      "Saving to: ‘/mnt/Data/Data/IMERG/serra_do_mar_raw/3IMERG.20200601-S043000-E045959.0270.V06B.nc’\n",
      "\n",
      "     0K .......... .......... .......... .......... ..........  182K\n",
      "    50K .......... .......... .......... .......... ..........  367K\n",
      "   100K .......... .......... .......... .......... .......... 11,4M\n",
      "   150K .......... .......... .......... .......... ..........  377K\n",
      "   200K .......... .......... .......... .......... .......... 11,8M\n",
      "   250K .......... .......... .......... .....                 13,1M=0,6s\n",
      "\n",
      "2023-11-29 09:13:54 (515 KB/s) - ‘/mnt/Data/Data/IMERG/serra_do_mar_raw/3IMERG.20200601-S043000-E045959.0270.V06B.nc’ saved [292215]\n",
      "\n",
      "--2023-11-29 09:13:54--  https://gpm1.gesdisc.eosdis.nasa.gov/opendap/GPM_L3/GPM_3IMERGHH.06/2020/153/3B-HHR.MS.MRG.3IMERG.20200601-S050000-E052959.0300.V06B.HDF5.nc4?precipitationQualityIndex[0:0][960:1470][349:1029],precipitationCal[0:0][960:1470][349:1029],time,lon[960:1470],lat[349:1029]\n",
      "Resolving gpm1.gesdisc.eosdis.nasa.gov (gpm1.gesdisc.eosdis.nasa.gov)... 198.118.197.50, 2001:4d0:241a:4041::50\n",
      "Connecting to gpm1.gesdisc.eosdis.nasa.gov (gpm1.gesdisc.eosdis.nasa.gov)|198.118.197.50|:443... connected.\n",
      "HTTP request sent, awaiting response... 302 Found\n",
      "Location: https://urs.earthdata.nasa.gov/oauth/authorize/?scope=uid&app_type=401&client_id=e2WVk8Pw6weeLUKZYOxvTQ&response_type=code&redirect_uri=https%3A%2F%2Fgpm1.gesdisc.eosdis.nasa.gov%2Fdata-redirect&state=aHR0cHM6Ly9ncG0xLmdlc2Rpc2MuZW9zZGlzLm5hc2EuZ292L29wZW5kYXAvR1BNX0wzL0dQTV8zSU1FUkdISC4wNi8yMDIwLzE1My8zQi1ISFIuTVMuTVJHLjNJTUVSRy4yMDIwMDYwMS1TMDUwMDAwLUUwNTI5NTkuMDMwMC5WMDZCLkhERjUubmM0P3ByZWNpcGl0YXRpb25RdWFsaXR5SW5kZXhbMDowXVs5NjA6MTQ3MF1bMzQ5OjEwMjldLHByZWNpcGl0YXRpb25DYWxbMDowXVs5NjA6MTQ3MF1bMzQ5OjEwMjldLHRpbWUsbG9uWzk2MDoxNDcwXSxsYXRbMzQ5OjEwMjld [following]\n",
      "--2023-11-29 09:13:55--  https://urs.earthdata.nasa.gov/oauth/authorize/?scope=uid&app_type=401&client_id=e2WVk8Pw6weeLUKZYOxvTQ&response_type=code&redirect_uri=https%3A%2F%2Fgpm1.gesdisc.eosdis.nasa.gov%2Fdata-redirect&state=aHR0cHM6Ly9ncG0xLmdlc2Rpc2MuZW9zZGlzLm5hc2EuZ292L29wZW5kYXAvR1BNX0wzL0dQTV8zSU1FUkdISC4wNi8yMDIwLzE1My8zQi1ISFIuTVMuTVJHLjNJTUVSRy4yMDIwMDYwMS1TMDUwMDAwLUUwNTI5NTkuMDMwMC5WMDZCLkhERjUubmM0P3ByZWNpcGl0YXRpb25RdWFsaXR5SW5kZXhbMDowXVs5NjA6MTQ3MF1bMzQ5OjEwMjldLHByZWNpcGl0YXRpb25DYWxbMDowXVs5NjA6MTQ3MF1bMzQ5OjEwMjldLHRpbWUsbG9uWzk2MDoxNDcwXSxsYXRbMzQ5OjEwMjld\n",
      "Resolving urs.earthdata.nasa.gov (urs.earthdata.nasa.gov)... 198.118.243.33, 2001:4d0:241a:4081::89\n",
      "Connecting to urs.earthdata.nasa.gov (urs.earthdata.nasa.gov)|198.118.243.33|:443... connected.\n",
      "HTTP request sent, awaiting response... 401 Unauthorized\n",
      "Authentication selected: Basic realm=\"Please enter your Earthdata Login credentials. If you do not have a Earthdata Login, create one at https://urs.earthdata.nasa.gov//users/new\"\n",
      "Reusing existing connection to urs.earthdata.nasa.gov:443.\n",
      "HTTP request sent, awaiting response... 302 Found\n",
      "Location: https://gpm1.gesdisc.eosdis.nasa.gov/data-redirect?code=ofAFELhKrz25I2UozHV5Kjd8tblCi1QRwcjv2c79XLWR4li_l_Jlv6ZD-YemLzKKFdg8M6ZPtTp7MGZ17xDh&state=aHR0cHM6Ly9ncG0xLmdlc2Rpc2MuZW9zZGlzLm5hc2EuZ292L29wZW5kYXAvR1BNX0wzL0dQTV8zSU1FUkdISC4wNi8yMDIwLzE1My8zQi1ISFIuTVMuTVJHLjNJTUVSRy4yMDIwMDYwMS1TMDUwMDAwLUUwNTI5NTkuMDMwMC5WMDZCLkhERjUubmM0P3ByZWNpcGl0YXRpb25RdWFsaXR5SW5kZXhbMDowXVs5NjA6MTQ3MF1bMzQ5OjEwMjldLHByZWNpcGl0YXRpb25DYWxbMDowXVs5NjA6MTQ3MF1bMzQ5OjEwMjldLHRpbWUsbG9uWzk2MDoxNDcwXSxsYXRbMzQ5OjEwMjld [following]\n",
      "--2023-11-29 09:13:56--  https://gpm1.gesdisc.eosdis.nasa.gov/data-redirect?code=ofAFELhKrz25I2UozHV5Kjd8tblCi1QRwcjv2c79XLWR4li_l_Jlv6ZD-YemLzKKFdg8M6ZPtTp7MGZ17xDh&state=aHR0cHM6Ly9ncG0xLmdlc2Rpc2MuZW9zZGlzLm5hc2EuZ292L29wZW5kYXAvR1BNX0wzL0dQTV8zSU1FUkdISC4wNi8yMDIwLzE1My8zQi1ISFIuTVMuTVJHLjNJTUVSRy4yMDIwMDYwMS1TMDUwMDAwLUUwNTI5NTkuMDMwMC5WMDZCLkhERjUubmM0P3ByZWNpcGl0YXRpb25RdWFsaXR5SW5kZXhbMDowXVs5NjA6MTQ3MF1bMzQ5OjEwMjldLHByZWNpcGl0YXRpb25DYWxbMDowXVs5NjA6MTQ3MF1bMzQ5OjEwMjldLHRpbWUsbG9uWzk2MDoxNDcwXSxsYXRbMzQ5OjEwMjld\n",
      "Connecting to gpm1.gesdisc.eosdis.nasa.gov (gpm1.gesdisc.eosdis.nasa.gov)|198.118.197.50|:443... connected.\n",
      "HTTP request sent, awaiting response... 302 Found\n",
      "Location: https://gpm1.gesdisc.eosdis.nasa.gov/opendap/GPM_L3/GPM_3IMERGHH.06/2020/153/3B-HHR.MS.MRG.3IMERG.20200601-S050000-E052959.0300.V06B.HDF5.nc4?precipitationQualityIndex[0:0][960:1470][349:1029],precipitationCal[0:0][960:1470][349:1029],time,lon[960:1470],lat[349:1029] [following]\n",
      "--2023-11-29 09:13:57--  https://gpm1.gesdisc.eosdis.nasa.gov/opendap/GPM_L3/GPM_3IMERGHH.06/2020/153/3B-HHR.MS.MRG.3IMERG.20200601-S050000-E052959.0300.V06B.HDF5.nc4?precipitationQualityIndex[0:0][960:1470][349:1029],precipitationCal[0:0][960:1470][349:1029],time,lon[960:1470],lat[349:1029]\n",
      "Connecting to gpm1.gesdisc.eosdis.nasa.gov (gpm1.gesdisc.eosdis.nasa.gov)|198.118.197.50|:443... connected.\n",
      "HTTP request sent, awaiting response... "
     ]
    },
    {
     "ename": "KeyboardInterrupt",
     "evalue": "",
     "output_type": "error",
     "traceback": [
      "\u001b[0;31m---------------------------------------------------------------------------\u001b[0m",
      "\u001b[0;31mKeyboardInterrupt\u001b[0m                         Traceback (most recent call last)",
      "\u001b[1;32m/mnt/Data/Github/IMERG_processing/jupyter/download/download_half_hour.ipynb Cell 8\u001b[0m line \u001b[0;36m<cell line: 1>\u001b[0;34m()\u001b[0m\n\u001b[1;32m      <a href='vscode-notebook-cell:/mnt/Data/Github/IMERG_processing/jupyter/download/download_half_hour.ipynb#W6sZmlsZQ%3D%3D?line=6'>7</a>\u001b[0m     \u001b[39mpass\u001b[39;00m\n\u001b[1;32m      <a href='vscode-notebook-cell:/mnt/Data/Github/IMERG_processing/jupyter/download/download_half_hour.ipynb#W6sZmlsZQ%3D%3D?line=7'>8</a>\u001b[0m \u001b[39melse\u001b[39;00m:\n\u001b[0;32m----> <a href='vscode-notebook-cell:/mnt/Data/Github/IMERG_processing/jupyter/download/download_half_hour.ipynb#W6sZmlsZQ%3D%3D?line=8'>9</a>\u001b[0m     subprocess\u001b[39m.\u001b[39;49mrun([\u001b[39m\"\u001b[39;49m\u001b[39mwget\u001b[39;49m\u001b[39m\"\u001b[39;49m, \u001b[39m\"\u001b[39;49m\u001b[39m--user\u001b[39;49m\u001b[39m\"\u001b[39;49m, USER, \u001b[39m\"\u001b[39;49m\u001b[39m--password\u001b[39;49m\u001b[39m\"\u001b[39;49m, PASS, file_download[t], \u001b[39m\"\u001b[39;49m\u001b[39m-O\u001b[39;49m\u001b[39m\"\u001b[39;49m, name2])\n",
      "File \u001b[0;32m~/anaconda3/envs/AXE/lib/python3.9/subprocess.py:507\u001b[0m, in \u001b[0;36mrun\u001b[0;34m(input, capture_output, timeout, check, *popenargs, **kwargs)\u001b[0m\n\u001b[1;32m    505\u001b[0m \u001b[39mwith\u001b[39;00m Popen(\u001b[39m*\u001b[39mpopenargs, \u001b[39m*\u001b[39m\u001b[39m*\u001b[39mkwargs) \u001b[39mas\u001b[39;00m process:\n\u001b[1;32m    506\u001b[0m     \u001b[39mtry\u001b[39;00m:\n\u001b[0;32m--> 507\u001b[0m         stdout, stderr \u001b[39m=\u001b[39m process\u001b[39m.\u001b[39;49mcommunicate(\u001b[39minput\u001b[39;49m, timeout\u001b[39m=\u001b[39;49mtimeout)\n\u001b[1;32m    508\u001b[0m     \u001b[39mexcept\u001b[39;00m TimeoutExpired \u001b[39mas\u001b[39;00m exc:\n\u001b[1;32m    509\u001b[0m         process\u001b[39m.\u001b[39mkill()\n",
      "File \u001b[0;32m~/anaconda3/envs/AXE/lib/python3.9/subprocess.py:1126\u001b[0m, in \u001b[0;36mPopen.communicate\u001b[0;34m(self, input, timeout)\u001b[0m\n\u001b[1;32m   1124\u001b[0m         stderr \u001b[39m=\u001b[39m \u001b[39mself\u001b[39m\u001b[39m.\u001b[39mstderr\u001b[39m.\u001b[39mread()\n\u001b[1;32m   1125\u001b[0m         \u001b[39mself\u001b[39m\u001b[39m.\u001b[39mstderr\u001b[39m.\u001b[39mclose()\n\u001b[0;32m-> 1126\u001b[0m     \u001b[39mself\u001b[39;49m\u001b[39m.\u001b[39;49mwait()\n\u001b[1;32m   1127\u001b[0m \u001b[39melse\u001b[39;00m:\n\u001b[1;32m   1128\u001b[0m     \u001b[39mif\u001b[39;00m timeout \u001b[39mis\u001b[39;00m \u001b[39mnot\u001b[39;00m \u001b[39mNone\u001b[39;00m:\n",
      "File \u001b[0;32m~/anaconda3/envs/AXE/lib/python3.9/subprocess.py:1189\u001b[0m, in \u001b[0;36mPopen.wait\u001b[0;34m(self, timeout)\u001b[0m\n\u001b[1;32m   1187\u001b[0m     endtime \u001b[39m=\u001b[39m _time() \u001b[39m+\u001b[39m timeout\n\u001b[1;32m   1188\u001b[0m \u001b[39mtry\u001b[39;00m:\n\u001b[0;32m-> 1189\u001b[0m     \u001b[39mreturn\u001b[39;00m \u001b[39mself\u001b[39;49m\u001b[39m.\u001b[39;49m_wait(timeout\u001b[39m=\u001b[39;49mtimeout)\n\u001b[1;32m   1190\u001b[0m \u001b[39mexcept\u001b[39;00m \u001b[39mKeyboardInterrupt\u001b[39;00m:\n\u001b[1;32m   1191\u001b[0m     \u001b[39m# https://bugs.python.org/issue25942\u001b[39;00m\n\u001b[1;32m   1192\u001b[0m     \u001b[39m# The first keyboard interrupt waits briefly for the child to\u001b[39;00m\n\u001b[1;32m   1193\u001b[0m     \u001b[39m# exit under the common assumption that it also received the ^C\u001b[39;00m\n\u001b[1;32m   1194\u001b[0m     \u001b[39m# generated SIGINT and will exit rapidly.\u001b[39;00m\n\u001b[1;32m   1195\u001b[0m     \u001b[39mif\u001b[39;00m timeout \u001b[39mis\u001b[39;00m \u001b[39mnot\u001b[39;00m \u001b[39mNone\u001b[39;00m:\n",
      "File \u001b[0;32m~/anaconda3/envs/AXE/lib/python3.9/subprocess.py:1917\u001b[0m, in \u001b[0;36mPopen._wait\u001b[0;34m(self, timeout)\u001b[0m\n\u001b[1;32m   1915\u001b[0m \u001b[39mif\u001b[39;00m \u001b[39mself\u001b[39m\u001b[39m.\u001b[39mreturncode \u001b[39mis\u001b[39;00m \u001b[39mnot\u001b[39;00m \u001b[39mNone\u001b[39;00m:\n\u001b[1;32m   1916\u001b[0m     \u001b[39mbreak\u001b[39;00m  \u001b[39m# Another thread waited.\u001b[39;00m\n\u001b[0;32m-> 1917\u001b[0m (pid, sts) \u001b[39m=\u001b[39m \u001b[39mself\u001b[39;49m\u001b[39m.\u001b[39;49m_try_wait(\u001b[39m0\u001b[39;49m)\n\u001b[1;32m   1918\u001b[0m \u001b[39m# Check the pid and loop as waitpid has been known to\u001b[39;00m\n\u001b[1;32m   1919\u001b[0m \u001b[39m# return 0 even without WNOHANG in odd situations.\u001b[39;00m\n\u001b[1;32m   1920\u001b[0m \u001b[39m# http://bugs.python.org/issue14396.\u001b[39;00m\n\u001b[1;32m   1921\u001b[0m \u001b[39mif\u001b[39;00m pid \u001b[39m==\u001b[39m \u001b[39mself\u001b[39m\u001b[39m.\u001b[39mpid:\n",
      "File \u001b[0;32m~/anaconda3/envs/AXE/lib/python3.9/subprocess.py:1875\u001b[0m, in \u001b[0;36mPopen._try_wait\u001b[0;34m(self, wait_flags)\u001b[0m\n\u001b[1;32m   1873\u001b[0m \u001b[39m\"\"\"All callers to this function MUST hold self._waitpid_lock.\"\"\"\u001b[39;00m\n\u001b[1;32m   1874\u001b[0m \u001b[39mtry\u001b[39;00m:\n\u001b[0;32m-> 1875\u001b[0m     (pid, sts) \u001b[39m=\u001b[39m os\u001b[39m.\u001b[39;49mwaitpid(\u001b[39mself\u001b[39;49m\u001b[39m.\u001b[39;49mpid, wait_flags)\n\u001b[1;32m   1876\u001b[0m \u001b[39mexcept\u001b[39;00m \u001b[39mChildProcessError\u001b[39;00m:\n\u001b[1;32m   1877\u001b[0m     \u001b[39m# This happens if SIGCLD is set to be ignored or waiting\u001b[39;00m\n\u001b[1;32m   1878\u001b[0m     \u001b[39m# for child processes has otherwise been disabled for our\u001b[39;00m\n\u001b[1;32m   1879\u001b[0m     \u001b[39m# process.  This child is dead, we can't get the status.\u001b[39;00m\n\u001b[1;32m   1880\u001b[0m     pid \u001b[39m=\u001b[39m \u001b[39mself\u001b[39m\u001b[39m.\u001b[39mpid\n",
      "\u001b[0;31mKeyboardInterrupt\u001b[0m: "
     ]
    }
   ],
   "source": [
    "for t in range(2,len_files):\n",
    "    name1 = file_download[t].split('/')[-1][14:55]\n",
    "    name2 = data_output + name1 + '.nc'\n",
    "    # name2 = './' + name1 + '.nc'\n",
    "\n",
    "    if  file_exists(name2) == True:\n",
    "        pass\n",
    "    else:\n",
    "        subprocess.run([\"wget\", \"--user\", USER, \"--password\", PASS, file_download[t], \"-O\", name2])"
   ]
  },
  {
   "cell_type": "code",
   "execution_count": null,
   "metadata": {},
   "outputs": [],
   "source": []
  }
 ],
 "metadata": {
  "kernelspec": {
   "display_name": "Python 3.9.7 ('AXE')",
   "language": "python",
   "name": "python3"
  },
  "language_info": {
   "codemirror_mode": {
    "name": "ipython",
    "version": 3
   },
   "file_extension": ".py",
   "mimetype": "text/x-python",
   "name": "python",
   "nbconvert_exporter": "python",
   "pygments_lexer": "ipython3",
   "version": "3.9.13"
  },
  "orig_nbformat": 4,
  "vscode": {
   "interpreter": {
    "hash": "c6c4883052875ec3257edf99ee092a790b9a432228222ee7e742d4f8a559e5a8"
   }
  }
 },
 "nbformat": 4,
 "nbformat_minor": 2
}
