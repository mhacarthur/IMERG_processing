{
 "cells": [
  {
   "cell_type": "code",
   "execution_count": null,
   "metadata": {},
   "outputs": [],
   "source": [
    "import glob\n",
    "import pandas as pd\n",
    "import clima_anom as ca\n",
    "import subprocess\n",
    "\n",
    "import os\n",
    "from os.path import exists as file_exists"
   ]
  },
  {
   "cell_type": "markdown",
   "metadata": {},
   "source": [
    "### INFO\n",
    "Link: https://disc.gsfc.nasa.gov/datasets/GPM_3IMERGHH_06/summary?keywords=IMERG\n",
    "\n",
    "Dataset: GPM IMERG Final Precipitation L3 Half Hourly 0.1 degree x 0.1 degree V06\n",
    "\n",
    "Download Method:  Get File Subsets using OPeNDAP\n",
    "\n",
    "Date Range: 2021-01-01 to 2021-01-08 half hourly\n",
    "\n",
    "Region: -90, -60, -25, 20 (Search and Crop)\n",
    "\n",
    "Variables: precipitationCal\n",
    "\n",
    "Format: netCDF"
   ]
  },
  {
   "cell_type": "code",
   "execution_count": null,
   "metadata": {},
   "outputs": [],
   "source": [
    "USER=os.environ['IMERG_USER']\n",
    "PASS=os.environ['IMERG_PASS']"
   ]
  },
  {
   "cell_type": "code",
   "execution_count": null,
   "metadata": {},
   "outputs": [],
   "source": [
    "list_txt = '../../list/IMERG_2021_01_01_2021_01_08_half_hour.txt'\n",
    "\n",
    "with open(list_txt) as f:\n",
    "    file_download = f.readlines()\n",
    "\n",
    "len_files = len(file_download)\n",
    "print(f'Number of files to download: {len_files}')"
   ]
  },
  {
   "cell_type": "code",
   "execution_count": null,
   "metadata": {},
   "outputs": [],
   "source": [
    "for t in range(2,10):\n",
    "    name1 = file_download[t].split('/')[-1][14:55]\n",
    "    print(name1)"
   ]
  },
  {
   "cell_type": "code",
   "execution_count": null,
   "metadata": {},
   "outputs": [],
   "source": [
    "for t in range(2,len_files):\n",
    "    name1 = file_download[t].split('/')[-1][14:55]\n",
    "    name2 = '/mnt/Data/Data/IMERG/raw_half_hour/' + name1 + '.nc'\n",
    "\n",
    "    if  file_exists(name2) == True:\n",
    "        pass\n",
    "    else:\n",
    "        subprocess.run([\"wget\", \"--user\", USER, \"--password\", PASS, file_download[t], \"-O\", name2])"
   ]
  },
  {
   "cell_type": "code",
   "execution_count": null,
   "metadata": {},
   "outputs": [],
   "source": []
  }
 ],
 "metadata": {
  "kernelspec": {
   "display_name": "Python 3.9.7 ('AXE')",
   "language": "python",
   "name": "python3"
  },
  "language_info": {
   "codemirror_mode": {
    "name": "ipython",
    "version": 3
   },
   "file_extension": ".py",
   "mimetype": "text/x-python",
   "name": "python",
   "nbconvert_exporter": "python",
   "pygments_lexer": "ipython3",
   "version": "3.9.7"
  },
  "orig_nbformat": 4,
  "vscode": {
   "interpreter": {
    "hash": "c6c4883052875ec3257edf99ee092a790b9a432228222ee7e742d4f8a559e5a8"
   }
  }
 },
 "nbformat": 4,
 "nbformat_minor": 2
}
