{
 "cells": [
  {
   "cell_type": "code",
   "execution_count": null,
   "metadata": {},
   "outputs": [],
   "source": [
    "import glob\n",
    "import pandas as pd\n",
    "import clima_anom as ca\n",
    "import subprocess\n",
    "\n",
    "import os\n",
    "from os.path import exists as file_exists"
   ]
  },
  {
   "cell_type": "code",
   "execution_count": null,
   "metadata": {},
   "outputs": [],
   "source": [
    "USER=os.environ['IMERG_USER']\n",
    "PASS=os.environ['IMERG_PASS']"
   ]
  },
  {
   "cell_type": "code",
   "execution_count": null,
   "metadata": {},
   "outputs": [],
   "source": [
    "list_txt = '/mnt/Data/Data/IMERG/List_download/IMERG_Final_Prec_L3_daily_01x01_2001_01_2020_12.txt'\n",
    "with open(list_txt) as f:\n",
    "    file_download = f.readlines()\n",
    "\n",
    "len_files = len(file_download)"
   ]
  },
  {
   "cell_type": "code",
   "execution_count": null,
   "metadata": {},
   "outputs": [],
   "source": [
    "for t in range(2,10):\n",
    "    name1 = file_download[t].split('/')[8].split('.')[3]+'_'+file_download[t].split('/')[8].split('.')[4]+'_'+file_download[t].split('/')[8].split('.')[5]\n",
    "    print(name1)"
   ]
  },
  {
   "cell_type": "code",
   "execution_count": null,
   "metadata": {},
   "outputs": [],
   "source": [
    "for t in range(2,len_files):\n",
    "    name1 = file_download[t].split('/')[8].split('.')[3]+'_'+file_download[t].split('/')[8].split('.')[4]+'_'+file_download[t].split('/')[8].split('.')[5]\n",
    "    name2 = '/mnt/Data/Data/IMERG/raw_1dy/' + name1 + '.nc'\n",
    "\n",
    "    if  file_exists(name2) == True:\n",
    "        pass\n",
    "    else:\n",
    "        subprocess.run([\"wget\", \"--user\", USER, \"--password\", PASS, file_download[t], \"-O\", name2])"
   ]
  }
 ],
 "metadata": {
  "interpreter": {
   "hash": "c6c4883052875ec3257edf99ee092a790b9a432228222ee7e742d4f8a559e5a8"
  },
  "kernelspec": {
   "display_name": "Python 3.9.7 ('AXE')",
   "language": "python",
   "name": "python3"
  },
  "language_info": {
   "codemirror_mode": {
    "name": "ipython",
    "version": 3
   },
   "file_extension": ".py",
   "mimetype": "text/x-python",
   "name": "python",
   "nbconvert_exporter": "python",
   "pygments_lexer": "ipython3",
   "version": "3.9.7"
  },
  "orig_nbformat": 4
 },
 "nbformat": 4,
 "nbformat_minor": 2
}
