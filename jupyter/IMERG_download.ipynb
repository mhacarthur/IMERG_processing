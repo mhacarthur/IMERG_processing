{
 "cells": [
  {
   "cell_type": "code",
   "execution_count": 1,
   "metadata": {},
   "outputs": [],
   "source": [
    "import glob\n",
    "import os\n",
    "import pandas as pd\n",
    "import clima_anom as ca\n",
    "import subprocess\n",
    "from os.path import exists as file_exists"
   ]
  },
  {
   "cell_type": "code",
   "execution_count": 2,
   "metadata": {},
   "outputs": [],
   "source": [
    "USER='arturo66cta@gmail.com'\n",
    "PASS='Mazamorra2328'"
   ]
  },
  {
   "cell_type": "code",
   "execution_count": 3,
   "metadata": {},
   "outputs": [],
   "source": [
    "list_txt = '/mnt/Data/Data/IMERG/List_download/IMERG_Final_Prec_L3_daily_01x01_2001_01_2020_12.txt'\n",
    "with open(list_txt) as f:\n",
    "    file_download = f.readlines()\n",
    "\n",
    "len_files = len(file_download)"
   ]
  },
  {
   "cell_type": "code",
   "execution_count": 4,
   "metadata": {},
   "outputs": [
    {
     "name": "stdout",
     "output_type": "stream",
     "text": [
      "3IMERG_20010101-S000000-E235959_V06\n",
      "3IMERG_20010102-S000000-E235959_V06\n",
      "3IMERG_20010103-S000000-E235959_V06\n",
      "3IMERG_20010104-S000000-E235959_V06\n",
      "3IMERG_20010105-S000000-E235959_V06\n",
      "3IMERG_20010106-S000000-E235959_V06\n",
      "3IMERG_20010107-S000000-E235959_V06\n",
      "3IMERG_20010108-S000000-E235959_V06\n"
     ]
    }
   ],
   "source": [
    "for t in range(2,10):\n",
    "    name1 = file_download[t].split('/')[8].split('.')[3]+'_'+file_download[t].split('/')[8].split('.')[4]+'_'+file_download[t].split('/')[8].split('.')[5]\n",
    "    print(name1)"
   ]
  },
  {
   "cell_type": "code",
   "execution_count": 6,
   "metadata": {},
   "outputs": [
    {
     "name": "stderr",
     "output_type": "stream",
     "text": [
      "--2022-04-11 08:42:27--  https://gpm1.gesdisc.eosdis.nasa.gov/opendap/GPM_L3/GPM_3IMERGDF.06/2013/05/3B-DAY.MS.MRG.3IMERG.20130504-S000000-E235959.V06.nc4.nc4?precipitationCal[0:0][950:1499][449:1049],time,lon[950:1499],lat[449:1049]%0A\n",
      "Resolving gpm1.gesdisc.eosdis.nasa.gov (gpm1.gesdisc.eosdis.nasa.gov)... 198.118.197.50, 2001:4d0:241a:4041::50\n",
      "Connecting to gpm1.gesdisc.eosdis.nasa.gov (gpm1.gesdisc.eosdis.nasa.gov)|198.118.197.50|:443... connected.\n",
      "HTTP request sent, awaiting response... 302 Found\n",
      "Location: https://urs.earthdata.nasa.gov/oauth/authorize/?scope=uid&app_type=401&client_id=e2WVk8Pw6weeLUKZYOxvTQ&response_type=code&redirect_uri=https%3A%2F%2Fgpm1.gesdisc.eosdis.nasa.gov%2Fdata-redirect&state=aHR0cHM6Ly9ncG0xLmdlc2Rpc2MuZW9zZGlzLm5hc2EuZ292L29wZW5kYXAvR1BNX0wzL0dQTV8zSU1FUkdERi4wNi8yMDEzLzA1LzNCLURBWS5NUy5NUkcuM0lNRVJHLjIwMTMwNTA0LVMwMDAwMDAtRTIzNTk1OS5WMDYubmM0Lm5jND9wcmVjaXBpdGF0aW9uQ2FsWzA6MF1bOTUwOjE0OTldWzQ0OToxMDQ5XSx0aW1lLGxvbls5NTA6MTQ5OV0sbGF0WzQ0OToxMDQ5XSUwQQ [following]\n",
      "--2022-04-11 08:42:27--  https://urs.earthdata.nasa.gov/oauth/authorize/?scope=uid&app_type=401&client_id=e2WVk8Pw6weeLUKZYOxvTQ&response_type=code&redirect_uri=https%3A%2F%2Fgpm1.gesdisc.eosdis.nasa.gov%2Fdata-redirect&state=aHR0cHM6Ly9ncG0xLmdlc2Rpc2MuZW9zZGlzLm5hc2EuZ292L29wZW5kYXAvR1BNX0wzL0dQTV8zSU1FUkdERi4wNi8yMDEzLzA1LzNCLURBWS5NUy5NUkcuM0lNRVJHLjIwMTMwNTA0LVMwMDAwMDAtRTIzNTk1OS5WMDYubmM0Lm5jND9wcmVjaXBpdGF0aW9uQ2FsWzA6MF1bOTUwOjE0OTldWzQ0OToxMDQ5XSx0aW1lLGxvbls5NTA6MTQ5OV0sbGF0WzQ0OToxMDQ5XSUwQQ\n",
      "Resolving urs.earthdata.nasa.gov (urs.earthdata.nasa.gov)... 198.118.243.33, 2001:4d0:241a:4081::89\n",
      "Connecting to urs.earthdata.nasa.gov (urs.earthdata.nasa.gov)|198.118.243.33|:443... connected.\n",
      "HTTP request sent, awaiting response... 401 Unauthorized\n",
      "Authentication selected: Basic realm=\"Please enter your Earthdata Login credentials. If you do not have a Earthdata Login, create one at https://urs.earthdata.nasa.gov//users/new\"\n",
      "Reusing existing connection to urs.earthdata.nasa.gov:443.\n",
      "HTTP request sent, awaiting response... 302 Found\n",
      "Location: https://gpm1.gesdisc.eosdis.nasa.gov/data-redirect?code=2ff75810462d06fa3886c81b30ebd3b2cf21f9732633a7a553fa1df7709fcb1e&state=aHR0cHM6Ly9ncG0xLmdlc2Rpc2MuZW9zZGlzLm5hc2EuZ292L29wZW5kYXAvR1BNX0wzL0dQTV8zSU1FUkdERi4wNi8yMDEzLzA1LzNCLURBWS5NUy5NUkcuM0lNRVJHLjIwMTMwNTA0LVMwMDAwMDAtRTIzNTk1OS5WMDYubmM0Lm5jND9wcmVjaXBpdGF0aW9uQ2FsWzA6MF1bOTUwOjE0OTldWzQ0OToxMDQ5XSx0aW1lLGxvbls5NTA6MTQ5OV0sbGF0WzQ0OToxMDQ5XSUwQQ [following]\n",
      "--2022-04-11 08:42:29--  https://gpm1.gesdisc.eosdis.nasa.gov/data-redirect?code=2ff75810462d06fa3886c81b30ebd3b2cf21f9732633a7a553fa1df7709fcb1e&state=aHR0cHM6Ly9ncG0xLmdlc2Rpc2MuZW9zZGlzLm5hc2EuZ292L29wZW5kYXAvR1BNX0wzL0dQTV8zSU1FUkdERi4wNi8yMDEzLzA1LzNCLURBWS5NUy5NUkcuM0lNRVJHLjIwMTMwNTA0LVMwMDAwMDAtRTIzNTk1OS5WMDYubmM0Lm5jND9wcmVjaXBpdGF0aW9uQ2FsWzA6MF1bOTUwOjE0OTldWzQ0OToxMDQ5XSx0aW1lLGxvbls5NTA6MTQ5OV0sbGF0WzQ0OToxMDQ5XSUwQQ\n",
      "Connecting to gpm1.gesdisc.eosdis.nasa.gov (gpm1.gesdisc.eosdis.nasa.gov)|198.118.197.50|:443... connected.\n",
      "HTTP request sent, awaiting response... 302 Found\n",
      "Location: https://gpm1.gesdisc.eosdis.nasa.gov/opendap/GPM_L3/GPM_3IMERGDF.06/2013/05/3B-DAY.MS.MRG.3IMERG.20130504-S000000-E235959.V06.nc4.nc4?precipitationCal[0:0][950:1499][449:1049],time,lon[950:1499],lat[449:1049]%0A [following]\n",
      "--2022-04-11 08:42:29--  https://gpm1.gesdisc.eosdis.nasa.gov/opendap/GPM_L3/GPM_3IMERGDF.06/2013/05/3B-DAY.MS.MRG.3IMERG.20130504-S000000-E235959.V06.nc4.nc4?precipitationCal[0:0][950:1499][449:1049],time,lon[950:1499],lat[449:1049]%0A\n",
      "Connecting to gpm1.gesdisc.eosdis.nasa.gov (gpm1.gesdisc.eosdis.nasa.gov)|198.118.197.50|:443... connected.\n",
      "HTTP request sent, awaiting response... 200 OK\n",
      "Length: unspecified [application/x-netcdf]\n",
      "Saving to: ‘/mnt/Data/Data/IMERG/raw_1dy/3IMERG_20130504-S000000-E235959_V06.nc’\n",
      "\n",
      "     0K .......... .......... .......... .......... ..........  179K\n",
      "    50K .......... .......... .......... .......... ..........  369K\n",
      "   100K .......... .......... .......... .......... .......... 8,67M\n",
      "   150K .......... .......... .......... .......... ..........  378K\n",
      "   200K .......... .......... .......... .......... .......... 11,2M\n",
      "   250K .......... .......... .......... .......... .......... 11,9M\n",
      "   300K .......... .......... .......... .......... .......... 11,2M\n",
      "   350K .......... .......... .......... .......... ..........  403K\n",
      "   400K .......... .......... .......... .......... .......... 11,2M\n",
      "   450K .......... .......... .......... .......... .......... 11,6M\n",
      "   500K .......... .......... .......... .......... .......... 11,2M\n",
      "   550K .......... .......... .......... .......... .......... 10,1M\n",
      "   600K .......... .......... .......... .......... ..........  354K\n",
      "   650K .......... .......... .......... .......... .......... 20,8M\n",
      "   700K .......... .......... .......... .......... .......... 23,3M\n",
      "   750K .......... ....                                        30,0K=1,3s\n",
      "\n",
      "2022-04-11 08:42:31 (570 KB/s) - ‘/mnt/Data/Data/IMERG/raw_1dy/3IMERG_20130504-S000000-E235959_V06.nc’ saved [783023]\n",
      "\n"
     ]
    }
   ],
   "source": [
    "for t in range(2,len_files):#len_files\n",
    "    name1 = file_download[t].split('/')[8].split('.')[3]+'_'+file_download[t].split('/')[8].split('.')[4]+'_'+file_download[t].split('/')[8].split('.')[5]\n",
    "    name2 = '/mnt/Data/Data/IMERG/raw_1dy/' + name1 + '.nc'\n",
    "\n",
    "    if  file_exists(name2) == True:\n",
    "        pass\n",
    "    else:\n",
    "        subprocess.run([\"wget\", \"--user\", USER, \"--password\", PASS, file_download[t], \"-O\", name2])"
   ]
  },
  {
   "cell_type": "code",
   "execution_count": null,
   "metadata": {},
   "outputs": [],
   "source": []
  }
 ],
 "metadata": {
  "interpreter": {
   "hash": "c6c4883052875ec3257edf99ee092a790b9a432228222ee7e742d4f8a559e5a8"
  },
  "kernelspec": {
   "display_name": "Python 3.9.7 ('AXE')",
   "language": "python",
   "name": "python3"
  },
  "language_info": {
   "codemirror_mode": {
    "name": "ipython",
    "version": 3
   },
   "file_extension": ".py",
   "mimetype": "text/x-python",
   "name": "python",
   "nbconvert_exporter": "python",
   "pygments_lexer": "ipython3",
   "version": "3.9.7"
  },
  "orig_nbformat": 4
 },
 "nbformat": 4,
 "nbformat_minor": 2
}
