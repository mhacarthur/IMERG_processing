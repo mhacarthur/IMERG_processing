{
 "cells": [
  {
   "cell_type": "code",
   "execution_count": 1,
   "metadata": {},
   "outputs": [],
   "source": [
    "import glob\n",
    "import os\n",
    "import pandas as pd\n",
    "import clima_anom as ca\n",
    "import subprocess\n",
    "from os.path import exists as file_exists"
   ]
  },
  {
   "cell_type": "code",
   "execution_count": 2,
   "metadata": {},
   "outputs": [],
   "source": [
    "USER='arturo66cta@gmail.com'\n",
    "PASS='Mazamorra2328'"
   ]
  },
  {
   "cell_type": "code",
   "execution_count": 3,
   "metadata": {},
   "outputs": [],
   "source": [
    "list_txt = '/mnt/Data/Data/IMERG/List_download/IMERG_Final_Prec_L3_daily_01x01_2001_01_2020_12.txt'\n",
    "with open(list_txt) as f:\n",
    "    file_download = f.readlines()\n",
    "\n",
    "len_files = len(file_download)"
   ]
  },
  {
   "cell_type": "code",
   "execution_count": 23,
   "metadata": {},
   "outputs": [
    {
     "name": "stdout",
     "output_type": "stream",
     "text": [
      "3IMERG_20010101-S000000-E235959_V06\n",
      "3IMERG_20010102-S000000-E235959_V06\n",
      "3IMERG_20010103-S000000-E235959_V06\n",
      "3IMERG_20010104-S000000-E235959_V06\n",
      "3IMERG_20010105-S000000-E235959_V06\n",
      "3IMERG_20010106-S000000-E235959_V06\n",
      "3IMERG_20010107-S000000-E235959_V06\n",
      "3IMERG_20010108-S000000-E235959_V06\n"
     ]
    }
   ],
   "source": [
    "for t in range(2,10):\n",
    "    name1 = file_download[t].split('/')[8].split('.')[3]+'_'+file_download[t].split('/')[8].split('.')[4]+'_'+file_download[t].split('/')[8].split('.')[5]\n",
    "    print(name1)"
   ]
  },
  {
   "cell_type": "code",
   "execution_count": 32,
   "metadata": {},
   "outputs": [
    {
     "name": "stderr",
     "output_type": "stream",
     "text": [
      "--2022-04-08 12:02:52--  https://gpm1.gesdisc.eosdis.nasa.gov/opendap/GPM_L3/GPM_3IMERGDF.06/2002/05/3B-DAY.MS.MRG.3IMERG.20020503-S000000-E235959.V06.nc4.nc4?precipitationCal[0:0][950:1499][449:1049],time,lon[950:1499],lat[449:1049]%0A\n",
      "Resolving gpm1.gesdisc.eosdis.nasa.gov (gpm1.gesdisc.eosdis.nasa.gov)... 198.118.197.50, 2001:4d0:241a:4041::50\n",
      "Connecting to gpm1.gesdisc.eosdis.nasa.gov (gpm1.gesdisc.eosdis.nasa.gov)|198.118.197.50|:443... connected.\n",
      "HTTP request sent, awaiting response... 302 Found\n",
      "Location: https://urs.earthdata.nasa.gov/oauth/authorize/?scope=uid&app_type=401&client_id=e2WVk8Pw6weeLUKZYOxvTQ&response_type=code&redirect_uri=https%3A%2F%2Fgpm1.gesdisc.eosdis.nasa.gov%2Fdata-redirect&state=aHR0cHM6Ly9ncG0xLmdlc2Rpc2MuZW9zZGlzLm5hc2EuZ292L29wZW5kYXAvR1BNX0wzL0dQTV8zSU1FUkdERi4wNi8yMDAyLzA1LzNCLURBWS5NUy5NUkcuM0lNRVJHLjIwMDIwNTAzLVMwMDAwMDAtRTIzNTk1OS5WMDYubmM0Lm5jND9wcmVjaXBpdGF0aW9uQ2FsWzA6MF1bOTUwOjE0OTldWzQ0OToxMDQ5XSx0aW1lLGxvbls5NTA6MTQ5OV0sbGF0WzQ0OToxMDQ5XSUwQQ [following]\n",
      "--2022-04-08 12:02:52--  https://urs.earthdata.nasa.gov/oauth/authorize/?scope=uid&app_type=401&client_id=e2WVk8Pw6weeLUKZYOxvTQ&response_type=code&redirect_uri=https%3A%2F%2Fgpm1.gesdisc.eosdis.nasa.gov%2Fdata-redirect&state=aHR0cHM6Ly9ncG0xLmdlc2Rpc2MuZW9zZGlzLm5hc2EuZ292L29wZW5kYXAvR1BNX0wzL0dQTV8zSU1FUkdERi4wNi8yMDAyLzA1LzNCLURBWS5NUy5NUkcuM0lNRVJHLjIwMDIwNTAzLVMwMDAwMDAtRTIzNTk1OS5WMDYubmM0Lm5jND9wcmVjaXBpdGF0aW9uQ2FsWzA6MF1bOTUwOjE0OTldWzQ0OToxMDQ5XSx0aW1lLGxvbls5NTA6MTQ5OV0sbGF0WzQ0OToxMDQ5XSUwQQ\n",
      "Resolving urs.earthdata.nasa.gov (urs.earthdata.nasa.gov)... 198.118.243.33, 2001:4d0:241a:4081::89\n",
      "Connecting to urs.earthdata.nasa.gov (urs.earthdata.nasa.gov)|198.118.243.33|:443... connected.\n",
      "HTTP request sent, awaiting response... 401 Unauthorized\n",
      "Authentication selected: Basic realm=\"Please enter your Earthdata Login credentials. If you do not have a Earthdata Login, create one at https://urs.earthdata.nasa.gov//users/new\"\n",
      "Reusing existing connection to urs.earthdata.nasa.gov:443.\n",
      "HTTP request sent, awaiting response... 302 Found\n",
      "Location: https://gpm1.gesdisc.eosdis.nasa.gov/data-redirect?code=86b5805c4d3ac9f8292dcfc26559689988e865c933167833620575d229a6b5e5&state=aHR0cHM6Ly9ncG0xLmdlc2Rpc2MuZW9zZGlzLm5hc2EuZ292L29wZW5kYXAvR1BNX0wzL0dQTV8zSU1FUkdERi4wNi8yMDAyLzA1LzNCLURBWS5NUy5NUkcuM0lNRVJHLjIwMDIwNTAzLVMwMDAwMDAtRTIzNTk1OS5WMDYubmM0Lm5jND9wcmVjaXBpdGF0aW9uQ2FsWzA6MF1bOTUwOjE0OTldWzQ0OToxMDQ5XSx0aW1lLGxvbls5NTA6MTQ5OV0sbGF0WzQ0OToxMDQ5XSUwQQ [following]\n",
      "--2022-04-08 12:02:53--  https://gpm1.gesdisc.eosdis.nasa.gov/data-redirect?code=86b5805c4d3ac9f8292dcfc26559689988e865c933167833620575d229a6b5e5&state=aHR0cHM6Ly9ncG0xLmdlc2Rpc2MuZW9zZGlzLm5hc2EuZ292L29wZW5kYXAvR1BNX0wzL0dQTV8zSU1FUkdERi4wNi8yMDAyLzA1LzNCLURBWS5NUy5NUkcuM0lNRVJHLjIwMDIwNTAzLVMwMDAwMDAtRTIzNTk1OS5WMDYubmM0Lm5jND9wcmVjaXBpdGF0aW9uQ2FsWzA6MF1bOTUwOjE0OTldWzQ0OToxMDQ5XSx0aW1lLGxvbls5NTA6MTQ5OV0sbGF0WzQ0OToxMDQ5XSUwQQ\n",
      "Connecting to gpm1.gesdisc.eosdis.nasa.gov (gpm1.gesdisc.eosdis.nasa.gov)|198.118.197.50|:443... connected.\n",
      "HTTP request sent, awaiting response... 302 Found\n",
      "Location: https://gpm1.gesdisc.eosdis.nasa.gov/opendap/GPM_L3/GPM_3IMERGDF.06/2002/05/3B-DAY.MS.MRG.3IMERG.20020503-S000000-E235959.V06.nc4.nc4?precipitationCal[0:0][950:1499][449:1049],time,lon[950:1499],lat[449:1049]%0A [following]\n",
      "--2022-04-08 12:02:54--  https://gpm1.gesdisc.eosdis.nasa.gov/opendap/GPM_L3/GPM_3IMERGDF.06/2002/05/3B-DAY.MS.MRG.3IMERG.20020503-S000000-E235959.V06.nc4.nc4?precipitationCal[0:0][950:1499][449:1049],time,lon[950:1499],lat[449:1049]%0A\n",
      "Connecting to gpm1.gesdisc.eosdis.nasa.gov (gpm1.gesdisc.eosdis.nasa.gov)|198.118.197.50|:443... connected.\n",
      "HTTP request sent, awaiting response... 404 Not Found\n",
      "2022-04-08 12:02:54 ERROR 404: Not Found.\n",
      "\n",
      "--2022-04-08 12:02:54--  https://gpm1.gesdisc.eosdis.nasa.gov/opendap/GPM_L3/GPM_3IMERGDF.06/2002/05/3B-DAY.MS.MRG.3IMERG.20020504-S000000-E235959.V06.nc4.nc4?precipitationCal[0:0][950:1499][449:1049],time,lon[950:1499],lat[449:1049]%0A\n",
      "Resolving gpm1.gesdisc.eosdis.nasa.gov (gpm1.gesdisc.eosdis.nasa.gov)... 198.118.197.50, 2001:4d0:241a:4041::50\n",
      "Connecting to gpm1.gesdisc.eosdis.nasa.gov (gpm1.gesdisc.eosdis.nasa.gov)|198.118.197.50|:443... connected.\n",
      "HTTP request sent, awaiting response... 302 Found\n",
      "Location: https://urs.earthdata.nasa.gov/oauth/authorize/?scope=uid&app_type=401&client_id=e2WVk8Pw6weeLUKZYOxvTQ&response_type=code&redirect_uri=https%3A%2F%2Fgpm1.gesdisc.eosdis.nasa.gov%2Fdata-redirect&state=aHR0cHM6Ly9ncG0xLmdlc2Rpc2MuZW9zZGlzLm5hc2EuZ292L29wZW5kYXAvR1BNX0wzL0dQTV8zSU1FUkdERi4wNi8yMDAyLzA1LzNCLURBWS5NUy5NUkcuM0lNRVJHLjIwMDIwNTA0LVMwMDAwMDAtRTIzNTk1OS5WMDYubmM0Lm5jND9wcmVjaXBpdGF0aW9uQ2FsWzA6MF1bOTUwOjE0OTldWzQ0OToxMDQ5XSx0aW1lLGxvbls5NTA6MTQ5OV0sbGF0WzQ0OToxMDQ5XSUwQQ [following]\n",
      "--2022-04-08 12:02:55--  https://urs.earthdata.nasa.gov/oauth/authorize/?scope=uid&app_type=401&client_id=e2WVk8Pw6weeLUKZYOxvTQ&response_type=code&redirect_uri=https%3A%2F%2Fgpm1.gesdisc.eosdis.nasa.gov%2Fdata-redirect&state=aHR0cHM6Ly9ncG0xLmdlc2Rpc2MuZW9zZGlzLm5hc2EuZ292L29wZW5kYXAvR1BNX0wzL0dQTV8zSU1FUkdERi4wNi8yMDAyLzA1LzNCLURBWS5NUy5NUkcuM0lNRVJHLjIwMDIwNTA0LVMwMDAwMDAtRTIzNTk1OS5WMDYubmM0Lm5jND9wcmVjaXBpdGF0aW9uQ2FsWzA6MF1bOTUwOjE0OTldWzQ0OToxMDQ5XSx0aW1lLGxvbls5NTA6MTQ5OV0sbGF0WzQ0OToxMDQ5XSUwQQ\n",
      "Resolving urs.earthdata.nasa.gov (urs.earthdata.nasa.gov)... 198.118.243.33, 2001:4d0:241a:4081::89\n",
      "Connecting to urs.earthdata.nasa.gov (urs.earthdata.nasa.gov)|198.118.243.33|:443... connected.\n",
      "HTTP request sent, awaiting response... 401 Unauthorized\n",
      "Authentication selected: Basic realm=\"Please enter your Earthdata Login credentials. If you do not have a Earthdata Login, create one at https://urs.earthdata.nasa.gov//users/new\"\n",
      "Reusing existing connection to urs.earthdata.nasa.gov:443.\n",
      "HTTP request sent, awaiting response... 302 Found\n",
      "Location: https://gpm1.gesdisc.eosdis.nasa.gov/data-redirect?code=1b5fa9decf4f2de54cdc3393a829148de2680b550b3eec5a78890d68caa01898&state=aHR0cHM6Ly9ncG0xLmdlc2Rpc2MuZW9zZGlzLm5hc2EuZ292L29wZW5kYXAvR1BNX0wzL0dQTV8zSU1FUkdERi4wNi8yMDAyLzA1LzNCLURBWS5NUy5NUkcuM0lNRVJHLjIwMDIwNTA0LVMwMDAwMDAtRTIzNTk1OS5WMDYubmM0Lm5jND9wcmVjaXBpdGF0aW9uQ2FsWzA6MF1bOTUwOjE0OTldWzQ0OToxMDQ5XSx0aW1lLGxvbls5NTA6MTQ5OV0sbGF0WzQ0OToxMDQ5XSUwQQ [following]\n",
      "--2022-04-08 12:02:56--  https://gpm1.gesdisc.eosdis.nasa.gov/data-redirect?code=1b5fa9decf4f2de54cdc3393a829148de2680b550b3eec5a78890d68caa01898&state=aHR0cHM6Ly9ncG0xLmdlc2Rpc2MuZW9zZGlzLm5hc2EuZ292L29wZW5kYXAvR1BNX0wzL0dQTV8zSU1FUkdERi4wNi8yMDAyLzA1LzNCLURBWS5NUy5NUkcuM0lNRVJHLjIwMDIwNTA0LVMwMDAwMDAtRTIzNTk1OS5WMDYubmM0Lm5jND9wcmVjaXBpdGF0aW9uQ2FsWzA6MF1bOTUwOjE0OTldWzQ0OToxMDQ5XSx0aW1lLGxvbls5NTA6MTQ5OV0sbGF0WzQ0OToxMDQ5XSUwQQ\n",
      "Connecting to gpm1.gesdisc.eosdis.nasa.gov (gpm1.gesdisc.eosdis.nasa.gov)|198.118.197.50|:443... connected.\n",
      "HTTP request sent, awaiting response... 302 Found\n",
      "Location: https://gpm1.gesdisc.eosdis.nasa.gov/opendap/GPM_L3/GPM_3IMERGDF.06/2002/05/3B-DAY.MS.MRG.3IMERG.20020504-S000000-E235959.V06.nc4.nc4?precipitationCal[0:0][950:1499][449:1049],time,lon[950:1499],lat[449:1049]%0A [following]\n",
      "--2022-04-08 12:02:56--  https://gpm1.gesdisc.eosdis.nasa.gov/opendap/GPM_L3/GPM_3IMERGDF.06/2002/05/3B-DAY.MS.MRG.3IMERG.20020504-S000000-E235959.V06.nc4.nc4?precipitationCal[0:0][950:1499][449:1049],time,lon[950:1499],lat[449:1049]%0A\n",
      "Connecting to gpm1.gesdisc.eosdis.nasa.gov (gpm1.gesdisc.eosdis.nasa.gov)|198.118.197.50|:443... connected.\n",
      "HTTP request sent, awaiting response... 404 Not Found\n",
      "2022-04-08 12:02:57 ERROR 404: Not Found.\n",
      "\n",
      "--2022-04-08 12:02:57--  https://gpm1.gesdisc.eosdis.nasa.gov/opendap/GPM_L3/GPM_3IMERGDF.06/2002/05/3B-DAY.MS.MRG.3IMERG.20020505-S000000-E235959.V06.nc4.nc4?precipitationCal[0:0][950:1499][449:1049],time,lon[950:1499],lat[449:1049]%0A\n",
      "Resolving gpm1.gesdisc.eosdis.nasa.gov (gpm1.gesdisc.eosdis.nasa.gov)... 198.118.197.50, 2001:4d0:241a:4041::50\n",
      "Connecting to gpm1.gesdisc.eosdis.nasa.gov (gpm1.gesdisc.eosdis.nasa.gov)|198.118.197.50|:443... connected.\n",
      "HTTP request sent, awaiting response... 302 Found\n",
      "Location: https://urs.earthdata.nasa.gov/oauth/authorize/?scope=uid&app_type=401&client_id=e2WVk8Pw6weeLUKZYOxvTQ&response_type=code&redirect_uri=https%3A%2F%2Fgpm1.gesdisc.eosdis.nasa.gov%2Fdata-redirect&state=aHR0cHM6Ly9ncG0xLmdlc2Rpc2MuZW9zZGlzLm5hc2EuZ292L29wZW5kYXAvR1BNX0wzL0dQTV8zSU1FUkdERi4wNi8yMDAyLzA1LzNCLURBWS5NUy5NUkcuM0lNRVJHLjIwMDIwNTA1LVMwMDAwMDAtRTIzNTk1OS5WMDYubmM0Lm5jND9wcmVjaXBpdGF0aW9uQ2FsWzA6MF1bOTUwOjE0OTldWzQ0OToxMDQ5XSx0aW1lLGxvbls5NTA6MTQ5OV0sbGF0WzQ0OToxMDQ5XSUwQQ [following]\n",
      "--2022-04-08 12:02:57--  https://urs.earthdata.nasa.gov/oauth/authorize/?scope=uid&app_type=401&client_id=e2WVk8Pw6weeLUKZYOxvTQ&response_type=code&redirect_uri=https%3A%2F%2Fgpm1.gesdisc.eosdis.nasa.gov%2Fdata-redirect&state=aHR0cHM6Ly9ncG0xLmdlc2Rpc2MuZW9zZGlzLm5hc2EuZ292L29wZW5kYXAvR1BNX0wzL0dQTV8zSU1FUkdERi4wNi8yMDAyLzA1LzNCLURBWS5NUy5NUkcuM0lNRVJHLjIwMDIwNTA1LVMwMDAwMDAtRTIzNTk1OS5WMDYubmM0Lm5jND9wcmVjaXBpdGF0aW9uQ2FsWzA6MF1bOTUwOjE0OTldWzQ0OToxMDQ5XSx0aW1lLGxvbls5NTA6MTQ5OV0sbGF0WzQ0OToxMDQ5XSUwQQ\n",
      "Resolving urs.earthdata.nasa.gov (urs.earthdata.nasa.gov)... 198.118.243.33, 2001:4d0:241a:4081::89\n",
      "Connecting to urs.earthdata.nasa.gov (urs.earthdata.nasa.gov)|198.118.243.33|:443... connected.\n",
      "HTTP request sent, awaiting response... 401 Unauthorized\n",
      "Authentication selected: Basic realm=\"Please enter your Earthdata Login credentials. If you do not have a Earthdata Login, create one at https://urs.earthdata.nasa.gov//users/new\"\n",
      "Reusing existing connection to urs.earthdata.nasa.gov:443.\n",
      "HTTP request sent, awaiting response... 302 Found\n",
      "Location: https://gpm1.gesdisc.eosdis.nasa.gov/data-redirect?code=cdefdb172b843b5f5a1523f059cd25ccfa68f4e67fab215bcfcf90db1b37040a&state=aHR0cHM6Ly9ncG0xLmdlc2Rpc2MuZW9zZGlzLm5hc2EuZ292L29wZW5kYXAvR1BNX0wzL0dQTV8zSU1FUkdERi4wNi8yMDAyLzA1LzNCLURBWS5NUy5NUkcuM0lNRVJHLjIwMDIwNTA1LVMwMDAwMDAtRTIzNTk1OS5WMDYubmM0Lm5jND9wcmVjaXBpdGF0aW9uQ2FsWzA6MF1bOTUwOjE0OTldWzQ0OToxMDQ5XSx0aW1lLGxvbls5NTA6MTQ5OV0sbGF0WzQ0OToxMDQ5XSUwQQ [following]\n",
      "--2022-04-08 12:02:58--  https://gpm1.gesdisc.eosdis.nasa.gov/data-redirect?code=cdefdb172b843b5f5a1523f059cd25ccfa68f4e67fab215bcfcf90db1b37040a&state=aHR0cHM6Ly9ncG0xLmdlc2Rpc2MuZW9zZGlzLm5hc2EuZ292L29wZW5kYXAvR1BNX0wzL0dQTV8zSU1FUkdERi4wNi8yMDAyLzA1LzNCLURBWS5NUy5NUkcuM0lNRVJHLjIwMDIwNTA1LVMwMDAwMDAtRTIzNTk1OS5WMDYubmM0Lm5jND9wcmVjaXBpdGF0aW9uQ2FsWzA6MF1bOTUwOjE0OTldWzQ0OToxMDQ5XSx0aW1lLGxvbls5NTA6MTQ5OV0sbGF0WzQ0OToxMDQ5XSUwQQ\n",
      "Connecting to gpm1.gesdisc.eosdis.nasa.gov (gpm1.gesdisc.eosdis.nasa.gov)|198.118.197.50|:443... connected.\n",
      "HTTP request sent, awaiting response... 302 Found\n",
      "Location: https://gpm1.gesdisc.eosdis.nasa.gov/opendap/GPM_L3/GPM_3IMERGDF.06/2002/05/3B-DAY.MS.MRG.3IMERG.20020505-S000000-E235959.V06.nc4.nc4?precipitationCal[0:0][950:1499][449:1049],time,lon[950:1499],lat[449:1049]%0A [following]\n",
      "--2022-04-08 12:02:59--  https://gpm1.gesdisc.eosdis.nasa.gov/opendap/GPM_L3/GPM_3IMERGDF.06/2002/05/3B-DAY.MS.MRG.3IMERG.20020505-S000000-E235959.V06.nc4.nc4?precipitationCal[0:0][950:1499][449:1049],time,lon[950:1499],lat[449:1049]%0A\n",
      "Connecting to gpm1.gesdisc.eosdis.nasa.gov (gpm1.gesdisc.eosdis.nasa.gov)|198.118.197.50|:443... connected.\n",
      "HTTP request sent, awaiting response... 404 Not Found\n",
      "2022-04-08 12:02:59 ERROR 404: Not Found.\n",
      "\n",
      "--2022-04-08 12:02:59--  https://gpm1.gesdisc.eosdis.nasa.gov/opendap/GPM_L3/GPM_3IMERGDF.06/2002/05/3B-DAY.MS.MRG.3IMERG.20020506-S000000-E235959.V06.nc4.nc4?precipitationCal[0:0][950:1499][449:1049],time,lon[950:1499],lat[449:1049]%0A\n",
      "Resolving gpm1.gesdisc.eosdis.nasa.gov (gpm1.gesdisc.eosdis.nasa.gov)... 198.118.197.50, 2001:4d0:241a:4041::50\n",
      "Connecting to gpm1.gesdisc.eosdis.nasa.gov (gpm1.gesdisc.eosdis.nasa.gov)|198.118.197.50|:443... connected.\n",
      "HTTP request sent, awaiting response... 302 Found\n",
      "Location: https://urs.earthdata.nasa.gov/oauth/authorize/?scope=uid&app_type=401&client_id=e2WVk8Pw6weeLUKZYOxvTQ&response_type=code&redirect_uri=https%3A%2F%2Fgpm1.gesdisc.eosdis.nasa.gov%2Fdata-redirect&state=aHR0cHM6Ly9ncG0xLmdlc2Rpc2MuZW9zZGlzLm5hc2EuZ292L29wZW5kYXAvR1BNX0wzL0dQTV8zSU1FUkdERi4wNi8yMDAyLzA1LzNCLURBWS5NUy5NUkcuM0lNRVJHLjIwMDIwNTA2LVMwMDAwMDAtRTIzNTk1OS5WMDYubmM0Lm5jND9wcmVjaXBpdGF0aW9uQ2FsWzA6MF1bOTUwOjE0OTldWzQ0OToxMDQ5XSx0aW1lLGxvbls5NTA6MTQ5OV0sbGF0WzQ0OToxMDQ5XSUwQQ [following]\n",
      "--2022-04-08 12:03:00--  https://urs.earthdata.nasa.gov/oauth/authorize/?scope=uid&app_type=401&client_id=e2WVk8Pw6weeLUKZYOxvTQ&response_type=code&redirect_uri=https%3A%2F%2Fgpm1.gesdisc.eosdis.nasa.gov%2Fdata-redirect&state=aHR0cHM6Ly9ncG0xLmdlc2Rpc2MuZW9zZGlzLm5hc2EuZ292L29wZW5kYXAvR1BNX0wzL0dQTV8zSU1FUkdERi4wNi8yMDAyLzA1LzNCLURBWS5NUy5NUkcuM0lNRVJHLjIwMDIwNTA2LVMwMDAwMDAtRTIzNTk1OS5WMDYubmM0Lm5jND9wcmVjaXBpdGF0aW9uQ2FsWzA6MF1bOTUwOjE0OTldWzQ0OToxMDQ5XSx0aW1lLGxvbls5NTA6MTQ5OV0sbGF0WzQ0OToxMDQ5XSUwQQ\n",
      "Resolving urs.earthdata.nasa.gov (urs.earthdata.nasa.gov)... 198.118.243.33, 2001:4d0:241a:4081::89\n",
      "Connecting to urs.earthdata.nasa.gov (urs.earthdata.nasa.gov)|198.118.243.33|:443... connected.\n"
     ]
    },
    {
     "ename": "KeyboardInterrupt",
     "evalue": "",
     "output_type": "error",
     "traceback": [
      "\u001b[0;31m---------------------------------------------------------------------------\u001b[0m",
      "\u001b[0;31mKeyboardInterrupt\u001b[0m                         Traceback (most recent call last)",
      "\u001b[0;32m/tmp/ipykernel_83314/918698290.py\u001b[0m in \u001b[0;36m<module>\u001b[0;34m\u001b[0m\n\u001b[1;32m      6\u001b[0m         \u001b[0;32mpass\u001b[0m\u001b[0;34m\u001b[0m\u001b[0;34m\u001b[0m\u001b[0m\n\u001b[1;32m      7\u001b[0m     \u001b[0;32melse\u001b[0m\u001b[0;34m:\u001b[0m\u001b[0;34m\u001b[0m\u001b[0;34m\u001b[0m\u001b[0m\n\u001b[0;32m----> 8\u001b[0;31m         \u001b[0msubprocess\u001b[0m\u001b[0;34m.\u001b[0m\u001b[0mrun\u001b[0m\u001b[0;34m(\u001b[0m\u001b[0;34m[\u001b[0m\u001b[0;34m\"wget\"\u001b[0m\u001b[0;34m,\u001b[0m \u001b[0;34m\"--user\"\u001b[0m\u001b[0;34m,\u001b[0m \u001b[0mUSER\u001b[0m\u001b[0;34m,\u001b[0m \u001b[0;34m\"--password\"\u001b[0m\u001b[0;34m,\u001b[0m \u001b[0mPASS\u001b[0m\u001b[0;34m,\u001b[0m \u001b[0mfile_download\u001b[0m\u001b[0;34m[\u001b[0m\u001b[0mt\u001b[0m\u001b[0;34m]\u001b[0m\u001b[0;34m,\u001b[0m \u001b[0;34m\"-O\"\u001b[0m\u001b[0;34m,\u001b[0m \u001b[0mname2\u001b[0m\u001b[0;34m]\u001b[0m\u001b[0;34m)\u001b[0m\u001b[0;34m\u001b[0m\u001b[0;34m\u001b[0m\u001b[0m\n\u001b[0m",
      "\u001b[0;32m~/anaconda3/envs/AXE/lib/python3.9/subprocess.py\u001b[0m in \u001b[0;36mrun\u001b[0;34m(input, capture_output, timeout, check, *popenargs, **kwargs)\u001b[0m\n\u001b[1;32m    505\u001b[0m     \u001b[0;32mwith\u001b[0m \u001b[0mPopen\u001b[0m\u001b[0;34m(\u001b[0m\u001b[0;34m*\u001b[0m\u001b[0mpopenargs\u001b[0m\u001b[0;34m,\u001b[0m \u001b[0;34m**\u001b[0m\u001b[0mkwargs\u001b[0m\u001b[0;34m)\u001b[0m \u001b[0;32mas\u001b[0m \u001b[0mprocess\u001b[0m\u001b[0;34m:\u001b[0m\u001b[0;34m\u001b[0m\u001b[0;34m\u001b[0m\u001b[0m\n\u001b[1;32m    506\u001b[0m         \u001b[0;32mtry\u001b[0m\u001b[0;34m:\u001b[0m\u001b[0;34m\u001b[0m\u001b[0;34m\u001b[0m\u001b[0m\n\u001b[0;32m--> 507\u001b[0;31m             \u001b[0mstdout\u001b[0m\u001b[0;34m,\u001b[0m \u001b[0mstderr\u001b[0m \u001b[0;34m=\u001b[0m \u001b[0mprocess\u001b[0m\u001b[0;34m.\u001b[0m\u001b[0mcommunicate\u001b[0m\u001b[0;34m(\u001b[0m\u001b[0minput\u001b[0m\u001b[0;34m,\u001b[0m \u001b[0mtimeout\u001b[0m\u001b[0;34m=\u001b[0m\u001b[0mtimeout\u001b[0m\u001b[0;34m)\u001b[0m\u001b[0;34m\u001b[0m\u001b[0;34m\u001b[0m\u001b[0m\n\u001b[0m\u001b[1;32m    508\u001b[0m         \u001b[0;32mexcept\u001b[0m \u001b[0mTimeoutExpired\u001b[0m \u001b[0;32mas\u001b[0m \u001b[0mexc\u001b[0m\u001b[0;34m:\u001b[0m\u001b[0;34m\u001b[0m\u001b[0;34m\u001b[0m\u001b[0m\n\u001b[1;32m    509\u001b[0m             \u001b[0mprocess\u001b[0m\u001b[0;34m.\u001b[0m\u001b[0mkill\u001b[0m\u001b[0;34m(\u001b[0m\u001b[0;34m)\u001b[0m\u001b[0;34m\u001b[0m\u001b[0;34m\u001b[0m\u001b[0m\n",
      "\u001b[0;32m~/anaconda3/envs/AXE/lib/python3.9/subprocess.py\u001b[0m in \u001b[0;36mcommunicate\u001b[0;34m(self, input, timeout)\u001b[0m\n\u001b[1;32m   1124\u001b[0m                 \u001b[0mstderr\u001b[0m \u001b[0;34m=\u001b[0m \u001b[0mself\u001b[0m\u001b[0;34m.\u001b[0m\u001b[0mstderr\u001b[0m\u001b[0;34m.\u001b[0m\u001b[0mread\u001b[0m\u001b[0;34m(\u001b[0m\u001b[0;34m)\u001b[0m\u001b[0;34m\u001b[0m\u001b[0;34m\u001b[0m\u001b[0m\n\u001b[1;32m   1125\u001b[0m                 \u001b[0mself\u001b[0m\u001b[0;34m.\u001b[0m\u001b[0mstderr\u001b[0m\u001b[0;34m.\u001b[0m\u001b[0mclose\u001b[0m\u001b[0;34m(\u001b[0m\u001b[0;34m)\u001b[0m\u001b[0;34m\u001b[0m\u001b[0;34m\u001b[0m\u001b[0m\n\u001b[0;32m-> 1126\u001b[0;31m             \u001b[0mself\u001b[0m\u001b[0;34m.\u001b[0m\u001b[0mwait\u001b[0m\u001b[0;34m(\u001b[0m\u001b[0;34m)\u001b[0m\u001b[0;34m\u001b[0m\u001b[0;34m\u001b[0m\u001b[0m\n\u001b[0m\u001b[1;32m   1127\u001b[0m         \u001b[0;32melse\u001b[0m\u001b[0;34m:\u001b[0m\u001b[0;34m\u001b[0m\u001b[0;34m\u001b[0m\u001b[0m\n\u001b[1;32m   1128\u001b[0m             \u001b[0;32mif\u001b[0m \u001b[0mtimeout\u001b[0m \u001b[0;32mis\u001b[0m \u001b[0;32mnot\u001b[0m \u001b[0;32mNone\u001b[0m\u001b[0;34m:\u001b[0m\u001b[0;34m\u001b[0m\u001b[0;34m\u001b[0m\u001b[0m\n",
      "\u001b[0;32m~/anaconda3/envs/AXE/lib/python3.9/subprocess.py\u001b[0m in \u001b[0;36mwait\u001b[0;34m(self, timeout)\u001b[0m\n\u001b[1;32m   1187\u001b[0m             \u001b[0mendtime\u001b[0m \u001b[0;34m=\u001b[0m \u001b[0m_time\u001b[0m\u001b[0;34m(\u001b[0m\u001b[0;34m)\u001b[0m \u001b[0;34m+\u001b[0m \u001b[0mtimeout\u001b[0m\u001b[0;34m\u001b[0m\u001b[0;34m\u001b[0m\u001b[0m\n\u001b[1;32m   1188\u001b[0m         \u001b[0;32mtry\u001b[0m\u001b[0;34m:\u001b[0m\u001b[0;34m\u001b[0m\u001b[0;34m\u001b[0m\u001b[0m\n\u001b[0;32m-> 1189\u001b[0;31m             \u001b[0;32mreturn\u001b[0m \u001b[0mself\u001b[0m\u001b[0;34m.\u001b[0m\u001b[0m_wait\u001b[0m\u001b[0;34m(\u001b[0m\u001b[0mtimeout\u001b[0m\u001b[0;34m=\u001b[0m\u001b[0mtimeout\u001b[0m\u001b[0;34m)\u001b[0m\u001b[0;34m\u001b[0m\u001b[0;34m\u001b[0m\u001b[0m\n\u001b[0m\u001b[1;32m   1190\u001b[0m         \u001b[0;32mexcept\u001b[0m \u001b[0mKeyboardInterrupt\u001b[0m\u001b[0;34m:\u001b[0m\u001b[0;34m\u001b[0m\u001b[0;34m\u001b[0m\u001b[0m\n\u001b[1;32m   1191\u001b[0m             \u001b[0;31m# https://bugs.python.org/issue25942\u001b[0m\u001b[0;34m\u001b[0m\u001b[0;34m\u001b[0m\u001b[0m\n",
      "\u001b[0;32m~/anaconda3/envs/AXE/lib/python3.9/subprocess.py\u001b[0m in \u001b[0;36m_wait\u001b[0;34m(self, timeout)\u001b[0m\n\u001b[1;32m   1915\u001b[0m                         \u001b[0;32mif\u001b[0m \u001b[0mself\u001b[0m\u001b[0;34m.\u001b[0m\u001b[0mreturncode\u001b[0m \u001b[0;32mis\u001b[0m \u001b[0;32mnot\u001b[0m \u001b[0;32mNone\u001b[0m\u001b[0;34m:\u001b[0m\u001b[0;34m\u001b[0m\u001b[0;34m\u001b[0m\u001b[0m\n\u001b[1;32m   1916\u001b[0m                             \u001b[0;32mbreak\u001b[0m  \u001b[0;31m# Another thread waited.\u001b[0m\u001b[0;34m\u001b[0m\u001b[0;34m\u001b[0m\u001b[0m\n\u001b[0;32m-> 1917\u001b[0;31m                         \u001b[0;34m(\u001b[0m\u001b[0mpid\u001b[0m\u001b[0;34m,\u001b[0m \u001b[0msts\u001b[0m\u001b[0;34m)\u001b[0m \u001b[0;34m=\u001b[0m \u001b[0mself\u001b[0m\u001b[0;34m.\u001b[0m\u001b[0m_try_wait\u001b[0m\u001b[0;34m(\u001b[0m\u001b[0;36m0\u001b[0m\u001b[0;34m)\u001b[0m\u001b[0;34m\u001b[0m\u001b[0;34m\u001b[0m\u001b[0m\n\u001b[0m\u001b[1;32m   1918\u001b[0m                         \u001b[0;31m# Check the pid and loop as waitpid has been known to\u001b[0m\u001b[0;34m\u001b[0m\u001b[0;34m\u001b[0m\u001b[0m\n\u001b[1;32m   1919\u001b[0m                         \u001b[0;31m# return 0 even without WNOHANG in odd situations.\u001b[0m\u001b[0;34m\u001b[0m\u001b[0;34m\u001b[0m\u001b[0m\n",
      "\u001b[0;32m~/anaconda3/envs/AXE/lib/python3.9/subprocess.py\u001b[0m in \u001b[0;36m_try_wait\u001b[0;34m(self, wait_flags)\u001b[0m\n\u001b[1;32m   1873\u001b[0m             \u001b[0;34m\"\"\"All callers to this function MUST hold self._waitpid_lock.\"\"\"\u001b[0m\u001b[0;34m\u001b[0m\u001b[0;34m\u001b[0m\u001b[0m\n\u001b[1;32m   1874\u001b[0m             \u001b[0;32mtry\u001b[0m\u001b[0;34m:\u001b[0m\u001b[0;34m\u001b[0m\u001b[0;34m\u001b[0m\u001b[0m\n\u001b[0;32m-> 1875\u001b[0;31m                 \u001b[0;34m(\u001b[0m\u001b[0mpid\u001b[0m\u001b[0;34m,\u001b[0m \u001b[0msts\u001b[0m\u001b[0;34m)\u001b[0m \u001b[0;34m=\u001b[0m \u001b[0mos\u001b[0m\u001b[0;34m.\u001b[0m\u001b[0mwaitpid\u001b[0m\u001b[0;34m(\u001b[0m\u001b[0mself\u001b[0m\u001b[0;34m.\u001b[0m\u001b[0mpid\u001b[0m\u001b[0;34m,\u001b[0m \u001b[0mwait_flags\u001b[0m\u001b[0;34m)\u001b[0m\u001b[0;34m\u001b[0m\u001b[0;34m\u001b[0m\u001b[0m\n\u001b[0m\u001b[1;32m   1876\u001b[0m             \u001b[0;32mexcept\u001b[0m \u001b[0mChildProcessError\u001b[0m\u001b[0;34m:\u001b[0m\u001b[0;34m\u001b[0m\u001b[0;34m\u001b[0m\u001b[0m\n\u001b[1;32m   1877\u001b[0m                 \u001b[0;31m# This happens if SIGCLD is set to be ignored or waiting\u001b[0m\u001b[0;34m\u001b[0m\u001b[0;34m\u001b[0m\u001b[0m\n",
      "\u001b[0;31mKeyboardInterrupt\u001b[0m: "
     ]
    }
   ],
   "source": [
    "for t in range(2,500):#len_files\n",
    "    name1 = file_download[t].split('/')[8].split('.')[3]+'_'+file_download[t].split('/')[8].split('.')[4]+'_'+file_download[t].split('/')[8].split('.')[5]\n",
    "    name2 = '/mnt/Data/Data/IMERG/raw_1dy/' + name1 + '.nc'\n",
    "\n",
    "    if  file_exists(name2) == True:\n",
    "        pass\n",
    "    else:\n",
    "        subprocess.run([\"wget\", \"--user\", USER, \"--password\", PASS, file_download[t], \"-O\", name2])"
   ]
  },
  {
   "cell_type": "code",
   "execution_count": null,
   "metadata": {},
   "outputs": [],
   "source": []
  }
 ],
 "metadata": {
  "interpreter": {
   "hash": "c6c4883052875ec3257edf99ee092a790b9a432228222ee7e742d4f8a559e5a8"
  },
  "kernelspec": {
   "display_name": "Python 3.9.7 ('AXE')",
   "language": "python",
   "name": "python3"
  },
  "language_info": {
   "codemirror_mode": {
    "name": "ipython",
    "version": 3
   },
   "file_extension": ".py",
   "mimetype": "text/x-python",
   "name": "python",
   "nbconvert_exporter": "python",
   "pygments_lexer": "ipython3",
   "version": "3.9.7"
  },
  "orig_nbformat": 4
 },
 "nbformat": 4,
 "nbformat_minor": 2
}
