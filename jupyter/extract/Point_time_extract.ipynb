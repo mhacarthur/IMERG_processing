{
 "cells": [
  {
   "cell_type": "code",
   "execution_count": 1,
   "metadata": {},
   "outputs": [],
   "source": [
    "import glob\n",
    "import re\n",
    "import numpy as np\n",
    "import pandas as pd\n",
    "import clima_anom as ca\n",
    "from netCDF4 import Dataset\n",
    "\n",
    "import matplotlib.pyplot as plt\n",
    "\n",
    "import matplotlib.cbook\n",
    "import matplotlib.gridspec as gridspec\n",
    "\n",
    "import cartopy\n",
    "import cartopy.crs as ccrs\n",
    "import cartopy.feature as cfeature"
   ]
  },
  {
   "cell_type": "markdown",
   "metadata": {},
   "source": [
    "### Extract rainfall value to one specific time and position"
   ]
  },
  {
   "cell_type": "code",
   "execution_count": 2,
   "metadata": {},
   "outputs": [],
   "source": [
    "# datetime_input = [year, month, day, hour, minute, latitude, longitude]\n",
    "datetime_input = ['2021', '01', '08', '09', '18', '1', '-68.2']"
   ]
  },
  {
   "cell_type": "code",
   "execution_count": 3,
   "metadata": {},
   "outputs": [
    {
     "name": "stdout",
     "output_type": "stream",
     "text": [
      "IMERG files number: 384\n"
     ]
    }
   ],
   "source": [
    "# Define the path to the data and list files\n",
    "path = '/mnt/Data/Data/IMERG/raw_half_hour/'\n",
    "format_files = '*.nc'\n",
    "\n",
    "IMERG_list = glob.glob(path + format_files)\n",
    "IMERG_list = sorted(IMERG_list)\n",
    "IMERG_files_number = len(IMERG_list)\n",
    "print(f'IMERG files number: {IMERG_files_number}')"
   ]
  },
  {
   "cell_type": "code",
   "execution_count": 4,
   "metadata": {},
   "outputs": [],
   "source": [
    "# Create a DataFrame of dates to IMERG and export\n",
    "time_tmp = []\n",
    "for t in range(IMERG_files_number):\n",
    "\n",
    "    IMERG_list_clear = IMERG_list[t].split('/')[-1].split('.')[1]\n",
    "\n",
    "    year = IMERG_list_clear.split('-')[0][:4]\n",
    "    month = IMERG_list_clear.split('-')[0][4:6]\n",
    "    day = IMERG_list_clear.split('-')[0][6:8]\n",
    "\n",
    "    hour = IMERG_list_clear.split('-')[1][1:3]\n",
    "    minute = IMERG_list_clear.split('-')[1][3:5]\n",
    "\n",
    "    time_tmp.append([year, month, day, hour, minute, IMERG_list[t].split('/')[-1]])\n",
    "\n",
    "IMERG_times = pd.DataFrame(time_tmp, columns=['year', 'month', 'day', 'hour', 'minute', 'filename'])\n",
    "IMERG_times.head(5)\n",
    "\n",
    "# Export IMERG times to csv\n",
    "IMERG_times.to_csv('../../list/IMERG_times.csv', index=False)"
   ]
  },
  {
   "cell_type": "code",
   "execution_count": 5,
   "metadata": {},
   "outputs": [
    {
     "name": "stdout",
     "output_type": "stream",
     "text": [
      "Input time        : ['2021', '01', '08', '09', '18']\n",
      "Nearest IMERG time: ['2021', '01', '08', '09', '30']\n",
      "Nearest IMERG file: 3IMERG.20210108-S093000-E095959.0570.V06B.nc\n"
     ]
    }
   ],
   "source": [
    "# Find the closest IMERG file from the datetime_input\n",
    "# If minute is lower than 15 the minute nearest is 0 in order case is 30\n",
    "print(f'Input time        : {datetime_input[0:-2]}')\n",
    "\n",
    "IMERG_tmp = IMERG_times[\n",
    "    (IMERG_times['year'] == str(datetime_input[0]).zfill(4)) & \n",
    "    (IMERG_times['month'] == str(datetime_input[1]).zfill(2)) &\n",
    "    (IMERG_times['day'] == str(datetime_input[2]).zfill(2)) &\n",
    "    (IMERG_times['hour'] == str(datetime_input[3]).zfill(2))\n",
    "    ]\n",
    "\n",
    "if int(datetime_input[4]) < 15: #minute condition\n",
    "    IMERG_tmp = IMERG_tmp[IMERG_tmp['minute'] == '00']\n",
    "else:\n",
    "    IMERG_tmp = IMERG_tmp[IMERG_tmp['minute'] == '30']\n",
    "\n",
    "near_time = [IMERG_tmp['year'].values[0],IMERG_tmp['month'].values[0],IMERG_tmp['day'].values[0],IMERG_tmp['hour'].values[0],IMERG_tmp['minute'].values[0]]\n",
    "\n",
    "near_file = IMERG_tmp['filename'].values[0]\n",
    "\n",
    "print(f'Nearest IMERG time: {near_time}')\n",
    "print(f'Nearest IMERG file: {near_file}')"
   ]
  },
  {
   "cell_type": "code",
   "execution_count": 6,
   "metadata": {},
   "outputs": [],
   "source": [
    "# Define a function to find the closest IMERG lat/lon point\n",
    "def closest_node(serie,point):\n",
    "    dist_2 = (serie - point)**2\n",
    "    return np.argmin(dist_2)"
   ]
  },
  {
   "cell_type": "code",
   "execution_count": 7,
   "metadata": {},
   "outputs": [],
   "source": [
    "# Extract rainfall data from the nearest IMERG file\n",
    "data = ca.read_netcdf(path + near_file,0)\n",
    "lat = data['lat'].data\n",
    "lon = data['lon'].data\n",
    "pre = data['precipitationCal'].data[0,:,:].T #The original IMERG data is transposed\n",
    "\n",
    "nlat, nlon = len(lat), len(lon)\n",
    "lon2d, lat2d = np.meshgrid(lon, lat)"
   ]
  },
  {
   "cell_type": "code",
   "execution_count": 8,
   "metadata": {},
   "outputs": [],
   "source": [
    "def find_export_point(lat_data,lon_data,lat_point,lon_point):\n",
    "\n",
    "    lat_point = float(lat_point)\n",
    "    lon_point = float(lon_point)\n",
    "\n",
    "    lat_index = closest_node(np.round(lat_data,3), float(lat_point))\n",
    "    lon_index = closest_node(np.round(lon_data,3), float(lon_point))\n",
    "\n",
    "    salida = np.zeros([1,5])\n",
    "    salida[0,0] = lat_data[lat_index]\n",
    "    salida[0,1] = lon_data[lon_index]\n",
    "    salida[0,2] = lat_point\n",
    "    salida[0,3] = lon_point\n",
    "    salida[0,4] = pre[lat_index,lon_index]\n",
    "\n",
    "    # IMERG_ = pd.DataFrame(salida, columns=['lat_IMERG', 'lon_IMERG', 'lat_point', 'lon_point', 'pre'])\n",
    "\n",
    "    return salida"
   ]
  },
  {
   "cell_type": "code",
   "execution_count": 9,
   "metadata": {},
   "outputs": [
    {
     "data": {
      "text/plain": [
       "array([[  1.04999995, -68.15000153,   1.        , -68.2       ,\n",
       "          0.14435188]])"
      ]
     },
     "execution_count": 9,
     "metadata": {},
     "output_type": "execute_result"
    }
   ],
   "source": [
    "# Results\n",
    "find_export_point(lat,lon,datetime_input[5],datetime_input[6])"
   ]
  },
  {
   "cell_type": "code",
   "execution_count": 10,
   "metadata": {},
   "outputs": [
    {
     "data": {
      "text/plain": [
       "[<matplotlib.lines.Line2D at 0x7f7e6328dc10>]"
      ]
     },
     "execution_count": 10,
     "metadata": {},
     "output_type": "execute_result"
    },
    {
     "name": "stderr",
     "output_type": "stream",
     "text": [
      "/home/arturo/anaconda3/envs/AXE/lib/python3.9/site-packages/cartopy/mpl/style.py:90: UserWarning: facecolor will have no effect as it has been defined as \"never\".\n",
      "  warnings.warn('facecolor will have no effect as it has been '\n"
     ]
    },
    {
     "data": {
      "image/png": "[encoded data removed]",
      "text/plain": [
       "<Figure size 1400x1200 with 2 Axes>"
      ]
     },
     "metadata": {
      "needs_background": "light"
     },
     "output_type": "display_data"
    }
   ],
   "source": [
    "cmap = plt.cm.Spectral_r\n",
    "proj = ccrs.PlateCarree()\n",
    "\n",
    "pre_level = np.arange(2,np.max(pre),2)\n",
    "\n",
    "fig = plt.figure(figsize=(7,6),dpi=200)\n",
    "gs = gridspec.GridSpec(2,2)\n",
    "\n",
    "ax1 = plt.subplot(gs[0,0], projection = proj)\n",
    "ax1.coastlines()\n",
    "ax1.add_feature(cfeature.COASTLINE,linewidth=0.5,color='black',zorder=4)\n",
    "a1 = ax1.contourf(lon2d, lat2d, pre, levels=pre_level)\n",
    "bar1 = plt.colorbar(a1)\n",
    "\n",
    "gl = ax1.gridlines(crs = proj,draw_labels=True,linewidth=0.4,color='gray',alpha=0.6,linestyle='--')\n",
    "gl.right_labels = False\n",
    "gl.top_labels = False\n",
    "gl.xlabel_style = {'size': 6, 'color': 'black'}\n",
    "gl.ylabel_style = {'size': 6, 'color': 'black'}\n",
    "\n",
    "ax1.plot(float(datetime_input[6]), float(datetime_input[5]), 'o', color='red', markersize=2, transform=ccrs.Geodetic())"
   ]
  },
  {
   "cell_type": "markdown",
   "metadata": {},
   "source": [
    "### Extract rainfall value for a group times and positions"
   ]
  },
  {
   "cell_type": "code",
   "execution_count": 35,
   "metadata": {},
   "outputs": [
    {
     "data": {
      "text/html": [
       "<div>\n",
       "<style scoped>\n",
       "    .dataframe tbody tr th:only-of-type {\n",
       "        vertical-align: middle;\n",
       "    }\n",
       "\n",
       "    .dataframe tbody tr th {\n",
       "        vertical-align: top;\n",
       "    }\n",
       "\n",
       "    .dataframe thead th {\n",
       "        text-align: right;\n",
       "    }\n",
       "</style>\n",
       "<table border=\"1\" class=\"dataframe\">\n",
       "  <thead>\n",
       "    <tr style=\"text-align: right;\">\n",
       "      <th></th>\n",
       "      <th>year</th>\n",
       "      <th>month</th>\n",
       "      <th>day</th>\n",
       "      <th>hour</th>\n",
       "      <th>minute</th>\n",
       "      <th>filename</th>\n",
       "    </tr>\n",
       "  </thead>\n",
       "  <tbody>\n",
       "    <tr>\n",
       "      <th>0</th>\n",
       "      <td>2021</td>\n",
       "      <td>1</td>\n",
       "      <td>1</td>\n",
       "      <td>0</td>\n",
       "      <td>0</td>\n",
       "      <td>3IMERG.20210101-S000000-E002959.0000.V06B.nc</td>\n",
       "    </tr>\n",
       "    <tr>\n",
       "      <th>1</th>\n",
       "      <td>2021</td>\n",
       "      <td>1</td>\n",
       "      <td>1</td>\n",
       "      <td>0</td>\n",
       "      <td>30</td>\n",
       "      <td>3IMERG.20210101-S003000-E005959.0030.V06B.nc</td>\n",
       "    </tr>\n",
       "    <tr>\n",
       "      <th>2</th>\n",
       "      <td>2021</td>\n",
       "      <td>1</td>\n",
       "      <td>1</td>\n",
       "      <td>1</td>\n",
       "      <td>0</td>\n",
       "      <td>3IMERG.20210101-S010000-E012959.0060.V06B.nc</td>\n",
       "    </tr>\n",
       "    <tr>\n",
       "      <th>3</th>\n",
       "      <td>2021</td>\n",
       "      <td>1</td>\n",
       "      <td>1</td>\n",
       "      <td>1</td>\n",
       "      <td>30</td>\n",
       "      <td>3IMERG.20210101-S013000-E015959.0090.V06B.nc</td>\n",
       "    </tr>\n",
       "    <tr>\n",
       "      <th>4</th>\n",
       "      <td>2021</td>\n",
       "      <td>1</td>\n",
       "      <td>1</td>\n",
       "      <td>2</td>\n",
       "      <td>0</td>\n",
       "      <td>3IMERG.20210101-S020000-E022959.0120.V06B.nc</td>\n",
       "    </tr>\n",
       "  </tbody>\n",
       "</table>\n",
       "</div>"
      ],
      "text/plain": [
       "   year  month  day  hour  minute  \\\n",
       "0  2021      1    1     0       0   \n",
       "1  2021      1    1     0      30   \n",
       "2  2021      1    1     1       0   \n",
       "3  2021      1    1     1      30   \n",
       "4  2021      1    1     2       0   \n",
       "\n",
       "                                       filename  \n",
       "0  3IMERG.20210101-S000000-E002959.0000.V06B.nc  \n",
       "1  3IMERG.20210101-S003000-E005959.0030.V06B.nc  \n",
       "2  3IMERG.20210101-S010000-E012959.0060.V06B.nc  \n",
       "3  3IMERG.20210101-S013000-E015959.0090.V06B.nc  \n",
       "4  3IMERG.20210101-S020000-E022959.0120.V06B.nc  "
      ]
     },
     "execution_count": 35,
     "metadata": {},
     "output_type": "execute_result"
    }
   ],
   "source": [
    "# Load IMERG_times.to_csv\n",
    "IMERG_times = pd.read_csv('../../list/IMERG_times.csv')\n",
    "IMERG_times.head(5)"
   ]
  },
  {
   "cell_type": "code",
   "execution_count": 36,
   "metadata": {},
   "outputs": [
    {
     "data": {
      "text/html": [
       "<div>\n",
       "<style scoped>\n",
       "    .dataframe tbody tr th:only-of-type {\n",
       "        vertical-align: middle;\n",
       "    }\n",
       "\n",
       "    .dataframe tbody tr th {\n",
       "        vertical-align: top;\n",
       "    }\n",
       "\n",
       "    .dataframe thead th {\n",
       "        text-align: right;\n",
       "    }\n",
       "</style>\n",
       "<table border=\"1\" class=\"dataframe\">\n",
       "  <thead>\n",
       "    <tr style=\"text-align: right;\">\n",
       "      <th></th>\n",
       "      <th>year</th>\n",
       "      <th>month</th>\n",
       "      <th>day</th>\n",
       "      <th>hour</th>\n",
       "      <th>minute</th>\n",
       "      <th>latitude</th>\n",
       "      <th>longitude</th>\n",
       "    </tr>\n",
       "  </thead>\n",
       "  <tbody>\n",
       "    <tr>\n",
       "      <th>0</th>\n",
       "      <td>2021</td>\n",
       "      <td>1</td>\n",
       "      <td>8</td>\n",
       "      <td>1</td>\n",
       "      <td>0</td>\n",
       "      <td>2</td>\n",
       "      <td>-62</td>\n",
       "    </tr>\n",
       "    <tr>\n",
       "      <th>1</th>\n",
       "      <td>2021</td>\n",
       "      <td>1</td>\n",
       "      <td>8</td>\n",
       "      <td>1</td>\n",
       "      <td>25</td>\n",
       "      <td>2</td>\n",
       "      <td>-62</td>\n",
       "    </tr>\n",
       "    <tr>\n",
       "      <th>2</th>\n",
       "      <td>2021</td>\n",
       "      <td>1</td>\n",
       "      <td>8</td>\n",
       "      <td>2</td>\n",
       "      <td>10</td>\n",
       "      <td>2</td>\n",
       "      <td>-62</td>\n",
       "    </tr>\n",
       "    <tr>\n",
       "      <th>3</th>\n",
       "      <td>2021</td>\n",
       "      <td>1</td>\n",
       "      <td>8</td>\n",
       "      <td>2</td>\n",
       "      <td>35</td>\n",
       "      <td>2</td>\n",
       "      <td>-62</td>\n",
       "    </tr>\n",
       "    <tr>\n",
       "      <th>4</th>\n",
       "      <td>2021</td>\n",
       "      <td>1</td>\n",
       "      <td>8</td>\n",
       "      <td>3</td>\n",
       "      <td>0</td>\n",
       "      <td>2</td>\n",
       "      <td>-62</td>\n",
       "    </tr>\n",
       "  </tbody>\n",
       "</table>\n",
       "</div>"
      ],
      "text/plain": [
       "   year  month  day  hour  minute  latitude  longitude\n",
       "0  2021      1    8     1       0         2        -62\n",
       "1  2021      1    8     1      25         2        -62\n",
       "2  2021      1    8     2      10         2        -62\n",
       "3  2021      1    8     2      35         2        -62\n",
       "4  2021      1    8     3       0         2        -62"
      ]
     },
     "execution_count": 36,
     "metadata": {},
     "output_type": "execute_result"
    }
   ],
   "source": [
    "# Load csv with times and positions to find\n",
    "data_input = pd.read_csv('../../list/points_to_find.csv')\n",
    "data_input.head(5)"
   ]
  },
  {
   "cell_type": "code",
   "execution_count": 51,
   "metadata": {},
   "outputs": [
    {
     "name": "stdout",
     "output_type": "stream",
     "text": [
      "Point       : 0\n",
      "Input time  : 2021 1 8 1 0\n",
      "Nearest time: [2021, 1, 8, 1, 0]\n",
      "File        : 3IMERG.20210108-S010000-E012959.0060.V06B.nc\n",
      "\n",
      "Point       : 1\n",
      "Input time  : 2021 1 8 1 25\n",
      "Nearest time: [2021, 1, 8, 1, 30]\n",
      "File        : 3IMERG.20210108-S013000-E015959.0090.V06B.nc\n",
      "\n",
      "Point       : 2\n",
      "Input time  : 2021 1 8 2 10\n",
      "Nearest time: [2021, 1, 8, 2, 0]\n",
      "File        : 3IMERG.20210108-S020000-E022959.0120.V06B.nc\n",
      "\n",
      "Point       : 3\n",
      "Input time  : 2021 1 8 2 35\n",
      "Nearest time: [2021, 1, 8, 2, 30]\n",
      "File        : 3IMERG.20210108-S023000-E025959.0150.V06B.nc\n",
      "\n",
      "Point       : 4\n",
      "Input time  : 2021 1 8 3 0\n",
      "Nearest time: [2021, 1, 8, 3, 0]\n",
      "File        : 3IMERG.20210108-S030000-E032959.0180.V06B.nc\n",
      "\n",
      "Point       : 5\n",
      "Input time  : 2021 1 8 3 45\n",
      "Nearest time: [2021, 1, 8, 3, 30]\n",
      "File        : 3IMERG.20210108-S033000-E035959.0210.V06B.nc\n",
      "\n",
      "Point       : 6\n",
      "Input time  : 2021 1 8 4 1\n",
      "Nearest time: [2021, 1, 8, 4, 0]\n",
      "File        : 3IMERG.20210108-S040000-E042959.0240.V06B.nc\n",
      "\n",
      "Point       : 7\n",
      "Input time  : 2021 1 8 4 55\n",
      "Nearest time: [2021, 1, 8, 4, 30]\n",
      "File        : 3IMERG.20210108-S043000-E045959.0270.V06B.nc\n",
      "\n",
      "Point       : 8\n",
      "Input time  : 2021 1 8 5 8\n",
      "Nearest time: [2021, 1, 8, 5, 0]\n",
      "File        : 3IMERG.20210108-S050000-E052959.0300.V06B.nc\n",
      "\n",
      "Point       : 9\n",
      "Input time  : 2021 1 8 5 33\n",
      "Nearest time: [2021, 1, 8, 5, 30]\n",
      "File        : 3IMERG.20210108-S053000-E055959.0330.V06B.nc\n",
      "\n"
     ]
    }
   ],
   "source": [
    "# Find the closest IMERG file from the datetime_input and extract nearest point\n",
    "tt = 1\n",
    "\n",
    "info_final = []\n",
    "\n",
    "for tt in range(len(data_input)):\n",
    "\n",
    "    print(f'Point       : {tt}')\n",
    "    print('Input time  :',(data_input.loc[tt]['year']),data_input.loc[tt]['month'],data_input.loc[tt]['day'],data_input.loc[tt]['hour'],data_input.loc[tt]['minute'])\n",
    "    IMERG_tmp = IMERG_times[\n",
    "        (IMERG_times['year'] == data_input.loc[tt]['year']) & \n",
    "        (IMERG_times['month'] == data_input.loc[tt]['month']) &\n",
    "        (IMERG_times['day'] == data_input.loc[tt]['day']) &\n",
    "        (IMERG_times['hour'] == data_input.loc[tt]['hour'])\n",
    "        ]\n",
    "\n",
    "    if int(data_input.loc[tt]['minute']) < 15: #minute condition\n",
    "        IMERG_tmp = IMERG_tmp[IMERG_tmp['minute'] == 0]\n",
    "    else:\n",
    "        IMERG_tmp = IMERG_tmp[IMERG_tmp['minute'] == 30]\n",
    "\n",
    "    near_time = [IMERG_tmp['year'].values[0],IMERG_tmp['month'].values[0],IMERG_tmp['day'].values[0],IMERG_tmp['hour'].values[0],IMERG_tmp['minute'].values[0]]\n",
    "\n",
    "    near_file = IMERG_tmp['filename'].values[0]\n",
    "\n",
    "    print(f'Nearest time: {near_time}')\n",
    "    print('File        :',IMERG_tmp['filename'].values[0])\n",
    "    print()\n",
    "\n",
    "    data = ca.read_netcdf(path + near_file,0)\n",
    "    lat = data['lat'].data\n",
    "    lon = data['lon'].data\n",
    "    pre = data['precipitationCal'].data[0,:,:].T #The original IMERG data is transposed\n",
    "\n",
    "    nlat, nlon = len(lat), len(lon)\n",
    "    lon2d, lat2d = np.meshgrid(lon, lat)\n",
    "\n",
    "    salida_tmp = find_export_point(lat,lon,data_input.loc[tt]['latitude'],data_input.loc[tt]['longitude'])\n",
    "\n",
    "    info_final.append(salida_tmp)\n",
    "\n",
    "points_info = pd.DataFrame(np.array(info_final)[:,0,:], columns=['lat_IMERG', 'lon_IMERG', 'lat_point', 'lon_point', 'pre'])\n",
    "\n",
    "# points_info.to_csv('../../list/group_points_info.csv', index=False)"
   ]
  },
  {
   "cell_type": "code",
   "execution_count": null,
   "metadata": {},
   "outputs": [],
   "source": []
  }
 ],
 "metadata": {
  "kernelspec": {
   "display_name": "Python 3.9.7 ('AXE')",
   "language": "python",
   "name": "python3"
  },
  "language_info": {
   "codemirror_mode": {
    "name": "ipython",
    "version": 3
   },
   "file_extension": ".py",
   "mimetype": "text/x-python",
   "name": "python",
   "nbconvert_exporter": "python",
   "pygments_lexer": "ipython3",
   "version": "3.9.7"
  },
  "orig_nbformat": 4,
  "vscode": {
   "interpreter": {
    "hash": "c6c4883052875ec3257edf99ee092a790b9a432228222ee7e742d4f8a559e5a8"
   }
  }
 },
 "nbformat": 4,
 "nbformat_minor": 2
}
