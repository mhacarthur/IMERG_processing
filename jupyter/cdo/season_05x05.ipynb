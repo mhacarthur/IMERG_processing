{
 "cells": [
  {
   "cell_type": "code",
   "execution_count": 1,
   "metadata": {},
   "outputs": [],
   "source": [
    "import glob\n",
    "import os\n",
    "import clima_anom as ca\n",
    "import subprocess"
   ]
  },
  {
   "cell_type": "code",
   "execution_count": 4,
   "metadata": {},
   "outputs": [],
   "source": [
    "season_list = ['summer', 'autumn', 'winter', 'spring']\n",
    "season = 'summer'"
   ]
  },
  {
   "cell_type": "code",
   "execution_count": 8,
   "metadata": {},
   "outputs": [
    {
     "name": "stdout",
     "output_type": "stream",
     "text": [
      "\n",
      "Input : /media/arturo/Arturo/Data/IMERG/IMERG_2000_12_2021_02_1h_05x05.nc\n",
      "Output: /media/arturo/Arturo/Data/IMERG/season/summer/IMERG_2000_12_2021_02_1h_05x05_summer.nc\n"
     ]
    }
   ],
   "source": [
    "file_input = 'IMERG_2000_12_2021_02_1h_05x05'\n",
    "data_in = '/media/arturo/Arturo/Data/IMERG/'+file_input+'.nc'\n",
    "data_out = '/media/arturo/Arturo/Data/IMERG/season/'+season+'/'+file_input+'_'+season+'.nc'\n",
    "print()\n",
    "print(f'Input : {data_in}')\n",
    "print(f'Output: {data_out}')"
   ]
  },
  {
   "cell_type": "code",
   "execution_count": null,
   "metadata": {},
   "outputs": [],
   "source": []
  }
 ],
 "metadata": {
  "interpreter": {
   "hash": "c6c4883052875ec3257edf99ee092a790b9a432228222ee7e742d4f8a559e5a8"
  },
  "kernelspec": {
   "display_name": "Python 3.9.7 ('AXE')",
   "language": "python",
   "name": "python3"
  },
  "language_info": {
   "codemirror_mode": {
    "name": "ipython",
    "version": 3
   },
   "file_extension": ".py",
   "mimetype": "text/x-python",
   "name": "python",
   "nbconvert_exporter": "python",
   "pygments_lexer": "ipython3",
   "version": "3.9.7"
  },
  "orig_nbformat": 4
 },
 "nbformat": 4,
 "nbformat_minor": 2
}
