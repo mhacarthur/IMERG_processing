{
 "cells": [
  {
   "cell_type": "code",
   "execution_count": 80,
   "metadata": {},
   "outputs": [],
   "source": [
    "import glob\n",
    "import os\n",
    "import clima_anom as ca\n",
    "import subprocess"
   ]
  },
  {
   "cell_type": "code",
   "execution_count": 81,
   "metadata": {},
   "outputs": [],
   "source": [
    "season = 'winter'"
   ]
  },
  {
   "cell_type": "code",
   "execution_count": 82,
   "metadata": {},
   "outputs": [
    {
     "name": "stdout",
     "output_type": "stream",
     "text": [
      "Folder: /mnt/Data/Data/IMERG/Daily_05x05 exists\n"
     ]
    }
   ],
   "source": [
    "folder_out = '/mnt/Data/Data/IMERG/Daily_05x05'\n",
    "if not os.path.exists(folder_out):\n",
    "    os.makedirs(folder_out)\n",
    "else:\n",
    "    print(f'Folder: {folder_out} exists')\n",
    "\n",
    "file_grid = \"remapbil,/mnt/Data/Data/grid/mrigridGLM_05x05\""
   ]
  },
  {
   "cell_type": "code",
   "execution_count": 83,
   "metadata": {},
   "outputs": [
    {
     "name": "stdout",
     "output_type": "stream",
     "text": [
      "['/mnt/Data/Data/IMERG/Daily_01x01/winter/IMERG_2001_06_01x01_daily.nc', '/mnt/Data/Data/IMERG/Daily_01x01/winter/IMERG_2001_07_01x01_daily.nc', '/mnt/Data/Data/IMERG/Daily_01x01/winter/IMERG_2001_08_01x01_daily.nc', '/mnt/Data/Data/IMERG/Daily_01x01/winter/IMERG_2002_06_01x01_daily.nc', '/mnt/Data/Data/IMERG/Daily_01x01/winter/IMERG_2002_07_01x01_daily.nc', '/mnt/Data/Data/IMERG/Daily_01x01/winter/IMERG_2002_08_01x01_daily.nc']\n",
      "\n",
      "Find 39 files\n"
     ]
    }
   ],
   "source": [
    "list_files = glob.glob('/mnt/Data/Data/IMERG/Daily_01x01/'+season+'/*.nc')\n",
    "list_files = sorted(list_files)\n",
    "len_list = len(list_files)\n",
    "print(list_files[0:6])\n",
    "\n",
    "print()\n",
    "print(f'Find {len_list} files')"
   ]
  },
  {
   "cell_type": "code",
   "execution_count": 84,
   "metadata": {},
   "outputs": [
    {
     "name": "stdout",
     "output_type": "stream",
     "text": [
      "Export to: /mnt/Data/Data/IMERG/Daily_05x05/IMERG_2001_06_05x05_daily.nc\n"
     ]
    },
    {
     "name": "stderr",
     "output_type": "stream",
     "text": [
      "cdo    remapbil: Bilinear weights from lonlat (600x750) to lonlat (110x110) grid\n",
      "cdo    remapbil: Processed 13500000 values from 1 variable over 30 timesteps [0.87s 104MB].\n",
      "cdo    remapbil: Bilinear weights from lonlat (600x750) to lonlat (110x110) grid\n"
     ]
    },
    {
     "name": "stdout",
     "output_type": "stream",
     "text": [
      "\n",
      "Export to: /mnt/Data/Data/IMERG/Daily_05x05/IMERG_2001_07_05x05_daily.nc\n"
     ]
    },
    {
     "name": "stderr",
     "output_type": "stream",
     "text": [
      "cdo    remapbil: Processed 13950000 values from 1 variable over 31 timesteps [0.85s 104MB].\n",
      "cdo    remapbil: Bilinear weights from lonlat (600x750) to lonlat (110x110) grid\n"
     ]
    },
    {
     "name": "stdout",
     "output_type": "stream",
     "text": [
      "\n",
      "Export to: /mnt/Data/Data/IMERG/Daily_05x05/IMERG_2001_08_05x05_daily.nc\n"
     ]
    },
    {
     "name": "stderr",
     "output_type": "stream",
     "text": [
      "cdo    remapbil: Processed 13950000 values from 1 variable over 31 timesteps [0.87s 104MB].\n",
      "cdo    remapbil: Bilinear weights from lonlat (600x750) to lonlat (110x110) grid\n"
     ]
    },
    {
     "name": "stdout",
     "output_type": "stream",
     "text": [
      "\n",
      "Export to: /mnt/Data/Data/IMERG/Daily_05x05/IMERG_2002_06_05x05_daily.nc\n"
     ]
    },
    {
     "name": "stderr",
     "output_type": "stream",
     "text": [
      "cdo    remapbil: Processed 13500000 values from 1 variable over 30 timesteps [0.86s 104MB].\n",
      "cdo    remapbil: Bilinear weights from lonlat (600x750) to lonlat (110x110) grid\n"
     ]
    },
    {
     "name": "stdout",
     "output_type": "stream",
     "text": [
      "\n",
      "Export to: /mnt/Data/Data/IMERG/Daily_05x05/IMERG_2002_07_05x05_daily.nc\n"
     ]
    },
    {
     "name": "stderr",
     "output_type": "stream",
     "text": [
      "cdo    remapbil: Processed 13950000 values from 1 variable over 31 timesteps [0.93s 104MB].\n",
      "cdo    remapbil: Bilinear weights from lonlat (600x750) to lonlat (110x110) grid\n"
     ]
    },
    {
     "name": "stdout",
     "output_type": "stream",
     "text": [
      "\n",
      "Export to: /mnt/Data/Data/IMERG/Daily_05x05/IMERG_2002_08_05x05_daily.nc\n"
     ]
    },
    {
     "name": "stderr",
     "output_type": "stream",
     "text": [
      "cdo    remapbil: Processed 13950000 values from 1 variable over 31 timesteps [1.00s 104MB].\n",
      "cdo    remapbil: Bilinear weights from lonlat (600x750) to lonlat (110x110) grid\n"
     ]
    },
    {
     "name": "stdout",
     "output_type": "stream",
     "text": [
      "\n",
      "Export to: /mnt/Data/Data/IMERG/Daily_05x05/IMERG_2003_06_05x05_daily.nc\n"
     ]
    },
    {
     "name": "stderr",
     "output_type": "stream",
     "text": [
      "cdo    remapbil: Processed 13500000 values from 1 variable over 30 timesteps [0.84s 104MB].\n",
      "cdo    remapbil: Bilinear weights from lonlat (600x750) to lonlat (110x110) grid\n"
     ]
    },
    {
     "name": "stdout",
     "output_type": "stream",
     "text": [
      "\n",
      "Export to: /mnt/Data/Data/IMERG/Daily_05x05/IMERG_2003_07_05x05_daily.nc\n"
     ]
    },
    {
     "name": "stderr",
     "output_type": "stream",
     "text": [
      "cdo    remapbil: Processed 13950000 values from 1 variable over 31 timesteps [0.91s 104MB].\n",
      "cdo    remapbil: Bilinear weights from lonlat (600x750) to lonlat (110x110) grid\n"
     ]
    },
    {
     "name": "stdout",
     "output_type": "stream",
     "text": [
      "\n",
      "Export to: /mnt/Data/Data/IMERG/Daily_05x05/IMERG_2003_08_05x05_daily.nc\n"
     ]
    },
    {
     "name": "stderr",
     "output_type": "stream",
     "text": [
      "cdo    remapbil: Processed 13950000 values from 1 variable over 31 timesteps [0.93s 104MB].\n",
      "cdo    remapbil: Bilinear weights from lonlat (600x750) to lonlat (110x110) grid\n"
     ]
    },
    {
     "name": "stdout",
     "output_type": "stream",
     "text": [
      "\n",
      "Export to: /mnt/Data/Data/IMERG/Daily_05x05/IMERG_2004_06_05x05_daily.nc\n"
     ]
    },
    {
     "name": "stderr",
     "output_type": "stream",
     "text": [
      "cdo    remapbil: Processed 13500000 values from 1 variable over 30 timesteps [0.88s 104MB].\n",
      "cdo    remapbil: Bilinear weights from lonlat (600x750) to lonlat (110x110) grid\n"
     ]
    },
    {
     "name": "stdout",
     "output_type": "stream",
     "text": [
      "\n",
      "Export to: /mnt/Data/Data/IMERG/Daily_05x05/IMERG_2004_07_05x05_daily.nc\n"
     ]
    },
    {
     "name": "stderr",
     "output_type": "stream",
     "text": [
      "cdo    remapbil: Processed 13950000 values from 1 variable over 31 timesteps [0.92s 104MB].\n",
      "cdo    remapbil: Bilinear weights from lonlat (600x750) to lonlat (110x110) grid\n"
     ]
    },
    {
     "name": "stdout",
     "output_type": "stream",
     "text": [
      "\n",
      "Export to: /mnt/Data/Data/IMERG/Daily_05x05/IMERG_2004_08_05x05_daily.nc\n"
     ]
    },
    {
     "name": "stderr",
     "output_type": "stream",
     "text": [
      "cdo    remapbil: Processed 13950000 values from 1 variable over 31 timesteps [1.06s 104MB].\n",
      "cdo    remapbil: Bilinear weights from lonlat (600x750) to lonlat (110x110) grid\n"
     ]
    },
    {
     "name": "stdout",
     "output_type": "stream",
     "text": [
      "\n",
      "Export to: /mnt/Data/Data/IMERG/Daily_05x05/IMERG_2005_06_05x05_daily.nc\n"
     ]
    },
    {
     "name": "stderr",
     "output_type": "stream",
     "text": [
      "cdo    remapbil: Processed 13500000 values from 1 variable over 30 timesteps [0.88s 104MB].\n",
      "cdo    remapbil: Bilinear weights from lonlat (600x750) to lonlat (110x110) grid\n"
     ]
    },
    {
     "name": "stdout",
     "output_type": "stream",
     "text": [
      "\n",
      "Export to: /mnt/Data/Data/IMERG/Daily_05x05/IMERG_2005_07_05x05_daily.nc\n"
     ]
    },
    {
     "name": "stderr",
     "output_type": "stream",
     "text": [
      "cdo    remapbil: Processed 13950000 values from 1 variable over 31 timesteps [0.91s 104MB].\n",
      "cdo    remapbil: Bilinear weights from lonlat (600x750) to lonlat (110x110) grid\n"
     ]
    },
    {
     "name": "stdout",
     "output_type": "stream",
     "text": [
      "\n",
      "Export to: /mnt/Data/Data/IMERG/Daily_05x05/IMERG_2005_08_05x05_daily.nc\n"
     ]
    },
    {
     "name": "stderr",
     "output_type": "stream",
     "text": [
      "cdo    remapbil: Processed 13950000 values from 1 variable over 31 timesteps [0.94s 104MB].\n",
      "cdo    remapbil: Bilinear weights from lonlat (600x750) to lonlat (110x110) grid\n"
     ]
    },
    {
     "name": "stdout",
     "output_type": "stream",
     "text": [
      "\n",
      "Export to: /mnt/Data/Data/IMERG/Daily_05x05/IMERG_2006_06_05x05_daily.nc\n"
     ]
    },
    {
     "name": "stderr",
     "output_type": "stream",
     "text": [
      "cdo    remapbil: Processed 13500000 values from 1 variable over 30 timesteps [0.99s 104MB].\n"
     ]
    },
    {
     "name": "stdout",
     "output_type": "stream",
     "text": [
      "\n",
      "Export to: /mnt/Data/Data/IMERG/Daily_05x05/IMERG_2006_07_05x05_daily.nc\n"
     ]
    },
    {
     "name": "stderr",
     "output_type": "stream",
     "text": [
      "cdo    remapbil: Bilinear weights from lonlat (600x750) to lonlat (110x110) grid\n",
      "cdo    remapbil: Processed 13950000 values from 1 variable over 31 timesteps [1.16s 104MB].\n",
      "cdo    remapbil: Bilinear weights from lonlat (600x750) to lonlat (110x110) grid\n"
     ]
    },
    {
     "name": "stdout",
     "output_type": "stream",
     "text": [
      "\n",
      "Export to: /mnt/Data/Data/IMERG/Daily_05x05/IMERG_2006_08_05x05_daily.nc\n"
     ]
    },
    {
     "name": "stderr",
     "output_type": "stream",
     "text": [
      "cdo    remapbil: Processed 13950000 values from 1 variable over 31 timesteps [1.06s 104MB].\n",
      "cdo    remapbil: Bilinear weights from lonlat (600x750) to lonlat (110x110) grid\n"
     ]
    },
    {
     "name": "stdout",
     "output_type": "stream",
     "text": [
      "\n",
      "Export to: /mnt/Data/Data/IMERG/Daily_05x05/IMERG_2007_06_05x05_daily.nc\n"
     ]
    },
    {
     "name": "stderr",
     "output_type": "stream",
     "text": [
      "cdo    remapbil: Processed 13500000 values from 1 variable over 30 timesteps [0.99s 104MB].\n",
      "cdo    remapbil: Bilinear weights from lonlat (600x750) to lonlat (110x110) grid\n"
     ]
    },
    {
     "name": "stdout",
     "output_type": "stream",
     "text": [
      "\n",
      "Export to: /mnt/Data/Data/IMERG/Daily_05x05/IMERG_2007_07_05x05_daily.nc\n"
     ]
    },
    {
     "name": "stderr",
     "output_type": "stream",
     "text": [
      "cdo    remapbil: Processed 13950000 values from 1 variable over 31 timesteps [1.09s 104MB].\n",
      "cdo    remapbil: Bilinear weights from lonlat (600x750) to lonlat (110x110) grid\n"
     ]
    },
    {
     "name": "stdout",
     "output_type": "stream",
     "text": [
      "\n",
      "Export to: /mnt/Data/Data/IMERG/Daily_05x05/IMERG_2007_08_05x05_daily.nc\n"
     ]
    },
    {
     "name": "stderr",
     "output_type": "stream",
     "text": [
      "cdo    remapbil: Processed 13950000 values from 1 variable over 31 timesteps [1.16s 104MB].\n",
      "cdo    remapbil: Bilinear weights from lonlat (600x750) to lonlat (110x110) grid\n"
     ]
    },
    {
     "name": "stdout",
     "output_type": "stream",
     "text": [
      "\n",
      "Export to: /mnt/Data/Data/IMERG/Daily_05x05/IMERG_2008_06_05x05_daily.nc\n"
     ]
    },
    {
     "name": "stderr",
     "output_type": "stream",
     "text": [
      "cdo    remapbil: Processed 13500000 values from 1 variable over 30 timesteps [0.97s 104MB].\n",
      "cdo    remapbil: Bilinear weights from lonlat (600x750) to lonlat (110x110) grid\n"
     ]
    },
    {
     "name": "stdout",
     "output_type": "stream",
     "text": [
      "\n",
      "Export to: /mnt/Data/Data/IMERG/Daily_05x05/IMERG_2008_07_05x05_daily.nc\n"
     ]
    },
    {
     "name": "stderr",
     "output_type": "stream",
     "text": [
      "cdo    remapbil: Processed 13950000 values from 1 variable over 31 timesteps [1.05s 104MB].\n",
      "cdo    remapbil: Bilinear weights from lonlat (600x750) to lonlat (110x110) grid\n"
     ]
    },
    {
     "name": "stdout",
     "output_type": "stream",
     "text": [
      "\n",
      "Export to: /mnt/Data/Data/IMERG/Daily_05x05/IMERG_2008_08_05x05_daily.nc\n"
     ]
    },
    {
     "name": "stderr",
     "output_type": "stream",
     "text": [
      "cdo    remapbil: Processed 13950000 values from 1 variable over 31 timesteps [1.08s 104MB].\n",
      "cdo    remapbil: Bilinear weights from lonlat (600x750) to lonlat (110x110) grid\n"
     ]
    },
    {
     "name": "stdout",
     "output_type": "stream",
     "text": [
      "\n",
      "Export to: /mnt/Data/Data/IMERG/Daily_05x05/IMERG_2009_06_05x05_daily.nc\n"
     ]
    },
    {
     "name": "stderr",
     "output_type": "stream",
     "text": [
      "cdo    remapbil: Processed 13500000 values from 1 variable over 30 timesteps [0.99s 104MB].\n",
      "cdo    remapbil: Bilinear weights from lonlat (600x750) to lonlat (110x110) grid\n"
     ]
    },
    {
     "name": "stdout",
     "output_type": "stream",
     "text": [
      "\n",
      "Export to: /mnt/Data/Data/IMERG/Daily_05x05/IMERG_2009_07_05x05_daily.nc\n"
     ]
    },
    {
     "name": "stderr",
     "output_type": "stream",
     "text": [
      "cdo    remapbil: Processed 13950000 values from 1 variable over 31 timesteps [1.10s 104MB].\n",
      "cdo    remapbil: Bilinear weights from lonlat (600x750) to lonlat (110x110) grid\n"
     ]
    },
    {
     "name": "stdout",
     "output_type": "stream",
     "text": [
      "\n",
      "Export to: /mnt/Data/Data/IMERG/Daily_05x05/IMERG_2009_08_05x05_daily.nc\n"
     ]
    },
    {
     "name": "stderr",
     "output_type": "stream",
     "text": [
      "cdo    remapbil: Processed 13950000 values from 1 variable over 31 timesteps [1.16s 104MB].\n",
      "cdo    remapbil: Bilinear weights from lonlat (600x750) to lonlat (110x110) grid\n"
     ]
    },
    {
     "name": "stdout",
     "output_type": "stream",
     "text": [
      "\n",
      "Export to: /mnt/Data/Data/IMERG/Daily_05x05/IMERG_2010_06_05x05_daily.nc\n"
     ]
    },
    {
     "name": "stderr",
     "output_type": "stream",
     "text": [
      "cdo    remapbil: Processed 13500000 values from 1 variable over 30 timesteps [1.07s 104MB].\n",
      "cdo    remapbil: Bilinear weights from lonlat (600x750) to lonlat (110x110) grid\n"
     ]
    },
    {
     "name": "stdout",
     "output_type": "stream",
     "text": [
      "\n",
      "Export to: /mnt/Data/Data/IMERG/Daily_05x05/IMERG_2010_07_05x05_daily.nc\n"
     ]
    },
    {
     "name": "stderr",
     "output_type": "stream",
     "text": [
      "cdo    remapbil: Processed 13950000 values from 1 variable over 31 timesteps [1.08s 104MB].\n",
      "cdo    remapbil: Bilinear weights from lonlat (600x750) to lonlat (110x110) grid\n"
     ]
    },
    {
     "name": "stdout",
     "output_type": "stream",
     "text": [
      "\n",
      "Export to: /mnt/Data/Data/IMERG/Daily_05x05/IMERG_2010_08_05x05_daily.nc\n"
     ]
    },
    {
     "name": "stderr",
     "output_type": "stream",
     "text": [
      "cdo    remapbil: Processed 13950000 values from 1 variable over 31 timesteps [1.09s 104MB].\n",
      "cdo    remapbil: Bilinear weights from lonlat (600x750) to lonlat (110x110) grid\n"
     ]
    },
    {
     "name": "stdout",
     "output_type": "stream",
     "text": [
      "\n",
      "Export to: /mnt/Data/Data/IMERG/Daily_05x05/IMERG_2011_06_05x05_daily.nc\n"
     ]
    },
    {
     "name": "stderr",
     "output_type": "stream",
     "text": [
      "cdo    remapbil: Processed 13500000 values from 1 variable over 30 timesteps [1.16s 104MB].\n",
      "cdo    remapbil: Bilinear weights from lonlat (600x750) to lonlat (110x110) grid\n"
     ]
    },
    {
     "name": "stdout",
     "output_type": "stream",
     "text": [
      "\n",
      "Export to: /mnt/Data/Data/IMERG/Daily_05x05/IMERG_2011_07_05x05_daily.nc\n"
     ]
    },
    {
     "name": "stderr",
     "output_type": "stream",
     "text": [
      "cdo    remapbil: Processed 13950000 values from 1 variable over 31 timesteps [1.04s 104MB].\n",
      "cdo    remapbil: Bilinear weights from lonlat (600x750) to lonlat (110x110) grid\n"
     ]
    },
    {
     "name": "stdout",
     "output_type": "stream",
     "text": [
      "\n",
      "Export to: /mnt/Data/Data/IMERG/Daily_05x05/IMERG_2011_08_05x05_daily.nc\n"
     ]
    },
    {
     "name": "stderr",
     "output_type": "stream",
     "text": [
      "cdo    remapbil: Processed 13950000 values from 1 variable over 31 timesteps [1.08s 104MB].\n",
      "cdo    remapbil: Bilinear weights from lonlat (600x750) to lonlat (110x110) grid\n"
     ]
    },
    {
     "name": "stdout",
     "output_type": "stream",
     "text": [
      "\n",
      "Export to: /mnt/Data/Data/IMERG/Daily_05x05/IMERG_2012_06_05x05_daily.nc\n"
     ]
    },
    {
     "name": "stderr",
     "output_type": "stream",
     "text": [
      "cdo    remapbil: Processed 13500000 values from 1 variable over 30 timesteps [1.04s 104MB].\n",
      "cdo    remapbil: Bilinear weights from lonlat (600x750) to lonlat (110x110) grid\n"
     ]
    },
    {
     "name": "stdout",
     "output_type": "stream",
     "text": [
      "\n",
      "Export to: /mnt/Data/Data/IMERG/Daily_05x05/IMERG_2012_07_05x05_daily.nc\n"
     ]
    },
    {
     "name": "stderr",
     "output_type": "stream",
     "text": [
      "cdo    remapbil: Processed 13950000 values from 1 variable over 31 timesteps [1.07s 104MB].\n",
      "cdo    remapbil: Bilinear weights from lonlat (600x750) to lonlat (110x110) grid\n"
     ]
    },
    {
     "name": "stdout",
     "output_type": "stream",
     "text": [
      "\n",
      "Export to: /mnt/Data/Data/IMERG/Daily_05x05/IMERG_2012_08_05x05_daily.nc\n"
     ]
    },
    {
     "name": "stderr",
     "output_type": "stream",
     "text": [
      "cdo    remapbil: Processed 13950000 values from 1 variable over 31 timesteps [1.18s 104MB].\n",
      "cdo    remapbil: Bilinear weights from lonlat (600x750) to lonlat (110x110) grid\n"
     ]
    },
    {
     "name": "stdout",
     "output_type": "stream",
     "text": [
      "\n",
      "Export to: /mnt/Data/Data/IMERG/Daily_05x05/IMERG_2013_06_05x05_daily.nc\n"
     ]
    },
    {
     "name": "stderr",
     "output_type": "stream",
     "text": [
      "cdo    remapbil: Processed 13500000 values from 1 variable over 30 timesteps [1.05s 104MB].\n",
      "cdo    remapbil: Bilinear weights from lonlat (600x750) to lonlat (110x110) grid\n"
     ]
    },
    {
     "name": "stdout",
     "output_type": "stream",
     "text": [
      "\n",
      "Export to: /mnt/Data/Data/IMERG/Daily_05x05/IMERG_2013_07_05x05_daily.nc\n"
     ]
    },
    {
     "name": "stderr",
     "output_type": "stream",
     "text": [
      "cdo    remapbil: Processed 13950000 values from 1 variable over 31 timesteps [1.06s 104MB].\n",
      "cdo    remapbil: Bilinear weights from lonlat (600x750) to lonlat (110x110) grid\n"
     ]
    },
    {
     "name": "stdout",
     "output_type": "stream",
     "text": [
      "\n",
      "Export to: /mnt/Data/Data/IMERG/Daily_05x05/IMERG_2013_08_05x05_daily.nc\n",
      "\n"
     ]
    },
    {
     "name": "stderr",
     "output_type": "stream",
     "text": [
      "cdo    remapbil: Processed 13950000 values from 1 variable over 31 timesteps [1.08s 104MB].\n"
     ]
    }
   ],
   "source": [
    "for t in range(len_list):\n",
    "    name1 = list_files[t].split('/')[7]\n",
    "    name2 = name1.replace(\"01x01\", \"05x05\")\n",
    "    name_out = folder_out +'/'+ name2\n",
    "    print(f'Export to: {name_out}')\n",
    "    subprocess.run([\"cdo\", file_grid, list_files[t], name_out])\n",
    "    print()"
   ]
  },
  {
   "cell_type": "code",
   "execution_count": null,
   "metadata": {},
   "outputs": [],
   "source": []
  }
 ],
 "metadata": {
  "interpreter": {
   "hash": "c6c4883052875ec3257edf99ee092a790b9a432228222ee7e742d4f8a559e5a8"
  },
  "kernelspec": {
   "display_name": "Python 3.9.7 ('AXE')",
   "language": "python",
   "name": "python3"
  },
  "language_info": {
   "codemirror_mode": {
    "name": "ipython",
    "version": 3
   },
   "file_extension": ".py",
   "mimetype": "text/x-python",
   "name": "python",
   "nbconvert_exporter": "python",
   "pygments_lexer": "ipython3",
   "version": "3.9.7"
  },
  "orig_nbformat": 4
 },
 "nbformat": 4,
 "nbformat_minor": 2
}
