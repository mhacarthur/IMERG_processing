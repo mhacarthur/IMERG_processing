{
 "cells": [
  {
   "cell_type": "code",
   "execution_count": 6,
   "metadata": {},
   "outputs": [],
   "source": [
    "import glob\n",
    "import os\n",
    "import clima_anom as ca\n",
    "import subprocess"
   ]
  },
  {
   "cell_type": "markdown",
   "metadata": {},
   "source": [
    "### Convert IMERG 01x01 to 05x05 using CDO"
   ]
  },
  {
   "cell_type": "code",
   "execution_count": 7,
   "metadata": {},
   "outputs": [],
   "source": [
    "# season = 'winter'\n",
    "# season = 'autumn'\n",
    "season = 'spring'"
   ]
  },
  {
   "cell_type": "code",
   "execution_count": 8,
   "metadata": {},
   "outputs": [
    {
     "name": "stdout",
     "output_type": "stream",
     "text": [
      "Season   : spring\n",
      "Folder   : /mnt/Data/Data/IMERG/Daily_05x05 exists\n",
      "Grid File: remapbil,/mnt/Data/Data/grid/mrigridGLM_05x05\n"
     ]
    }
   ],
   "source": [
    "print(f'Season   : {season}')\n",
    "folder_out = '/mnt/Data/Data/IMERG/Daily_05x05'\n",
    "if not os.path.exists(folder_out):\n",
    "    os.makedirs(folder_out)\n",
    "else:\n",
    "    print(f'Folder   : {folder_out} exists')\n",
    "\n",
    "file_grid = \"remapbil,/mnt/Data/Data/grid/mrigridGLM_05x05\"\n",
    "print(f'Grid File: {file_grid}')"
   ]
  },
  {
   "cell_type": "code",
   "execution_count": 9,
   "metadata": {},
   "outputs": [
    {
     "name": "stdout",
     "output_type": "stream",
     "text": [
      "['/mnt/Data/Data/IMERG/Daily_01x01/spring/IMERG_2001_09_01x01_daily.nc', '/mnt/Data/Data/IMERG/Daily_01x01/spring/IMERG_2001_10_01x01_daily.nc', '/mnt/Data/Data/IMERG/Daily_01x01/spring/IMERG_2001_11_01x01_daily.nc', '/mnt/Data/Data/IMERG/Daily_01x01/spring/IMERG_2002_09_01x01_daily.nc', '/mnt/Data/Data/IMERG/Daily_01x01/spring/IMERG_2002_10_01x01_daily.nc', '/mnt/Data/Data/IMERG/Daily_01x01/spring/IMERG_2002_11_01x01_daily.nc']\n",
      "\n",
      "Find 60 files\n"
     ]
    }
   ],
   "source": [
    "list_files = glob.glob('/mnt/Data/Data/IMERG/Daily_01x01/'+season+'/*.nc')\n",
    "list_files = sorted(list_files)\n",
    "len_list = len(list_files)\n",
    "print(list_files[0:6])\n",
    "\n",
    "print()\n",
    "print(f'Find {len_list} files')"
   ]
  },
  {
   "cell_type": "code",
   "execution_count": 10,
   "metadata": {},
   "outputs": [
    {
     "name": "stdout",
     "output_type": "stream",
     "text": [
      "Export to: /mnt/Data/Data/IMERG/Daily_05x05/IMERG_2001_09_05x05_daily.nc\n"
     ]
    },
    {
     "name": "stderr",
     "output_type": "stream",
     "text": [
      "cdo    remapbil: Bilinear weights from lonlat (600x750) to lonlat (110x110) grid\n",
      "cdo    remapbil: Processed 13500000 values from 1 variable over 30 timesteps [0.84s 103MB].\n",
      "cdo    remapbil: Bilinear weights from lonlat (600x750) to lonlat (110x110) grid\n"
     ]
    },
    {
     "name": "stdout",
     "output_type": "stream",
     "text": [
      "\n",
      "Export to: /mnt/Data/Data/IMERG/Daily_05x05/IMERG_2001_10_05x05_daily.nc\n"
     ]
    },
    {
     "name": "stderr",
     "output_type": "stream",
     "text": [
      "cdo    remapbil: Processed 13950000 values from 1 variable over 31 timesteps [0.85s 103MB].\n",
      "cdo    remapbil: Bilinear weights from lonlat (600x750) to lonlat (110x110) grid\n"
     ]
    },
    {
     "name": "stdout",
     "output_type": "stream",
     "text": [
      "\n",
      "Export to: /mnt/Data/Data/IMERG/Daily_05x05/IMERG_2001_11_05x05_daily.nc\n"
     ]
    },
    {
     "name": "stderr",
     "output_type": "stream",
     "text": [
      "cdo    remapbil: Processed 13500000 values from 1 variable over 30 timesteps [0.87s 103MB].\n",
      "cdo    remapbil: Bilinear weights from lonlat (600x750) to lonlat (110x110) grid\n"
     ]
    },
    {
     "name": "stdout",
     "output_type": "stream",
     "text": [
      "\n",
      "Export to: /mnt/Data/Data/IMERG/Daily_05x05/IMERG_2002_09_05x05_daily.nc\n"
     ]
    },
    {
     "name": "stderr",
     "output_type": "stream",
     "text": [
      "cdo    remapbil: Processed 13500000 values from 1 variable over 30 timesteps [0.87s 103MB].\n",
      "cdo    remapbil: Bilinear weights from lonlat (600x750) to lonlat (110x110) grid\n"
     ]
    },
    {
     "name": "stdout",
     "output_type": "stream",
     "text": [
      "\n",
      "Export to: /mnt/Data/Data/IMERG/Daily_05x05/IMERG_2002_10_05x05_daily.nc\n"
     ]
    },
    {
     "name": "stderr",
     "output_type": "stream",
     "text": [
      "cdo    remapbil: Processed 13950000 values from 1 variable over 31 timesteps [0.96s 103MB].\n",
      "cdo    remapbil: Bilinear weights from lonlat (600x750) to lonlat (110x110) grid\n"
     ]
    },
    {
     "name": "stdout",
     "output_type": "stream",
     "text": [
      "\n",
      "Export to: /mnt/Data/Data/IMERG/Daily_05x05/IMERG_2002_11_05x05_daily.nc\n"
     ]
    },
    {
     "name": "stderr",
     "output_type": "stream",
     "text": [
      "cdo    remapbil: Processed 13500000 values from 1 variable over 30 timesteps [0.85s 103MB].\n",
      "cdo    remapbil: Bilinear weights from lonlat (600x750) to lonlat (110x110) grid\n"
     ]
    },
    {
     "name": "stdout",
     "output_type": "stream",
     "text": [
      "\n",
      "Export to: /mnt/Data/Data/IMERG/Daily_05x05/IMERG_2003_09_05x05_daily.nc\n"
     ]
    },
    {
     "name": "stderr",
     "output_type": "stream",
     "text": [
      "cdo    remapbil: Processed 13500000 values from 1 variable over 30 timesteps [0.91s 103MB].\n",
      "cdo    remapbil: Bilinear weights from lonlat (600x750) to lonlat (110x110) grid\n"
     ]
    },
    {
     "name": "stdout",
     "output_type": "stream",
     "text": [
      "\n",
      "Export to: /mnt/Data/Data/IMERG/Daily_05x05/IMERG_2003_10_05x05_daily.nc\n"
     ]
    },
    {
     "name": "stderr",
     "output_type": "stream",
     "text": [
      "cdo    remapbil: Processed 13950000 values from 1 variable over 31 timesteps [0.87s 103MB].\n"
     ]
    },
    {
     "name": "stdout",
     "output_type": "stream",
     "text": [
      "\n",
      "Export to: /mnt/Data/Data/IMERG/Daily_05x05/IMERG_2003_11_05x05_daily.nc\n"
     ]
    },
    {
     "name": "stderr",
     "output_type": "stream",
     "text": [
      "cdo    remapbil: Bilinear weights from lonlat (600x750) to lonlat (110x110) grid\n",
      "cdo    remapbil: Processed 13500000 values from 1 variable over 30 timesteps [1.14s 103MB].\n",
      "cdo    remapbil: Bilinear weights from lonlat (600x750) to lonlat (110x110) grid\n"
     ]
    },
    {
     "name": "stdout",
     "output_type": "stream",
     "text": [
      "\n",
      "Export to: /mnt/Data/Data/IMERG/Daily_05x05/IMERG_2004_09_05x05_daily.nc\n"
     ]
    },
    {
     "name": "stderr",
     "output_type": "stream",
     "text": [
      "cdo    remapbil: Processed 13500000 values from 1 variable over 30 timesteps [0.90s 103MB].\n",
      "cdo    remapbil: Bilinear weights from lonlat (600x750) to lonlat (110x110) grid\n"
     ]
    },
    {
     "name": "stdout",
     "output_type": "stream",
     "text": [
      "\n",
      "Export to: /mnt/Data/Data/IMERG/Daily_05x05/IMERG_2004_10_05x05_daily.nc\n"
     ]
    },
    {
     "name": "stderr",
     "output_type": "stream",
     "text": [
      "cdo    remapbil: Processed 13950000 values from 1 variable over 31 timesteps [0.89s 103MB].\n",
      "cdo    remapbil: Bilinear weights from lonlat (600x750) to lonlat (110x110) grid\n"
     ]
    },
    {
     "name": "stdout",
     "output_type": "stream",
     "text": [
      "\n",
      "Export to: /mnt/Data/Data/IMERG/Daily_05x05/IMERG_2004_11_05x05_daily.nc\n"
     ]
    },
    {
     "name": "stderr",
     "output_type": "stream",
     "text": [
      "cdo    remapbil: Processed 13500000 values from 1 variable over 30 timesteps [0.85s 103MB].\n",
      "cdo    remapbil: Bilinear weights from lonlat (600x750) to lonlat (110x110) grid\n"
     ]
    },
    {
     "name": "stdout",
     "output_type": "stream",
     "text": [
      "\n",
      "Export to: /mnt/Data/Data/IMERG/Daily_05x05/IMERG_2005_09_05x05_daily.nc\n"
     ]
    },
    {
     "name": "stderr",
     "output_type": "stream",
     "text": [
      "cdo    remapbil: Processed 13500000 values from 1 variable over 30 timesteps [0.87s 103MB].\n",
      "cdo    remapbil: Bilinear weights from lonlat (600x750) to lonlat (110x110) grid\n"
     ]
    },
    {
     "name": "stdout",
     "output_type": "stream",
     "text": [
      "\n",
      "Export to: /mnt/Data/Data/IMERG/Daily_05x05/IMERG_2005_10_05x05_daily.nc\n"
     ]
    },
    {
     "name": "stderr",
     "output_type": "stream",
     "text": [
      "cdo    remapbil: Processed 13950000 values from 1 variable over 31 timesteps [0.93s 103MB].\n",
      "cdo    remapbil: Bilinear weights from lonlat (600x750) to lonlat (110x110) grid\n"
     ]
    },
    {
     "name": "stdout",
     "output_type": "stream",
     "text": [
      "\n",
      "Export to: /mnt/Data/Data/IMERG/Daily_05x05/IMERG_2005_11_05x05_daily.nc\n"
     ]
    },
    {
     "name": "stderr",
     "output_type": "stream",
     "text": [
      "cdo    remapbil: Processed 13500000 values from 1 variable over 30 timesteps [0.86s 103MB].\n",
      "cdo    remapbil: Bilinear weights from lonlat (600x750) to lonlat (110x110) grid\n"
     ]
    },
    {
     "name": "stdout",
     "output_type": "stream",
     "text": [
      "\n",
      "Export to: /mnt/Data/Data/IMERG/Daily_05x05/IMERG_2006_09_05x05_daily.nc\n"
     ]
    },
    {
     "name": "stderr",
     "output_type": "stream",
     "text": [
      "cdo    remapbil: Processed 13500000 values from 1 variable over 30 timesteps [1.22s 103MB].\n",
      "cdo    remapbil: Bilinear weights from lonlat (600x750) to lonlat (110x110) grid\n"
     ]
    },
    {
     "name": "stdout",
     "output_type": "stream",
     "text": [
      "\n",
      "Export to: /mnt/Data/Data/IMERG/Daily_05x05/IMERG_2006_10_05x05_daily.nc\n"
     ]
    },
    {
     "name": "stderr",
     "output_type": "stream",
     "text": [
      "cdo    remapbil: Processed 13950000 values from 1 variable over 31 timesteps [1.32s 103MB].\n",
      "cdo    remapbil: Bilinear weights from lonlat (600x750) to lonlat (110x110) grid\n"
     ]
    },
    {
     "name": "stdout",
     "output_type": "stream",
     "text": [
      "\n",
      "Export to: /mnt/Data/Data/IMERG/Daily_05x05/IMERG_2006_11_05x05_daily.nc\n"
     ]
    },
    {
     "name": "stderr",
     "output_type": "stream",
     "text": [
      "cdo    remapbil: Processed 13500000 values from 1 variable over 30 timesteps [1.25s 103MB].\n",
      "cdo    remapbil: Bilinear weights from lonlat (600x750) to lonlat (110x110) grid\n"
     ]
    },
    {
     "name": "stdout",
     "output_type": "stream",
     "text": [
      "\n",
      "Export to: /mnt/Data/Data/IMERG/Daily_05x05/IMERG_2007_09_05x05_daily.nc\n"
     ]
    },
    {
     "name": "stderr",
     "output_type": "stream",
     "text": [
      "cdo    remapbil: Processed 13500000 values from 1 variable over 30 timesteps [1.33s 103MB].\n",
      "cdo    remapbil: Bilinear weights from lonlat (600x750) to lonlat (110x110) grid\n"
     ]
    },
    {
     "name": "stdout",
     "output_type": "stream",
     "text": [
      "\n",
      "Export to: /mnt/Data/Data/IMERG/Daily_05x05/IMERG_2007_10_05x05_daily.nc\n"
     ]
    },
    {
     "name": "stderr",
     "output_type": "stream",
     "text": [
      "cdo    remapbil: Processed 13950000 values from 1 variable over 31 timesteps [1.29s 103MB].\n",
      "cdo    remapbil: Bilinear weights from lonlat (600x750) to lonlat (110x110) grid\n"
     ]
    },
    {
     "name": "stdout",
     "output_type": "stream",
     "text": [
      "\n",
      "Export to: /mnt/Data/Data/IMERG/Daily_05x05/IMERG_2007_11_05x05_daily.nc\n"
     ]
    },
    {
     "name": "stderr",
     "output_type": "stream",
     "text": [
      "cdo    remapbil: Processed 13500000 values from 1 variable over 30 timesteps [1.25s 103MB].\n",
      "cdo    remapbil: Bilinear weights from lonlat (600x750) to lonlat (110x110) grid\n"
     ]
    },
    {
     "name": "stdout",
     "output_type": "stream",
     "text": [
      "\n",
      "Export to: /mnt/Data/Data/IMERG/Daily_05x05/IMERG_2008_09_05x05_daily.nc\n"
     ]
    },
    {
     "name": "stderr",
     "output_type": "stream",
     "text": [
      "cdo    remapbil: Processed 13500000 values from 1 variable over 30 timesteps [1.27s 103MB].\n",
      "cdo    remapbil: Bilinear weights from lonlat (600x750) to lonlat (110x110) grid\n"
     ]
    },
    {
     "name": "stdout",
     "output_type": "stream",
     "text": [
      "\n",
      "Export to: /mnt/Data/Data/IMERG/Daily_05x05/IMERG_2008_10_05x05_daily.nc\n"
     ]
    },
    {
     "name": "stderr",
     "output_type": "stream",
     "text": [
      "cdo    remapbil: Processed 13950000 values from 1 variable over 31 timesteps [1.40s 103MB].\n",
      "cdo    remapbil: Bilinear weights from lonlat (600x750) to lonlat (110x110) grid\n"
     ]
    },
    {
     "name": "stdout",
     "output_type": "stream",
     "text": [
      "\n",
      "Export to: /mnt/Data/Data/IMERG/Daily_05x05/IMERG_2008_11_05x05_daily.nc\n"
     ]
    },
    {
     "name": "stderr",
     "output_type": "stream",
     "text": [
      "cdo    remapbil: Processed 13500000 values from 1 variable over 30 timesteps [1.27s 103MB].\n",
      "cdo    remapbil: Bilinear weights from lonlat (600x750) to lonlat (110x110) grid\n"
     ]
    },
    {
     "name": "stdout",
     "output_type": "stream",
     "text": [
      "\n",
      "Export to: /mnt/Data/Data/IMERG/Daily_05x05/IMERG_2009_09_05x05_daily.nc\n"
     ]
    },
    {
     "name": "stderr",
     "output_type": "stream",
     "text": [
      "cdo    remapbil: Processed 13500000 values from 1 variable over 30 timesteps [1.27s 103MB].\n",
      "cdo    remapbil: Bilinear weights from lonlat (600x750) to lonlat (110x110) grid\n"
     ]
    },
    {
     "name": "stdout",
     "output_type": "stream",
     "text": [
      "\n",
      "Export to: /mnt/Data/Data/IMERG/Daily_05x05/IMERG_2009_10_05x05_daily.nc\n"
     ]
    },
    {
     "name": "stderr",
     "output_type": "stream",
     "text": [
      "cdo    remapbil: Processed 13950000 values from 1 variable over 31 timesteps [1.34s 103MB].\n",
      "cdo    remapbil: Bilinear weights from lonlat (600x750) to lonlat (110x110) grid\n"
     ]
    },
    {
     "name": "stdout",
     "output_type": "stream",
     "text": [
      "\n",
      "Export to: /mnt/Data/Data/IMERG/Daily_05x05/IMERG_2009_11_05x05_daily.nc\n"
     ]
    },
    {
     "name": "stderr",
     "output_type": "stream",
     "text": [
      "cdo    remapbil: Processed 13500000 values from 1 variable over 30 timesteps [1.32s 103MB].\n"
     ]
    },
    {
     "name": "stdout",
     "output_type": "stream",
     "text": [
      "\n",
      "Export to: /mnt/Data/Data/IMERG/Daily_05x05/IMERG_2010_09_05x05_daily.nc\n"
     ]
    },
    {
     "name": "stderr",
     "output_type": "stream",
     "text": [
      "cdo    remapbil: Bilinear weights from lonlat (600x750) to lonlat (110x110) grid\n",
      "cdo    remapbil: Processed 13500000 values from 1 variable over 30 timesteps [1.47s 103MB].\n",
      "cdo    remapbil: Bilinear weights from lonlat (600x750) to lonlat (110x110) grid\n"
     ]
    },
    {
     "name": "stdout",
     "output_type": "stream",
     "text": [
      "\n",
      "Export to: /mnt/Data/Data/IMERG/Daily_05x05/IMERG_2010_10_05x05_daily.nc\n"
     ]
    },
    {
     "name": "stderr",
     "output_type": "stream",
     "text": [
      "cdo    remapbil: Processed 13950000 values from 1 variable over 31 timesteps [1.30s 103MB].\n",
      "cdo    remapbil: Bilinear weights from lonlat (600x750) to lonlat (110x110) grid\n"
     ]
    },
    {
     "name": "stdout",
     "output_type": "stream",
     "text": [
      "\n",
      "Export to: /mnt/Data/Data/IMERG/Daily_05x05/IMERG_2010_11_05x05_daily.nc\n"
     ]
    },
    {
     "name": "stderr",
     "output_type": "stream",
     "text": [
      "cdo    remapbil: Processed 13500000 values from 1 variable over 30 timesteps [1.27s 103MB].\n",
      "cdo    remapbil: Bilinear weights from lonlat (600x750) to lonlat (110x110) grid\n"
     ]
    },
    {
     "name": "stdout",
     "output_type": "stream",
     "text": [
      "\n",
      "Export to: /mnt/Data/Data/IMERG/Daily_05x05/IMERG_2011_09_05x05_daily.nc\n"
     ]
    },
    {
     "name": "stderr",
     "output_type": "stream",
     "text": [
      "cdo    remapbil: Processed 13500000 values from 1 variable over 30 timesteps [2.35s 103MB].\n",
      "cdo    remapbil: Bilinear weights from lonlat (600x750) to lonlat (110x110) grid\n"
     ]
    },
    {
     "name": "stdout",
     "output_type": "stream",
     "text": [
      "\n",
      "Export to: /mnt/Data/Data/IMERG/Daily_05x05/IMERG_2011_10_05x05_daily.nc\n"
     ]
    },
    {
     "name": "stderr",
     "output_type": "stream",
     "text": [
      "cdo    remapbil: Processed 13950000 values from 1 variable over 31 timesteps [1.36s 103MB].\n",
      "cdo    remapbil: Bilinear weights from lonlat (600x750) to lonlat (110x110) grid\n"
     ]
    },
    {
     "name": "stdout",
     "output_type": "stream",
     "text": [
      "\n",
      "Export to: /mnt/Data/Data/IMERG/Daily_05x05/IMERG_2011_11_05x05_daily.nc\n"
     ]
    },
    {
     "name": "stderr",
     "output_type": "stream",
     "text": [
      "cdo    remapbil: Processed 13500000 values from 1 variable over 30 timesteps [1.30s 103MB].\n",
      "cdo    remapbil: Bilinear weights from lonlat (600x750) to lonlat (110x110) grid\n"
     ]
    },
    {
     "name": "stdout",
     "output_type": "stream",
     "text": [
      "\n",
      "Export to: /mnt/Data/Data/IMERG/Daily_05x05/IMERG_2012_09_05x05_daily.nc\n"
     ]
    },
    {
     "name": "stderr",
     "output_type": "stream",
     "text": [
      "cdo    remapbil: Processed 13500000 values from 1 variable over 30 timesteps [1.27s 103MB].\n"
     ]
    },
    {
     "name": "stdout",
     "output_type": "stream",
     "text": [
      "\n",
      "Export to: /mnt/Data/Data/IMERG/Daily_05x05/IMERG_2012_10_05x05_daily.nc\n"
     ]
    },
    {
     "name": "stderr",
     "output_type": "stream",
     "text": [
      "cdo    remapbil: Bilinear weights from lonlat (600x750) to lonlat (110x110) grid\n",
      "cdo    remapbil: Processed 13950000 values from 1 variable over 31 timesteps [1.45s 103MB].\n",
      "cdo    remapbil: Bilinear weights from lonlat (600x750) to lonlat (110x110) grid\n"
     ]
    },
    {
     "name": "stdout",
     "output_type": "stream",
     "text": [
      "\n",
      "Export to: /mnt/Data/Data/IMERG/Daily_05x05/IMERG_2012_11_05x05_daily.nc\n"
     ]
    },
    {
     "name": "stderr",
     "output_type": "stream",
     "text": [
      "cdo    remapbil: Processed 13500000 values from 1 variable over 30 timesteps [1.23s 103MB].\n",
      "cdo    remapbil: Bilinear weights from lonlat (600x750) to lonlat (110x110) grid\n"
     ]
    },
    {
     "name": "stdout",
     "output_type": "stream",
     "text": [
      "\n",
      "Export to: /mnt/Data/Data/IMERG/Daily_05x05/IMERG_2013_09_05x05_daily.nc\n"
     ]
    },
    {
     "name": "stderr",
     "output_type": "stream",
     "text": [
      "cdo    remapbil: Processed 13500000 values from 1 variable over 30 timesteps [1.29s 103MB].\n",
      "cdo    remapbil: Bilinear weights from lonlat (600x750) to lonlat (110x110) grid\n"
     ]
    },
    {
     "name": "stdout",
     "output_type": "stream",
     "text": [
      "\n",
      "Export to: /mnt/Data/Data/IMERG/Daily_05x05/IMERG_2013_10_05x05_daily.nc\n"
     ]
    },
    {
     "name": "stderr",
     "output_type": "stream",
     "text": [
      "cdo    remapbil: Processed 13950000 values from 1 variable over 31 timesteps [1.32s 103MB].\n",
      "cdo    remapbil: Bilinear weights from lonlat (600x750) to lonlat (110x110) grid\n"
     ]
    },
    {
     "name": "stdout",
     "output_type": "stream",
     "text": [
      "\n",
      "Export to: /mnt/Data/Data/IMERG/Daily_05x05/IMERG_2013_11_05x05_daily.nc\n"
     ]
    },
    {
     "name": "stderr",
     "output_type": "stream",
     "text": [
      "cdo    remapbil: Processed 13500000 values from 1 variable over 30 timesteps [1.29s 103MB].\n",
      "cdo    remapbil: Bilinear weights from lonlat (600x750) to lonlat (110x110) grid\n"
     ]
    },
    {
     "name": "stdout",
     "output_type": "stream",
     "text": [
      "\n",
      "Export to: /mnt/Data/Data/IMERG/Daily_05x05/IMERG_2014_09_05x05_daily.nc\n"
     ]
    },
    {
     "name": "stderr",
     "output_type": "stream",
     "text": [
      "cdo    remapbil: Processed 13500000 values from 1 variable over 30 timesteps [0.79s 103MB].\n",
      "cdo    remapbil: Bilinear weights from lonlat (600x750) to lonlat (110x110) grid\n"
     ]
    },
    {
     "name": "stdout",
     "output_type": "stream",
     "text": [
      "\n",
      "Export to: /mnt/Data/Data/IMERG/Daily_05x05/IMERG_2014_10_05x05_daily.nc\n"
     ]
    },
    {
     "name": "stderr",
     "output_type": "stream",
     "text": [
      "cdo    remapbil: Processed 13950000 values from 1 variable over 31 timesteps [0.82s 103MB].\n",
      "cdo    remapbil: Bilinear weights from lonlat (600x750) to lonlat (110x110) grid\n"
     ]
    },
    {
     "name": "stdout",
     "output_type": "stream",
     "text": [
      "\n",
      "Export to: /mnt/Data/Data/IMERG/Daily_05x05/IMERG_2014_11_05x05_daily.nc\n"
     ]
    },
    {
     "name": "stderr",
     "output_type": "stream",
     "text": [
      "cdo    remapbil: Processed 13500000 values from 1 variable over 30 timesteps [0.77s 103MB].\n",
      "cdo    remapbil: Bilinear weights from lonlat (600x750) to lonlat (110x110) grid\n"
     ]
    },
    {
     "name": "stdout",
     "output_type": "stream",
     "text": [
      "\n",
      "Export to: /mnt/Data/Data/IMERG/Daily_05x05/IMERG_2015_09_05x05_daily.nc\n"
     ]
    },
    {
     "name": "stderr",
     "output_type": "stream",
     "text": [
      "cdo    remapbil: Processed 13500000 values from 1 variable over 30 timesteps [0.78s 103MB].\n",
      "cdo    remapbil: Bilinear weights from lonlat (600x750) to lonlat (110x110) grid\n"
     ]
    },
    {
     "name": "stdout",
     "output_type": "stream",
     "text": [
      "\n",
      "Export to: /mnt/Data/Data/IMERG/Daily_05x05/IMERG_2015_10_05x05_daily.nc\n"
     ]
    },
    {
     "name": "stderr",
     "output_type": "stream",
     "text": [
      "cdo    remapbil: Processed 13950000 values from 1 variable over 31 timesteps [0.80s 103MB].\n",
      "cdo    remapbil: Bilinear weights from lonlat (600x750) to lonlat (110x110) grid\n"
     ]
    },
    {
     "name": "stdout",
     "output_type": "stream",
     "text": [
      "\n",
      "Export to: /mnt/Data/Data/IMERG/Daily_05x05/IMERG_2015_11_05x05_daily.nc\n"
     ]
    },
    {
     "name": "stderr",
     "output_type": "stream",
     "text": [
      "cdo    remapbil: Processed 13500000 values from 1 variable over 30 timesteps [0.84s 103MB].\n",
      "cdo    remapbil: Bilinear weights from lonlat (600x750) to lonlat (110x110) grid\n"
     ]
    },
    {
     "name": "stdout",
     "output_type": "stream",
     "text": [
      "\n",
      "Export to: /mnt/Data/Data/IMERG/Daily_05x05/IMERG_2016_09_05x05_daily.nc\n"
     ]
    },
    {
     "name": "stderr",
     "output_type": "stream",
     "text": [
      "cdo    remapbil: Processed 13500000 values from 1 variable over 30 timesteps [0.77s 103MB].\n",
      "cdo    remapbil: Bilinear weights from lonlat (600x750) to lonlat (110x110) grid\n"
     ]
    },
    {
     "name": "stdout",
     "output_type": "stream",
     "text": [
      "\n",
      "Export to: /mnt/Data/Data/IMERG/Daily_05x05/IMERG_2016_10_05x05_daily.nc\n"
     ]
    },
    {
     "name": "stderr",
     "output_type": "stream",
     "text": [
      "cdo    remapbil: Processed 13950000 values from 1 variable over 31 timesteps [0.82s 103MB].\n",
      "cdo    remapbil: Bilinear weights from lonlat (600x750) to lonlat (110x110) grid\n"
     ]
    },
    {
     "name": "stdout",
     "output_type": "stream",
     "text": [
      "\n",
      "Export to: /mnt/Data/Data/IMERG/Daily_05x05/IMERG_2016_11_05x05_daily.nc\n"
     ]
    },
    {
     "name": "stderr",
     "output_type": "stream",
     "text": [
      "cdo    remapbil: Processed 13500000 values from 1 variable over 30 timesteps [0.77s 103MB].\n",
      "cdo    remapbil: Bilinear weights from lonlat (600x750) to lonlat (110x110) grid\n"
     ]
    },
    {
     "name": "stdout",
     "output_type": "stream",
     "text": [
      "\n",
      "Export to: /mnt/Data/Data/IMERG/Daily_05x05/IMERG_2017_09_05x05_daily.nc\n"
     ]
    },
    {
     "name": "stderr",
     "output_type": "stream",
     "text": [
      "cdo    remapbil: Processed 13500000 values from 1 variable over 30 timesteps [0.78s 103MB].\n",
      "cdo    remapbil: Bilinear weights from lonlat (600x750) to lonlat (110x110) grid\n"
     ]
    },
    {
     "name": "stdout",
     "output_type": "stream",
     "text": [
      "\n",
      "Export to: /mnt/Data/Data/IMERG/Daily_05x05/IMERG_2017_10_05x05_daily.nc\n"
     ]
    },
    {
     "name": "stderr",
     "output_type": "stream",
     "text": [
      "cdo    remapbil: Processed 13950000 values from 1 variable over 31 timesteps [0.84s 103MB].\n",
      "cdo    remapbil: Bilinear weights from lonlat (600x750) to lonlat (110x110) grid\n"
     ]
    },
    {
     "name": "stdout",
     "output_type": "stream",
     "text": [
      "\n",
      "Export to: /mnt/Data/Data/IMERG/Daily_05x05/IMERG_2017_11_05x05_daily.nc\n"
     ]
    },
    {
     "name": "stderr",
     "output_type": "stream",
     "text": [
      "cdo    remapbil: Processed 13500000 values from 1 variable over 30 timesteps [0.83s 103MB].\n",
      "cdo    remapbil: Bilinear weights from lonlat (600x750) to lonlat (110x110) grid\n"
     ]
    },
    {
     "name": "stdout",
     "output_type": "stream",
     "text": [
      "\n",
      "Export to: /mnt/Data/Data/IMERG/Daily_05x05/IMERG_2018_09_05x05_daily.nc\n"
     ]
    },
    {
     "name": "stderr",
     "output_type": "stream",
     "text": [
      "cdo    remapbil: Processed 13500000 values from 1 variable over 30 timesteps [0.79s 103MB].\n",
      "cdo    remapbil: Bilinear weights from lonlat (600x750) to lonlat (110x110) grid\n"
     ]
    },
    {
     "name": "stdout",
     "output_type": "stream",
     "text": [
      "\n",
      "Export to: /mnt/Data/Data/IMERG/Daily_05x05/IMERG_2018_10_05x05_daily.nc\n"
     ]
    },
    {
     "name": "stderr",
     "output_type": "stream",
     "text": [
      "cdo    remapbil: Processed 13950000 values from 1 variable over 31 timesteps [0.83s 103MB].\n",
      "cdo    remapbil: Bilinear weights from lonlat (600x750) to lonlat (110x110) grid\n"
     ]
    },
    {
     "name": "stdout",
     "output_type": "stream",
     "text": [
      "\n",
      "Export to: /mnt/Data/Data/IMERG/Daily_05x05/IMERG_2018_11_05x05_daily.nc\n"
     ]
    },
    {
     "name": "stderr",
     "output_type": "stream",
     "text": [
      "cdo    remapbil: Processed 13500000 values from 1 variable over 30 timesteps [0.78s 103MB].\n",
      "cdo    remapbil: Bilinear weights from lonlat (600x750) to lonlat (110x110) grid\n"
     ]
    },
    {
     "name": "stdout",
     "output_type": "stream",
     "text": [
      "\n",
      "Export to: /mnt/Data/Data/IMERG/Daily_05x05/IMERG_2019_09_05x05_daily.nc\n"
     ]
    },
    {
     "name": "stderr",
     "output_type": "stream",
     "text": [
      "cdo    remapbil: Processed 13500000 values from 1 variable over 30 timesteps [0.79s 103MB].\n",
      "cdo    remapbil: Bilinear weights from lonlat (600x750) to lonlat (110x110) grid\n"
     ]
    },
    {
     "name": "stdout",
     "output_type": "stream",
     "text": [
      "\n",
      "Export to: /mnt/Data/Data/IMERG/Daily_05x05/IMERG_2019_10_05x05_daily.nc\n"
     ]
    },
    {
     "name": "stderr",
     "output_type": "stream",
     "text": [
      "cdo    remapbil: Processed 13950000 values from 1 variable over 31 timesteps [0.81s 103MB].\n"
     ]
    },
    {
     "name": "stdout",
     "output_type": "stream",
     "text": [
      "\n",
      "Export to: /mnt/Data/Data/IMERG/Daily_05x05/IMERG_2019_11_05x05_daily.nc\n"
     ]
    },
    {
     "name": "stderr",
     "output_type": "stream",
     "text": [
      "cdo    remapbil: Bilinear weights from lonlat (600x750) to lonlat (110x110) grid\n",
      "cdo    remapbil: Processed 13500000 values from 1 variable over 30 timesteps [0.94s 103MB].\n",
      "cdo    remapbil: Bilinear weights from lonlat (600x750) to lonlat (110x110) grid\n"
     ]
    },
    {
     "name": "stdout",
     "output_type": "stream",
     "text": [
      "\n",
      "Export to: /mnt/Data/Data/IMERG/Daily_05x05/IMERG_2020_09_05x05_daily.nc\n"
     ]
    },
    {
     "name": "stderr",
     "output_type": "stream",
     "text": [
      "cdo    remapbil: Processed 13500000 values from 1 variable over 30 timesteps [0.78s 103MB].\n",
      "cdo    remapbil: Bilinear weights from lonlat (600x750) to lonlat (110x110) grid\n"
     ]
    },
    {
     "name": "stdout",
     "output_type": "stream",
     "text": [
      "\n",
      "Export to: /mnt/Data/Data/IMERG/Daily_05x05/IMERG_2020_10_05x05_daily.nc\n"
     ]
    },
    {
     "name": "stderr",
     "output_type": "stream",
     "text": [
      "cdo    remapbil: Processed 13950000 values from 1 variable over 31 timesteps [0.80s 103MB].\n",
      "cdo    remapbil: Bilinear weights from lonlat (600x750) to lonlat (110x110) grid\n"
     ]
    },
    {
     "name": "stdout",
     "output_type": "stream",
     "text": [
      "\n",
      "Export to: /mnt/Data/Data/IMERG/Daily_05x05/IMERG_2020_11_05x05_daily.nc\n",
      "\n"
     ]
    },
    {
     "name": "stderr",
     "output_type": "stream",
     "text": [
      "cdo    remapbil: Processed 13500000 values from 1 variable over 30 timesteps [0.80s 103MB].\n"
     ]
    }
   ],
   "source": [
    "for t in range(len_list):\n",
    "    name1 = list_files[t].split('/')[7]\n",
    "    name2 = name1.replace(\"01x01\", \"05x05\")\n",
    "    name_out = folder_out +'/'+ name2\n",
    "    print(f'Export to: {name_out}')\n",
    "    subprocess.run([\"cdo\", file_grid, list_files[t], name_out])\n",
    "    print()"
   ]
  },
  {
   "cell_type": "code",
   "execution_count": null,
   "metadata": {},
   "outputs": [],
   "source": []
  }
 ],
 "metadata": {
  "interpreter": {
   "hash": "c6c4883052875ec3257edf99ee092a790b9a432228222ee7e742d4f8a559e5a8"
  },
  "kernelspec": {
   "display_name": "Python 3.9.7 ('AXE')",
   "language": "python",
   "name": "python3"
  },
  "language_info": {
   "codemirror_mode": {
    "name": "ipython",
    "version": 3
   },
   "file_extension": ".py",
   "mimetype": "text/x-python",
   "name": "python",
   "nbconvert_exporter": "python",
   "pygments_lexer": "ipython3",
   "version": "3.9.7"
  },
  "orig_nbformat": 4
 },
 "nbformat": 4,
 "nbformat_minor": 2
}
