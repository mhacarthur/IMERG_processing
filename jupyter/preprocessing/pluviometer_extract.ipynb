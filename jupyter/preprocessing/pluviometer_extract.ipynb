{
 "cells": [
  {
   "cell_type": "code",
   "execution_count": 1,
   "metadata": {},
   "outputs": [],
   "source": [
    "import glob\n",
    "import re\n",
    "import numpy as np\n",
    "import pandas as pd\n",
    "import clima_anom as ca\n",
    "from netCDF4 import Dataset\n",
    "\n",
    "import matplotlib.pyplot as plt\n",
    "\n",
    "import matplotlib.cbook\n",
    "import matplotlib.gridspec as gridspec\n",
    "\n",
    "import cartopy\n",
    "import cartopy.crs as ccrs"
   ]
  },
  {
   "cell_type": "code",
   "execution_count": 50,
   "metadata": {},
   "outputs": [],
   "source": [
    "def closest_node(point, serie):\n",
    "    dist_2 = (serie - point)**2\n",
    "    return np.argmin(dist_2)"
   ]
  },
  {
   "cell_type": "code",
   "execution_count": 5,
   "metadata": {},
   "outputs": [
    {
     "data": {
      "text/html": [
       "<div>\n",
       "<style scoped>\n",
       "    .dataframe tbody tr th:only-of-type {\n",
       "        vertical-align: middle;\n",
       "    }\n",
       "\n",
       "    .dataframe tbody tr th {\n",
       "        vertical-align: top;\n",
       "    }\n",
       "\n",
       "    .dataframe thead th {\n",
       "        text-align: right;\n",
       "    }\n",
       "</style>\n",
       "<table border=\"1\" class=\"dataframe\">\n",
       "  <thead>\n",
       "    <tr style=\"text-align: right;\">\n",
       "      <th></th>\n",
       "      <th>Name</th>\n",
       "      <th>Latitude</th>\n",
       "      <th>Longitude</th>\n",
       "    </tr>\n",
       "  </thead>\n",
       "  <tbody>\n",
       "    <tr>\n",
       "      <th>0</th>\n",
       "      <td>RH-92-PLUVIOMETRO-EFVM</td>\n",
       "      <td>-19.649351</td>\n",
       "      <td>-43.159383</td>\n",
       "    </tr>\n",
       "    <tr>\n",
       "      <th>1</th>\n",
       "      <td>RH-84-PLUVIOMETRO-EFVM</td>\n",
       "      <td>-19.956498</td>\n",
       "      <td>-43.286721</td>\n",
       "    </tr>\n",
       "    <tr>\n",
       "      <th>2</th>\n",
       "      <td>RH-78-PLUVIOMETRO-EFVM</td>\n",
       "      <td>-19.746002</td>\n",
       "      <td>-43.022259</td>\n",
       "    </tr>\n",
       "    <tr>\n",
       "      <th>3</th>\n",
       "      <td>RH-72-PLUVIOMETRO-EFVM</td>\n",
       "      <td>-19.648011</td>\n",
       "      <td>-42.860899</td>\n",
       "    </tr>\n",
       "    <tr>\n",
       "      <th>4</th>\n",
       "      <td>RH-60-PLUVIOMETRO-EFVM</td>\n",
       "      <td>-19.313211</td>\n",
       "      <td>-42.362461</td>\n",
       "    </tr>\n",
       "    <tr>\n",
       "      <th>5</th>\n",
       "      <td>RH-50-PLUVIOMETRO-EFVM</td>\n",
       "      <td>-18.862691</td>\n",
       "      <td>-41.962364</td>\n",
       "    </tr>\n",
       "    <tr>\n",
       "      <th>6</th>\n",
       "      <td>RH-37-PLUVIOMETRO-EFVM</td>\n",
       "      <td>-19.203117</td>\n",
       "      <td>-41.399608</td>\n",
       "    </tr>\n",
       "    <tr>\n",
       "      <th>7</th>\n",
       "      <td>RH-23-PLUVIOMETRO-EFVM</td>\n",
       "      <td>-19.542816</td>\n",
       "      <td>-40.689570</td>\n",
       "    </tr>\n",
       "    <tr>\n",
       "      <th>8</th>\n",
       "      <td>RH-210V-PLUVIOMETRO-EFVM</td>\n",
       "      <td>-19.873132</td>\n",
       "      <td>-43.778078</td>\n",
       "    </tr>\n",
       "    <tr>\n",
       "      <th>9</th>\n",
       "      <td>RH-203-PLUVIOMETRO-EFVM</td>\n",
       "      <td>-19.927519</td>\n",
       "      <td>-43.403119</td>\n",
       "    </tr>\n",
       "    <tr>\n",
       "      <th>10</th>\n",
       "      <td>RH-18V-PLUVIOMETRO-EFVM</td>\n",
       "      <td>-20.438004</td>\n",
       "      <td>-43.757320</td>\n",
       "    </tr>\n",
       "    <tr>\n",
       "      <th>11</th>\n",
       "      <td>RH-14-PLUVIOMETRO-EFVM</td>\n",
       "      <td>-19.779518</td>\n",
       "      <td>-40.370435</td>\n",
       "    </tr>\n",
       "    <tr>\n",
       "      <th>12</th>\n",
       "      <td>RH-13I-PLUVIVOMETRO-EFVM</td>\n",
       "      <td>-20.164305</td>\n",
       "      <td>-43.466646</td>\n",
       "    </tr>\n",
       "    <tr>\n",
       "      <th>13</th>\n",
       "      <td>RH-07-PLUVIOMETRO-EFVM</td>\n",
       "      <td>-20.174832</td>\n",
       "      <td>-40.394653</td>\n",
       "    </tr>\n",
       "    <tr>\n",
       "      <th>14</th>\n",
       "      <td>PT-TU-D6-PLUVIOMETRO-EFVM</td>\n",
       "      <td>-20.267279</td>\n",
       "      <td>-40.238001</td>\n",
       "    </tr>\n",
       "  </tbody>\n",
       "</table>\n",
       "</div>"
      ],
      "text/plain": [
       "                         Name   Latitude  Longitude\n",
       "0      RH-92-PLUVIOMETRO-EFVM -19.649351 -43.159383\n",
       "1      RH-84-PLUVIOMETRO-EFVM -19.956498 -43.286721\n",
       "2      RH-78-PLUVIOMETRO-EFVM -19.746002 -43.022259\n",
       "3      RH-72-PLUVIOMETRO-EFVM -19.648011 -42.860899\n",
       "4      RH-60-PLUVIOMETRO-EFVM -19.313211 -42.362461\n",
       "5      RH-50-PLUVIOMETRO-EFVM -18.862691 -41.962364\n",
       "6      RH-37-PLUVIOMETRO-EFVM -19.203117 -41.399608\n",
       "7      RH-23-PLUVIOMETRO-EFVM -19.542816 -40.689570\n",
       "8    RH-210V-PLUVIOMETRO-EFVM -19.873132 -43.778078\n",
       "9     RH-203-PLUVIOMETRO-EFVM -19.927519 -43.403119\n",
       "10    RH-18V-PLUVIOMETRO-EFVM -20.438004 -43.757320\n",
       "11     RH-14-PLUVIOMETRO-EFVM -19.779518 -40.370435\n",
       "12   RH-13I-PLUVIVOMETRO-EFVM -20.164305 -43.466646\n",
       "13     RH-07-PLUVIOMETRO-EFVM -20.174832 -40.394653\n",
       "14  PT-TU-D6-PLUVIOMETRO-EFVM -20.267279 -40.238001"
      ]
     },
     "execution_count": 5,
     "metadata": {},
     "output_type": "execute_result"
    }
   ],
   "source": [
    "pluviometer_dir = '../../pluviometer/pluv_vale_lat_lon.csv'\n",
    "list_pluviometer = pd.read_csv(pluviometer_dir,sep=';')\n",
    "len_pluviometer = len(list_pluviometer)\n",
    "list_pluviometer"
   ]
  },
  {
   "cell_type": "code",
   "execution_count": 9,
   "metadata": {},
   "outputs": [
    {
     "name": "stdout",
     "output_type": "stream",
     "text": [
      "Year 2020 has 17568 files in directory\n"
     ]
    }
   ],
   "source": [
    "year = '2020'\n",
    "IMERG_files = glob.glob('/run/media/arturo/Arturo/Data/IMERG/raw_30min/'+year+'/*.nc4')\n",
    "IMERG_files = sorted(IMERG_files)\n",
    "len_IMERG = len(IMERG_files)\n",
    "print(f'Year {year} has {len_IMERG} files in directory')"
   ]
  },
  {
   "cell_type": "code",
   "execution_count": 88,
   "metadata": {},
   "outputs": [
    {
     "name": "stdout",
     "output_type": "stream",
     "text": [
      "0\n",
      "1\n",
      "2\n",
      "3\n",
      "4\n",
      "5\n",
      "6\n",
      "7\n"
     ]
    }
   ],
   "source": [
    "pre_export = None\n",
    "\n",
    "year = []\n",
    "month = []\n",
    "day = []\n",
    "hour = []\n",
    "minute = []\n",
    "\n",
    "for plu in range(len_pluviometer):\n",
    "\n",
    "    print(plu)\n",
    "\n",
    "    for nn in range(len_IMERG):\n",
    "\n",
    "        data = ca.read_netcdf(IMERG_files[nn],0)\n",
    "        tim = data['time'].data\n",
    "        pre = data['precipitationCal'][0,:,:].T.data\n",
    "\n",
    "        if plu == 0:\n",
    "\n",
    "            yy = tim[0].year\n",
    "            mm = tim[0].month\n",
    "            dd = tim[0].day\n",
    "            hh = tim[0].hour\n",
    "            mi = tim[0].minute\n",
    "\n",
    "            year.append(yy)\n",
    "            month.append(mm)\n",
    "            day.append(dd)\n",
    "            hour.append(hh)\n",
    "            minute.append(mi)\n",
    "\n",
    "            # print(f'Time file is {yy}-{mm}-{dd} {hh}:{mi}')\n",
    "\n",
    "        if pre_export is None:\n",
    "\n",
    "            lat = data['lat'].data\n",
    "            lon = data['lon'].data\n",
    "\n",
    "            nlat = len(lat)\n",
    "            nlon = len(lon)\n",
    "\n",
    "            pre_export = np.zeros([len_IMERG,len_pluviometer])\n",
    "\n",
    "        lat_index = closest_node(np.round(list_pluviometer['Latitude'][plu],2), lat)\n",
    "        lon_index = closest_node(np.round(list_pluviometer['Longitude'][plu],2), lon)\n",
    "\n",
    "        pre_export[nn,plu] = pre[lat_index,lon_index]"
   ]
  },
  {
   "cell_type": "code",
   "execution_count": 87,
   "metadata": {},
   "outputs": [
    {
     "data": {
      "text/plain": [
       "[<matplotlib.lines.Line2D at 0x7fd35d3b9df0>]"
      ]
     },
     "execution_count": 87,
     "metadata": {},
     "output_type": "execute_result"
    },
    {
     "data": {
      "image/png": "[encoded data removed]",
      "text/plain": [
       "<Figure size 432x288 with 1 Axes>"
      ]
     },
     "metadata": {
      "needs_background": "light"
     },
     "output_type": "display_data"
    }
   ],
   "source": [
    "plt.plot(pre_export[:,0])"
   ]
  },
  {
   "cell_type": "code",
   "execution_count": 76,
   "metadata": {},
   "outputs": [
    {
     "data": {
      "text/plain": [
       "[<matplotlib.lines.Line2D at 0x7fd35dda5e80>]"
      ]
     },
     "execution_count": 76,
     "metadata": {},
     "output_type": "execute_result"
    },
    {
     "data": {
      "image/png": "[encoded data removed]",
      "text/plain": [
       "<Figure size 432x288 with 1 Axes>"
      ]
     },
     "metadata": {
      "needs_background": "light"
     },
     "output_type": "display_data"
    }
   ],
   "source": [
    "plt.plot(pre_export)"
   ]
  },
  {
   "cell_type": "code",
   "execution_count": null,
   "metadata": {},
   "outputs": [],
   "source": []
  }
 ],
 "metadata": {
  "interpreter": {
   "hash": "c6c4883052875ec3257edf99ee092a790b9a432228222ee7e742d4f8a559e5a8"
  },
  "kernelspec": {
   "display_name": "Python 3.9.12 ('AXE')",
   "language": "python",
   "name": "python3"
  },
  "language_info": {
   "codemirror_mode": {
    "name": "ipython",
    "version": 3
   },
   "file_extension": ".py",
   "mimetype": "text/x-python",
   "name": "python",
   "nbconvert_exporter": "python",
   "pygments_lexer": "ipython3",
   "version": "3.9.12"
  },
  "orig_nbformat": 4
 },
 "nbformat": 4,
 "nbformat_minor": 2
}
