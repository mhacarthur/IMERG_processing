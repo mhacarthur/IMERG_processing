{
 "cells": [
  {
   "cell_type": "code",
   "execution_count": 11,
   "id": "16965b93",
   "metadata": {},
   "outputs": [],
   "source": [
    "import glob\n",
    "import re\n",
    "import numpy as np\n",
    "import pandas as pd\n",
    "import clima_anom as ca\n",
    "from netCDF4 import Dataset\n",
    "\n",
    "import matplotlib.pyplot as plt\n",
    "\n",
    "import matplotlib.cbook\n",
    "import matplotlib.gridspec as gridspec\n",
    "\n",
    "import cartopy\n",
    "import cartopy.crs as ccrs"
   ]
  },
  {
   "cell_type": "code",
   "execution_count": 12,
   "id": "e5e968c8",
   "metadata": {},
   "outputs": [],
   "source": [
    "year = '2021'"
   ]
  },
  {
   "cell_type": "code",
   "execution_count": 15,
   "id": "cf8201c7",
   "metadata": {},
   "outputs": [
    {
     "name": "stdout",
     "output_type": "stream",
     "text": [
      "Ano:  2021\n",
      "Mes:  Marzo\n",
      "\n",
      "Time Start: 2021-03-01 00:00:00\n",
      "Time End: 2021-03-31 00:00:00\n",
      "Time Frequency: daily\n",
      "Time Lenght: 31\n",
      "\n",
      "File created in:  /mnt/Data/Data/IMERG/Daily_01x01/IMERG_2021_03_01x01_daily.nc\n",
      "File title:  IMERG precipitation data IR + microwave + gauge 0.1x0.1\n",
      "var title:  prec\n",
      "var units:  mm/dia\n",
      "Ano:  2021\n",
      "Mes:  Abril\n",
      "\n",
      "Time Start: 2021-04-01 00:00:00\n",
      "Time End: 2021-04-30 00:00:00\n",
      "Time Frequency: daily\n",
      "Time Lenght: 30\n",
      "\n",
      "File created in:  /mnt/Data/Data/IMERG/Daily_01x01/IMERG_2021_04_01x01_daily.nc\n",
      "File title:  IMERG precipitation data IR + microwave + gauge 0.1x0.1\n",
      "var title:  prec\n",
      "var units:  mm/dia\n",
      "Ano:  2021\n",
      "Mes:  Mayo\n",
      "\n",
      "Time Start: 2021-05-01 00:00:00\n",
      "Time End: 2021-05-31 00:00:00\n",
      "Time Frequency: daily\n",
      "Time Lenght: 31\n",
      "\n",
      "File created in:  /mnt/Data/Data/IMERG/Daily_01x01/IMERG_2021_05_01x01_daily.nc\n",
      "File title:  IMERG precipitation data IR + microwave + gauge 0.1x0.1\n",
      "var title:  prec\n",
      "var units:  mm/dia\n"
     ]
    }
   ],
   "source": [
    "for t in range(12):\n",
    "\n",
    "    month = str(t+1).zfill(2)\n",
    "    de, _, _, name = ca.days_number(year,month)\n",
    "    \n",
    "    lista = glob.glob('/media/arturo/Arturo/Data/IMERG/raw/'+ year +'/*.nc4')\n",
    "    lista = np.sort(lista)\n",
    "\n",
    "    lista_month = []\n",
    "    for tt in range(len(lista)):\n",
    "        \n",
    "        filename_split = re.split(r'[/.-]+', lista[tt])[13]\n",
    "        \n",
    "        yy = filename_split[0:4]\n",
    "        mm = filename_split[4:6]\n",
    "        \n",
    "        if yy == year and mm == month:\n",
    "\n",
    "            lista_month.append(lista[tt])\n",
    "\n",
    "    salida = np.zeros([de,801,650])\n",
    "\n",
    "    a = 0\n",
    "    for mm in range(de):\n",
    "\n",
    "        # print('dia: ',mm+1)\n",
    "        dd_ref = str(mm+1).zfill(2)\n",
    "        total_dia = 0\n",
    "\n",
    "        for nn in range(len(lista_month)):\n",
    "\n",
    "            filename_split = re.split(r'[/.-]+', lista_month[nn])[13]\n",
    "            dd = filename_split[6:8]\n",
    "\n",
    "            if dd == dd_ref:\n",
    "\n",
    "                data = Dataset(lista_month[nn],mode=\"r\")\n",
    "                prec = data[\"precipitationCal\"][0,:,:].data.T\n",
    "                prec[prec==np.min(prec)]=0\n",
    "\n",
    "                if a == 0:\n",
    "\n",
    "                    total_dia = np.copy(prec)\n",
    "\n",
    "                    lat = np.array(data['lat'])\n",
    "                    lon = np.array(data['lon'])\n",
    "\n",
    "                    lat_bnd = np.where((lat >= -60) & (lat <= 15))[0]\n",
    "                    lat = lat[lat_bnd]\n",
    "                    lon_bnd = np.where((lon >= -90) & (lon <= -30))[0]\n",
    "                    lon = lon[lon_bnd]\n",
    "\n",
    "                total_dia = total_dia + prec\n",
    "\n",
    "            salida[mm,:,:] = total_dia\n",
    "\n",
    "        a = a + 1\n",
    "\n",
    "    salida = salida[:,lat_bnd[0]:lat_bnd[-1]+1,lon_bnd[0]:lon_bnd[-1]+1]\n",
    "    ntime, nlat, nlon = np.shape(salida)\n",
    "\n",
    "    file_name_out = \"/mnt/Data/Data/IMERG/Daily_01x01/IMERG_\"+ year +\"_\"+ month + \"_01x01_daily.nc\"\n",
    "\n",
    "    info = {'file': file_name_out,\n",
    "            'title': 'IMERG precipitation data IR + microwave + gauge 0.1x0.1', \n",
    "            'year_start':int(year),'month_start':int(month),'day_start':1,'hour_start':0,'minute_start':0,\n",
    "            'year_end':int(year),'month_end':int(month),'day_end':de,'hour_end':23,'minute_end':55,\n",
    "            'time_frequency': 'daily', \n",
    "            'time_interval': 1,\n",
    "            'var_name': 'prec', \n",
    "            'var_units': 'mm/dia'}\n",
    "\n",
    "    print()\n",
    "    ca.create_netcdf(info,salida,lat,lon)\n"
   ]
  },
  {
   "cell_type": "code",
   "execution_count": 16,
   "id": "aa1f6528",
   "metadata": {},
   "outputs": [
    {
     "data": {
      "text/plain": [
       "(31, 750, 600)"
      ]
     },
     "execution_count": 16,
     "metadata": {},
     "output_type": "execute_result"
    }
   ],
   "source": [
    "salida.shape"
   ]
  },
  {
   "cell_type": "code",
   "execution_count": 17,
   "id": "1493f96b",
   "metadata": {},
   "outputs": [
    {
     "data": {
      "text/plain": [
       "<matplotlib.image.AxesImage at 0x7fe2823229d0>"
      ]
     },
     "execution_count": 17,
     "metadata": {},
     "output_type": "execute_result"
    },
    {
     "data": {
      "image/png": "[encoded data removed]",
      "text/plain": [
       "<Figure size 432x288 with 1 Axes>"
      ]
     },
     "metadata": {
      "needs_background": "light"
     },
     "output_type": "display_data"
    }
   ],
   "source": [
    "plt.imshow(salida[0,:,:])"
   ]
  },
  {
   "cell_type": "code",
   "execution_count": null,
   "id": "6a108b0f",
   "metadata": {},
   "outputs": [],
   "source": []
  }
 ],
 "metadata": {
  "kernelspec": {
   "display_name": "Python 3 (ipykernel)",
   "language": "python",
   "name": "python3"
  },
  "language_info": {
   "codemirror_mode": {
    "name": "ipython",
    "version": 3
   },
   "file_extension": ".py",
   "mimetype": "text/x-python",
   "name": "python",
   "nbconvert_exporter": "python",
   "pygments_lexer": "ipython3",
   "version": "3.9.7"
  }
 },
 "nbformat": 4,
 "nbformat_minor": 5
}
